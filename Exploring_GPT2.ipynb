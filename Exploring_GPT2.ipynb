{
  "nbformat": 4,
  "nbformat_minor": 0,
  "metadata": {
    "colab": {
      "provenance": [],
      "include_colab_link": true
    },
    "kernelspec": {
      "name": "python3",
      "display_name": "Python 3"
    },
    "language_info": {
      "name": "python"
    },
    "widgets": {
      "application/vnd.jupyter.widget-state+json": {
        "163c25385d174cd8b3be2762cb5e2ab5": {
          "model_module": "@jupyter-widgets/controls",
          "model_name": "HBoxModel",
          "model_module_version": "1.5.0",
          "state": {
            "_dom_classes": [],
            "_model_module": "@jupyter-widgets/controls",
            "_model_module_version": "1.5.0",
            "_model_name": "HBoxModel",
            "_view_count": null,
            "_view_module": "@jupyter-widgets/controls",
            "_view_module_version": "1.5.0",
            "_view_name": "HBoxView",
            "box_style": "",
            "children": [
              "IPY_MODEL_b5a81054b06a4cf59289201021fef670",
              "IPY_MODEL_fed8f70c7b0549f09c6a273170c77e52",
              "IPY_MODEL_d0299cf5c163426ca21e38b637428afc"
            ],
            "layout": "IPY_MODEL_ab02c1a0a2e245408de4e8c67dcddcd2"
          }
        },
        "b5a81054b06a4cf59289201021fef670": {
          "model_module": "@jupyter-widgets/controls",
          "model_name": "HTMLModel",
          "model_module_version": "1.5.0",
          "state": {
            "_dom_classes": [],
            "_model_module": "@jupyter-widgets/controls",
            "_model_module_version": "1.5.0",
            "_model_name": "HTMLModel",
            "_view_count": null,
            "_view_module": "@jupyter-widgets/controls",
            "_view_module_version": "1.5.0",
            "_view_name": "HTMLView",
            "description": "",
            "description_tooltip": null,
            "layout": "IPY_MODEL_2eefad3417874496acd26c46c54bba29",
            "placeholder": "​",
            "style": "IPY_MODEL_867a33c84fb64e9bb3ac47b2b93a662e",
            "value": "Downloading data files: 100%"
          }
        },
        "fed8f70c7b0549f09c6a273170c77e52": {
          "model_module": "@jupyter-widgets/controls",
          "model_name": "FloatProgressModel",
          "model_module_version": "1.5.0",
          "state": {
            "_dom_classes": [],
            "_model_module": "@jupyter-widgets/controls",
            "_model_module_version": "1.5.0",
            "_model_name": "FloatProgressModel",
            "_view_count": null,
            "_view_module": "@jupyter-widgets/controls",
            "_view_module_version": "1.5.0",
            "_view_name": "ProgressView",
            "bar_style": "success",
            "description": "",
            "description_tooltip": null,
            "layout": "IPY_MODEL_ae3268342a2c4f769c502503a8604f8a",
            "max": 1,
            "min": 0,
            "orientation": "horizontal",
            "style": "IPY_MODEL_1ebf384d9e13483b9939f2492dd56810",
            "value": 1
          }
        },
        "d0299cf5c163426ca21e38b637428afc": {
          "model_module": "@jupyter-widgets/controls",
          "model_name": "HTMLModel",
          "model_module_version": "1.5.0",
          "state": {
            "_dom_classes": [],
            "_model_module": "@jupyter-widgets/controls",
            "_model_module_version": "1.5.0",
            "_model_name": "HTMLModel",
            "_view_count": null,
            "_view_module": "@jupyter-widgets/controls",
            "_view_module_version": "1.5.0",
            "_view_name": "HTMLView",
            "description": "",
            "description_tooltip": null,
            "layout": "IPY_MODEL_08ab574d16cc4b81820b166fc072921d",
            "placeholder": "​",
            "style": "IPY_MODEL_630490858b9f45d2b51d07da5e997c34",
            "value": " 1/1 [00:00&lt;00:00, 19.40it/s]"
          }
        },
        "ab02c1a0a2e245408de4e8c67dcddcd2": {
          "model_module": "@jupyter-widgets/base",
          "model_name": "LayoutModel",
          "model_module_version": "1.2.0",
          "state": {
            "_model_module": "@jupyter-widgets/base",
            "_model_module_version": "1.2.0",
            "_model_name": "LayoutModel",
            "_view_count": null,
            "_view_module": "@jupyter-widgets/base",
            "_view_module_version": "1.2.0",
            "_view_name": "LayoutView",
            "align_content": null,
            "align_items": null,
            "align_self": null,
            "border": null,
            "bottom": null,
            "display": null,
            "flex": null,
            "flex_flow": null,
            "grid_area": null,
            "grid_auto_columns": null,
            "grid_auto_flow": null,
            "grid_auto_rows": null,
            "grid_column": null,
            "grid_gap": null,
            "grid_row": null,
            "grid_template_areas": null,
            "grid_template_columns": null,
            "grid_template_rows": null,
            "height": null,
            "justify_content": null,
            "justify_items": null,
            "left": null,
            "margin": null,
            "max_height": null,
            "max_width": null,
            "min_height": null,
            "min_width": null,
            "object_fit": null,
            "object_position": null,
            "order": null,
            "overflow": null,
            "overflow_x": null,
            "overflow_y": null,
            "padding": null,
            "right": null,
            "top": null,
            "visibility": null,
            "width": null
          }
        },
        "2eefad3417874496acd26c46c54bba29": {
          "model_module": "@jupyter-widgets/base",
          "model_name": "LayoutModel",
          "model_module_version": "1.2.0",
          "state": {
            "_model_module": "@jupyter-widgets/base",
            "_model_module_version": "1.2.0",
            "_model_name": "LayoutModel",
            "_view_count": null,
            "_view_module": "@jupyter-widgets/base",
            "_view_module_version": "1.2.0",
            "_view_name": "LayoutView",
            "align_content": null,
            "align_items": null,
            "align_self": null,
            "border": null,
            "bottom": null,
            "display": null,
            "flex": null,
            "flex_flow": null,
            "grid_area": null,
            "grid_auto_columns": null,
            "grid_auto_flow": null,
            "grid_auto_rows": null,
            "grid_column": null,
            "grid_gap": null,
            "grid_row": null,
            "grid_template_areas": null,
            "grid_template_columns": null,
            "grid_template_rows": null,
            "height": null,
            "justify_content": null,
            "justify_items": null,
            "left": null,
            "margin": null,
            "max_height": null,
            "max_width": null,
            "min_height": null,
            "min_width": null,
            "object_fit": null,
            "object_position": null,
            "order": null,
            "overflow": null,
            "overflow_x": null,
            "overflow_y": null,
            "padding": null,
            "right": null,
            "top": null,
            "visibility": null,
            "width": null
          }
        },
        "867a33c84fb64e9bb3ac47b2b93a662e": {
          "model_module": "@jupyter-widgets/controls",
          "model_name": "DescriptionStyleModel",
          "model_module_version": "1.5.0",
          "state": {
            "_model_module": "@jupyter-widgets/controls",
            "_model_module_version": "1.5.0",
            "_model_name": "DescriptionStyleModel",
            "_view_count": null,
            "_view_module": "@jupyter-widgets/base",
            "_view_module_version": "1.2.0",
            "_view_name": "StyleView",
            "description_width": ""
          }
        },
        "ae3268342a2c4f769c502503a8604f8a": {
          "model_module": "@jupyter-widgets/base",
          "model_name": "LayoutModel",
          "model_module_version": "1.2.0",
          "state": {
            "_model_module": "@jupyter-widgets/base",
            "_model_module_version": "1.2.0",
            "_model_name": "LayoutModel",
            "_view_count": null,
            "_view_module": "@jupyter-widgets/base",
            "_view_module_version": "1.2.0",
            "_view_name": "LayoutView",
            "align_content": null,
            "align_items": null,
            "align_self": null,
            "border": null,
            "bottom": null,
            "display": null,
            "flex": null,
            "flex_flow": null,
            "grid_area": null,
            "grid_auto_columns": null,
            "grid_auto_flow": null,
            "grid_auto_rows": null,
            "grid_column": null,
            "grid_gap": null,
            "grid_row": null,
            "grid_template_areas": null,
            "grid_template_columns": null,
            "grid_template_rows": null,
            "height": null,
            "justify_content": null,
            "justify_items": null,
            "left": null,
            "margin": null,
            "max_height": null,
            "max_width": null,
            "min_height": null,
            "min_width": null,
            "object_fit": null,
            "object_position": null,
            "order": null,
            "overflow": null,
            "overflow_x": null,
            "overflow_y": null,
            "padding": null,
            "right": null,
            "top": null,
            "visibility": null,
            "width": null
          }
        },
        "1ebf384d9e13483b9939f2492dd56810": {
          "model_module": "@jupyter-widgets/controls",
          "model_name": "ProgressStyleModel",
          "model_module_version": "1.5.0",
          "state": {
            "_model_module": "@jupyter-widgets/controls",
            "_model_module_version": "1.5.0",
            "_model_name": "ProgressStyleModel",
            "_view_count": null,
            "_view_module": "@jupyter-widgets/base",
            "_view_module_version": "1.2.0",
            "_view_name": "StyleView",
            "bar_color": null,
            "description_width": ""
          }
        },
        "08ab574d16cc4b81820b166fc072921d": {
          "model_module": "@jupyter-widgets/base",
          "model_name": "LayoutModel",
          "model_module_version": "1.2.0",
          "state": {
            "_model_module": "@jupyter-widgets/base",
            "_model_module_version": "1.2.0",
            "_model_name": "LayoutModel",
            "_view_count": null,
            "_view_module": "@jupyter-widgets/base",
            "_view_module_version": "1.2.0",
            "_view_name": "LayoutView",
            "align_content": null,
            "align_items": null,
            "align_self": null,
            "border": null,
            "bottom": null,
            "display": null,
            "flex": null,
            "flex_flow": null,
            "grid_area": null,
            "grid_auto_columns": null,
            "grid_auto_flow": null,
            "grid_auto_rows": null,
            "grid_column": null,
            "grid_gap": null,
            "grid_row": null,
            "grid_template_areas": null,
            "grid_template_columns": null,
            "grid_template_rows": null,
            "height": null,
            "justify_content": null,
            "justify_items": null,
            "left": null,
            "margin": null,
            "max_height": null,
            "max_width": null,
            "min_height": null,
            "min_width": null,
            "object_fit": null,
            "object_position": null,
            "order": null,
            "overflow": null,
            "overflow_x": null,
            "overflow_y": null,
            "padding": null,
            "right": null,
            "top": null,
            "visibility": null,
            "width": null
          }
        },
        "630490858b9f45d2b51d07da5e997c34": {
          "model_module": "@jupyter-widgets/controls",
          "model_name": "DescriptionStyleModel",
          "model_module_version": "1.5.0",
          "state": {
            "_model_module": "@jupyter-widgets/controls",
            "_model_module_version": "1.5.0",
            "_model_name": "DescriptionStyleModel",
            "_view_count": null,
            "_view_module": "@jupyter-widgets/base",
            "_view_module_version": "1.2.0",
            "_view_name": "StyleView",
            "description_width": ""
          }
        },
        "fd0ff34512bb4cde988af30290dd2b61": {
          "model_module": "@jupyter-widgets/controls",
          "model_name": "HBoxModel",
          "model_module_version": "1.5.0",
          "state": {
            "_dom_classes": [],
            "_model_module": "@jupyter-widgets/controls",
            "_model_module_version": "1.5.0",
            "_model_name": "HBoxModel",
            "_view_count": null,
            "_view_module": "@jupyter-widgets/controls",
            "_view_module_version": "1.5.0",
            "_view_name": "HBoxView",
            "box_style": "",
            "children": [
              "IPY_MODEL_c056a27849b74a879740adcb7b7c1d6e",
              "IPY_MODEL_5f69a51f6e5446068125029d832ce1f5",
              "IPY_MODEL_60fd5e6cddef45768c25b7e519a2ab0d"
            ],
            "layout": "IPY_MODEL_3e2a299f2ba2425dae243da5b801974c"
          }
        },
        "c056a27849b74a879740adcb7b7c1d6e": {
          "model_module": "@jupyter-widgets/controls",
          "model_name": "HTMLModel",
          "model_module_version": "1.5.0",
          "state": {
            "_dom_classes": [],
            "_model_module": "@jupyter-widgets/controls",
            "_model_module_version": "1.5.0",
            "_model_name": "HTMLModel",
            "_view_count": null,
            "_view_module": "@jupyter-widgets/controls",
            "_view_module_version": "1.5.0",
            "_view_name": "HTMLView",
            "description": "",
            "description_tooltip": null,
            "layout": "IPY_MODEL_83f516d64c424301a2a10e63ae67135e",
            "placeholder": "​",
            "style": "IPY_MODEL_65e231eaea994721a2f0431271db1624",
            "value": "Extracting data files: 100%"
          }
        },
        "5f69a51f6e5446068125029d832ce1f5": {
          "model_module": "@jupyter-widgets/controls",
          "model_name": "FloatProgressModel",
          "model_module_version": "1.5.0",
          "state": {
            "_dom_classes": [],
            "_model_module": "@jupyter-widgets/controls",
            "_model_module_version": "1.5.0",
            "_model_name": "FloatProgressModel",
            "_view_count": null,
            "_view_module": "@jupyter-widgets/controls",
            "_view_module_version": "1.5.0",
            "_view_name": "ProgressView",
            "bar_style": "success",
            "description": "",
            "description_tooltip": null,
            "layout": "IPY_MODEL_257b74c0089a46778369be639ece8385",
            "max": 1,
            "min": 0,
            "orientation": "horizontal",
            "style": "IPY_MODEL_765da23121774f3f8d03f57b0f0c0296",
            "value": 1
          }
        },
        "60fd5e6cddef45768c25b7e519a2ab0d": {
          "model_module": "@jupyter-widgets/controls",
          "model_name": "HTMLModel",
          "model_module_version": "1.5.0",
          "state": {
            "_dom_classes": [],
            "_model_module": "@jupyter-widgets/controls",
            "_model_module_version": "1.5.0",
            "_model_name": "HTMLModel",
            "_view_count": null,
            "_view_module": "@jupyter-widgets/controls",
            "_view_module_version": "1.5.0",
            "_view_name": "HTMLView",
            "description": "",
            "description_tooltip": null,
            "layout": "IPY_MODEL_c9977522cbdb4f4db82cae8bf56440ba",
            "placeholder": "​",
            "style": "IPY_MODEL_6e349df039fe4dc7a7482b459fb8960b",
            "value": " 1/1 [00:00&lt;00:00, 19.07it/s]"
          }
        },
        "3e2a299f2ba2425dae243da5b801974c": {
          "model_module": "@jupyter-widgets/base",
          "model_name": "LayoutModel",
          "model_module_version": "1.2.0",
          "state": {
            "_model_module": "@jupyter-widgets/base",
            "_model_module_version": "1.2.0",
            "_model_name": "LayoutModel",
            "_view_count": null,
            "_view_module": "@jupyter-widgets/base",
            "_view_module_version": "1.2.0",
            "_view_name": "LayoutView",
            "align_content": null,
            "align_items": null,
            "align_self": null,
            "border": null,
            "bottom": null,
            "display": null,
            "flex": null,
            "flex_flow": null,
            "grid_area": null,
            "grid_auto_columns": null,
            "grid_auto_flow": null,
            "grid_auto_rows": null,
            "grid_column": null,
            "grid_gap": null,
            "grid_row": null,
            "grid_template_areas": null,
            "grid_template_columns": null,
            "grid_template_rows": null,
            "height": null,
            "justify_content": null,
            "justify_items": null,
            "left": null,
            "margin": null,
            "max_height": null,
            "max_width": null,
            "min_height": null,
            "min_width": null,
            "object_fit": null,
            "object_position": null,
            "order": null,
            "overflow": null,
            "overflow_x": null,
            "overflow_y": null,
            "padding": null,
            "right": null,
            "top": null,
            "visibility": null,
            "width": null
          }
        },
        "83f516d64c424301a2a10e63ae67135e": {
          "model_module": "@jupyter-widgets/base",
          "model_name": "LayoutModel",
          "model_module_version": "1.2.0",
          "state": {
            "_model_module": "@jupyter-widgets/base",
            "_model_module_version": "1.2.0",
            "_model_name": "LayoutModel",
            "_view_count": null,
            "_view_module": "@jupyter-widgets/base",
            "_view_module_version": "1.2.0",
            "_view_name": "LayoutView",
            "align_content": null,
            "align_items": null,
            "align_self": null,
            "border": null,
            "bottom": null,
            "display": null,
            "flex": null,
            "flex_flow": null,
            "grid_area": null,
            "grid_auto_columns": null,
            "grid_auto_flow": null,
            "grid_auto_rows": null,
            "grid_column": null,
            "grid_gap": null,
            "grid_row": null,
            "grid_template_areas": null,
            "grid_template_columns": null,
            "grid_template_rows": null,
            "height": null,
            "justify_content": null,
            "justify_items": null,
            "left": null,
            "margin": null,
            "max_height": null,
            "max_width": null,
            "min_height": null,
            "min_width": null,
            "object_fit": null,
            "object_position": null,
            "order": null,
            "overflow": null,
            "overflow_x": null,
            "overflow_y": null,
            "padding": null,
            "right": null,
            "top": null,
            "visibility": null,
            "width": null
          }
        },
        "65e231eaea994721a2f0431271db1624": {
          "model_module": "@jupyter-widgets/controls",
          "model_name": "DescriptionStyleModel",
          "model_module_version": "1.5.0",
          "state": {
            "_model_module": "@jupyter-widgets/controls",
            "_model_module_version": "1.5.0",
            "_model_name": "DescriptionStyleModel",
            "_view_count": null,
            "_view_module": "@jupyter-widgets/base",
            "_view_module_version": "1.2.0",
            "_view_name": "StyleView",
            "description_width": ""
          }
        },
        "257b74c0089a46778369be639ece8385": {
          "model_module": "@jupyter-widgets/base",
          "model_name": "LayoutModel",
          "model_module_version": "1.2.0",
          "state": {
            "_model_module": "@jupyter-widgets/base",
            "_model_module_version": "1.2.0",
            "_model_name": "LayoutModel",
            "_view_count": null,
            "_view_module": "@jupyter-widgets/base",
            "_view_module_version": "1.2.0",
            "_view_name": "LayoutView",
            "align_content": null,
            "align_items": null,
            "align_self": null,
            "border": null,
            "bottom": null,
            "display": null,
            "flex": null,
            "flex_flow": null,
            "grid_area": null,
            "grid_auto_columns": null,
            "grid_auto_flow": null,
            "grid_auto_rows": null,
            "grid_column": null,
            "grid_gap": null,
            "grid_row": null,
            "grid_template_areas": null,
            "grid_template_columns": null,
            "grid_template_rows": null,
            "height": null,
            "justify_content": null,
            "justify_items": null,
            "left": null,
            "margin": null,
            "max_height": null,
            "max_width": null,
            "min_height": null,
            "min_width": null,
            "object_fit": null,
            "object_position": null,
            "order": null,
            "overflow": null,
            "overflow_x": null,
            "overflow_y": null,
            "padding": null,
            "right": null,
            "top": null,
            "visibility": null,
            "width": null
          }
        },
        "765da23121774f3f8d03f57b0f0c0296": {
          "model_module": "@jupyter-widgets/controls",
          "model_name": "ProgressStyleModel",
          "model_module_version": "1.5.0",
          "state": {
            "_model_module": "@jupyter-widgets/controls",
            "_model_module_version": "1.5.0",
            "_model_name": "ProgressStyleModel",
            "_view_count": null,
            "_view_module": "@jupyter-widgets/base",
            "_view_module_version": "1.2.0",
            "_view_name": "StyleView",
            "bar_color": null,
            "description_width": ""
          }
        },
        "c9977522cbdb4f4db82cae8bf56440ba": {
          "model_module": "@jupyter-widgets/base",
          "model_name": "LayoutModel",
          "model_module_version": "1.2.0",
          "state": {
            "_model_module": "@jupyter-widgets/base",
            "_model_module_version": "1.2.0",
            "_model_name": "LayoutModel",
            "_view_count": null,
            "_view_module": "@jupyter-widgets/base",
            "_view_module_version": "1.2.0",
            "_view_name": "LayoutView",
            "align_content": null,
            "align_items": null,
            "align_self": null,
            "border": null,
            "bottom": null,
            "display": null,
            "flex": null,
            "flex_flow": null,
            "grid_area": null,
            "grid_auto_columns": null,
            "grid_auto_flow": null,
            "grid_auto_rows": null,
            "grid_column": null,
            "grid_gap": null,
            "grid_row": null,
            "grid_template_areas": null,
            "grid_template_columns": null,
            "grid_template_rows": null,
            "height": null,
            "justify_content": null,
            "justify_items": null,
            "left": null,
            "margin": null,
            "max_height": null,
            "max_width": null,
            "min_height": null,
            "min_width": null,
            "object_fit": null,
            "object_position": null,
            "order": null,
            "overflow": null,
            "overflow_x": null,
            "overflow_y": null,
            "padding": null,
            "right": null,
            "top": null,
            "visibility": null,
            "width": null
          }
        },
        "6e349df039fe4dc7a7482b459fb8960b": {
          "model_module": "@jupyter-widgets/controls",
          "model_name": "DescriptionStyleModel",
          "model_module_version": "1.5.0",
          "state": {
            "_model_module": "@jupyter-widgets/controls",
            "_model_module_version": "1.5.0",
            "_model_name": "DescriptionStyleModel",
            "_view_count": null,
            "_view_module": "@jupyter-widgets/base",
            "_view_module_version": "1.2.0",
            "_view_name": "StyleView",
            "description_width": ""
          }
        },
        "ade6780ca21f404aaa8cde08f8275626": {
          "model_module": "@jupyter-widgets/controls",
          "model_name": "HBoxModel",
          "model_module_version": "1.5.0",
          "state": {
            "_dom_classes": [],
            "_model_module": "@jupyter-widgets/controls",
            "_model_module_version": "1.5.0",
            "_model_name": "HBoxModel",
            "_view_count": null,
            "_view_module": "@jupyter-widgets/controls",
            "_view_module_version": "1.5.0",
            "_view_name": "HBoxView",
            "box_style": "",
            "children": [
              "IPY_MODEL_baf0c148040f417b886e90a56e23063c",
              "IPY_MODEL_ad4f1bd5b387431daa74203f519cbcf8",
              "IPY_MODEL_c057f820d6a64812895da6db83815fe5"
            ],
            "layout": "IPY_MODEL_d5c3310c48ee4a59be05b9345d5b8334"
          }
        },
        "baf0c148040f417b886e90a56e23063c": {
          "model_module": "@jupyter-widgets/controls",
          "model_name": "HTMLModel",
          "model_module_version": "1.5.0",
          "state": {
            "_dom_classes": [],
            "_model_module": "@jupyter-widgets/controls",
            "_model_module_version": "1.5.0",
            "_model_name": "HTMLModel",
            "_view_count": null,
            "_view_module": "@jupyter-widgets/controls",
            "_view_module_version": "1.5.0",
            "_view_name": "HTMLView",
            "description": "",
            "description_tooltip": null,
            "layout": "IPY_MODEL_a7aae5d65ee340f0b541bee9232ee8fe",
            "placeholder": "​",
            "style": "IPY_MODEL_b0f1e010c4d24d88a6da910307cf56ff",
            "value": ""
          }
        },
        "ad4f1bd5b387431daa74203f519cbcf8": {
          "model_module": "@jupyter-widgets/controls",
          "model_name": "FloatProgressModel",
          "model_module_version": "1.5.0",
          "state": {
            "_dom_classes": [],
            "_model_module": "@jupyter-widgets/controls",
            "_model_module_version": "1.5.0",
            "_model_name": "FloatProgressModel",
            "_view_count": null,
            "_view_module": "@jupyter-widgets/controls",
            "_view_module_version": "1.5.0",
            "_view_name": "ProgressView",
            "bar_style": "info",
            "description": "",
            "description_tooltip": null,
            "layout": "IPY_MODEL_ce9bf688480641d7bac7e0077618db8a",
            "max": 1,
            "min": 0,
            "orientation": "horizontal",
            "style": "IPY_MODEL_2ee7360ee0ca46c3a2f5172c35d496a7",
            "value": 1
          }
        },
        "c057f820d6a64812895da6db83815fe5": {
          "model_module": "@jupyter-widgets/controls",
          "model_name": "HTMLModel",
          "model_module_version": "1.5.0",
          "state": {
            "_dom_classes": [],
            "_model_module": "@jupyter-widgets/controls",
            "_model_module_version": "1.5.0",
            "_model_name": "HTMLModel",
            "_view_count": null,
            "_view_module": "@jupyter-widgets/controls",
            "_view_module_version": "1.5.0",
            "_view_name": "HTMLView",
            "description": "",
            "description_tooltip": null,
            "layout": "IPY_MODEL_75d7ed1c22cd4b3f9972e29104bee06d",
            "placeholder": "​",
            "style": "IPY_MODEL_f3da80538e8e4db9aa545894928ece3e",
            "value": " 0/? [00:00&lt;?, ? tables/s]"
          }
        },
        "d5c3310c48ee4a59be05b9345d5b8334": {
          "model_module": "@jupyter-widgets/base",
          "model_name": "LayoutModel",
          "model_module_version": "1.2.0",
          "state": {
            "_model_module": "@jupyter-widgets/base",
            "_model_module_version": "1.2.0",
            "_model_name": "LayoutModel",
            "_view_count": null,
            "_view_module": "@jupyter-widgets/base",
            "_view_module_version": "1.2.0",
            "_view_name": "LayoutView",
            "align_content": null,
            "align_items": null,
            "align_self": null,
            "border": null,
            "bottom": null,
            "display": null,
            "flex": null,
            "flex_flow": null,
            "grid_area": null,
            "grid_auto_columns": null,
            "grid_auto_flow": null,
            "grid_auto_rows": null,
            "grid_column": null,
            "grid_gap": null,
            "grid_row": null,
            "grid_template_areas": null,
            "grid_template_columns": null,
            "grid_template_rows": null,
            "height": null,
            "justify_content": null,
            "justify_items": null,
            "left": null,
            "margin": null,
            "max_height": null,
            "max_width": null,
            "min_height": null,
            "min_width": null,
            "object_fit": null,
            "object_position": null,
            "order": null,
            "overflow": null,
            "overflow_x": null,
            "overflow_y": null,
            "padding": null,
            "right": null,
            "top": null,
            "visibility": null,
            "width": null
          }
        },
        "a7aae5d65ee340f0b541bee9232ee8fe": {
          "model_module": "@jupyter-widgets/base",
          "model_name": "LayoutModel",
          "model_module_version": "1.2.0",
          "state": {
            "_model_module": "@jupyter-widgets/base",
            "_model_module_version": "1.2.0",
            "_model_name": "LayoutModel",
            "_view_count": null,
            "_view_module": "@jupyter-widgets/base",
            "_view_module_version": "1.2.0",
            "_view_name": "LayoutView",
            "align_content": null,
            "align_items": null,
            "align_self": null,
            "border": null,
            "bottom": null,
            "display": null,
            "flex": null,
            "flex_flow": null,
            "grid_area": null,
            "grid_auto_columns": null,
            "grid_auto_flow": null,
            "grid_auto_rows": null,
            "grid_column": null,
            "grid_gap": null,
            "grid_row": null,
            "grid_template_areas": null,
            "grid_template_columns": null,
            "grid_template_rows": null,
            "height": null,
            "justify_content": null,
            "justify_items": null,
            "left": null,
            "margin": null,
            "max_height": null,
            "max_width": null,
            "min_height": null,
            "min_width": null,
            "object_fit": null,
            "object_position": null,
            "order": null,
            "overflow": null,
            "overflow_x": null,
            "overflow_y": null,
            "padding": null,
            "right": null,
            "top": null,
            "visibility": null,
            "width": null
          }
        },
        "b0f1e010c4d24d88a6da910307cf56ff": {
          "model_module": "@jupyter-widgets/controls",
          "model_name": "DescriptionStyleModel",
          "model_module_version": "1.5.0",
          "state": {
            "_model_module": "@jupyter-widgets/controls",
            "_model_module_version": "1.5.0",
            "_model_name": "DescriptionStyleModel",
            "_view_count": null,
            "_view_module": "@jupyter-widgets/base",
            "_view_module_version": "1.2.0",
            "_view_name": "StyleView",
            "description_width": ""
          }
        },
        "ce9bf688480641d7bac7e0077618db8a": {
          "model_module": "@jupyter-widgets/base",
          "model_name": "LayoutModel",
          "model_module_version": "1.2.0",
          "state": {
            "_model_module": "@jupyter-widgets/base",
            "_model_module_version": "1.2.0",
            "_model_name": "LayoutModel",
            "_view_count": null,
            "_view_module": "@jupyter-widgets/base",
            "_view_module_version": "1.2.0",
            "_view_name": "LayoutView",
            "align_content": null,
            "align_items": null,
            "align_self": null,
            "border": null,
            "bottom": null,
            "display": null,
            "flex": null,
            "flex_flow": null,
            "grid_area": null,
            "grid_auto_columns": null,
            "grid_auto_flow": null,
            "grid_auto_rows": null,
            "grid_column": null,
            "grid_gap": null,
            "grid_row": null,
            "grid_template_areas": null,
            "grid_template_columns": null,
            "grid_template_rows": null,
            "height": null,
            "justify_content": null,
            "justify_items": null,
            "left": null,
            "margin": null,
            "max_height": null,
            "max_width": null,
            "min_height": null,
            "min_width": null,
            "object_fit": null,
            "object_position": null,
            "order": null,
            "overflow": null,
            "overflow_x": null,
            "overflow_y": null,
            "padding": null,
            "right": null,
            "top": null,
            "visibility": null,
            "width": "20px"
          }
        },
        "2ee7360ee0ca46c3a2f5172c35d496a7": {
          "model_module": "@jupyter-widgets/controls",
          "model_name": "ProgressStyleModel",
          "model_module_version": "1.5.0",
          "state": {
            "_model_module": "@jupyter-widgets/controls",
            "_model_module_version": "1.5.0",
            "_model_name": "ProgressStyleModel",
            "_view_count": null,
            "_view_module": "@jupyter-widgets/base",
            "_view_module_version": "1.2.0",
            "_view_name": "StyleView",
            "bar_color": null,
            "description_width": ""
          }
        },
        "75d7ed1c22cd4b3f9972e29104bee06d": {
          "model_module": "@jupyter-widgets/base",
          "model_name": "LayoutModel",
          "model_module_version": "1.2.0",
          "state": {
            "_model_module": "@jupyter-widgets/base",
            "_model_module_version": "1.2.0",
            "_model_name": "LayoutModel",
            "_view_count": null,
            "_view_module": "@jupyter-widgets/base",
            "_view_module_version": "1.2.0",
            "_view_name": "LayoutView",
            "align_content": null,
            "align_items": null,
            "align_self": null,
            "border": null,
            "bottom": null,
            "display": null,
            "flex": null,
            "flex_flow": null,
            "grid_area": null,
            "grid_auto_columns": null,
            "grid_auto_flow": null,
            "grid_auto_rows": null,
            "grid_column": null,
            "grid_gap": null,
            "grid_row": null,
            "grid_template_areas": null,
            "grid_template_columns": null,
            "grid_template_rows": null,
            "height": null,
            "justify_content": null,
            "justify_items": null,
            "left": null,
            "margin": null,
            "max_height": null,
            "max_width": null,
            "min_height": null,
            "min_width": null,
            "object_fit": null,
            "object_position": null,
            "order": null,
            "overflow": null,
            "overflow_x": null,
            "overflow_y": null,
            "padding": null,
            "right": null,
            "top": null,
            "visibility": null,
            "width": null
          }
        },
        "f3da80538e8e4db9aa545894928ece3e": {
          "model_module": "@jupyter-widgets/controls",
          "model_name": "DescriptionStyleModel",
          "model_module_version": "1.5.0",
          "state": {
            "_model_module": "@jupyter-widgets/controls",
            "_model_module_version": "1.5.0",
            "_model_name": "DescriptionStyleModel",
            "_view_count": null,
            "_view_module": "@jupyter-widgets/base",
            "_view_module_version": "1.2.0",
            "_view_name": "StyleView",
            "description_width": ""
          }
        },
        "cfc946da255042ed9e36285fa90d7db6": {
          "model_module": "@jupyter-widgets/controls",
          "model_name": "HBoxModel",
          "model_module_version": "1.5.0",
          "state": {
            "_dom_classes": [],
            "_model_module": "@jupyter-widgets/controls",
            "_model_module_version": "1.5.0",
            "_model_name": "HBoxModel",
            "_view_count": null,
            "_view_module": "@jupyter-widgets/controls",
            "_view_module_version": "1.5.0",
            "_view_name": "HBoxView",
            "box_style": "",
            "children": [
              "IPY_MODEL_5a276b04f795423d845ab215d4bee32c",
              "IPY_MODEL_d7008957df2949e98e83f493ee240306",
              "IPY_MODEL_53fdeaf4243841abafa05d82620ec26c"
            ],
            "layout": "IPY_MODEL_c6ca034fb9c046f2a36367de8dda3138"
          }
        },
        "5a276b04f795423d845ab215d4bee32c": {
          "model_module": "@jupyter-widgets/controls",
          "model_name": "HTMLModel",
          "model_module_version": "1.5.0",
          "state": {
            "_dom_classes": [],
            "_model_module": "@jupyter-widgets/controls",
            "_model_module_version": "1.5.0",
            "_model_name": "HTMLModel",
            "_view_count": null,
            "_view_module": "@jupyter-widgets/controls",
            "_view_module_version": "1.5.0",
            "_view_name": "HTMLView",
            "description": "",
            "description_tooltip": null,
            "layout": "IPY_MODEL_2259b797e4e347aca59f98d9fbf4b6a0",
            "placeholder": "​",
            "style": "IPY_MODEL_8c8166b721724d1fad507d124e6d4488",
            "value": "100%"
          }
        },
        "d7008957df2949e98e83f493ee240306": {
          "model_module": "@jupyter-widgets/controls",
          "model_name": "FloatProgressModel",
          "model_module_version": "1.5.0",
          "state": {
            "_dom_classes": [],
            "_model_module": "@jupyter-widgets/controls",
            "_model_module_version": "1.5.0",
            "_model_name": "FloatProgressModel",
            "_view_count": null,
            "_view_module": "@jupyter-widgets/controls",
            "_view_module_version": "1.5.0",
            "_view_name": "ProgressView",
            "bar_style": "success",
            "description": "",
            "description_tooltip": null,
            "layout": "IPY_MODEL_e34e2a5d318f4d9890cb9a31853722fd",
            "max": 1,
            "min": 0,
            "orientation": "horizontal",
            "style": "IPY_MODEL_c2cd4edeb6694a9cb05599ea64e320ca",
            "value": 1
          }
        },
        "53fdeaf4243841abafa05d82620ec26c": {
          "model_module": "@jupyter-widgets/controls",
          "model_name": "HTMLModel",
          "model_module_version": "1.5.0",
          "state": {
            "_dom_classes": [],
            "_model_module": "@jupyter-widgets/controls",
            "_model_module_version": "1.5.0",
            "_model_name": "HTMLModel",
            "_view_count": null,
            "_view_module": "@jupyter-widgets/controls",
            "_view_module_version": "1.5.0",
            "_view_name": "HTMLView",
            "description": "",
            "description_tooltip": null,
            "layout": "IPY_MODEL_213d9dbf8a8440d3a3901e707c2a2e1e",
            "placeholder": "​",
            "style": "IPY_MODEL_5663e099ea014e398e4275fb8ba3ed5e",
            "value": " 1/1 [00:00&lt;00:00, 15.12it/s]"
          }
        },
        "c6ca034fb9c046f2a36367de8dda3138": {
          "model_module": "@jupyter-widgets/base",
          "model_name": "LayoutModel",
          "model_module_version": "1.2.0",
          "state": {
            "_model_module": "@jupyter-widgets/base",
            "_model_module_version": "1.2.0",
            "_model_name": "LayoutModel",
            "_view_count": null,
            "_view_module": "@jupyter-widgets/base",
            "_view_module_version": "1.2.0",
            "_view_name": "LayoutView",
            "align_content": null,
            "align_items": null,
            "align_self": null,
            "border": null,
            "bottom": null,
            "display": null,
            "flex": null,
            "flex_flow": null,
            "grid_area": null,
            "grid_auto_columns": null,
            "grid_auto_flow": null,
            "grid_auto_rows": null,
            "grid_column": null,
            "grid_gap": null,
            "grid_row": null,
            "grid_template_areas": null,
            "grid_template_columns": null,
            "grid_template_rows": null,
            "height": null,
            "justify_content": null,
            "justify_items": null,
            "left": null,
            "margin": null,
            "max_height": null,
            "max_width": null,
            "min_height": null,
            "min_width": null,
            "object_fit": null,
            "object_position": null,
            "order": null,
            "overflow": null,
            "overflow_x": null,
            "overflow_y": null,
            "padding": null,
            "right": null,
            "top": null,
            "visibility": null,
            "width": null
          }
        },
        "2259b797e4e347aca59f98d9fbf4b6a0": {
          "model_module": "@jupyter-widgets/base",
          "model_name": "LayoutModel",
          "model_module_version": "1.2.0",
          "state": {
            "_model_module": "@jupyter-widgets/base",
            "_model_module_version": "1.2.0",
            "_model_name": "LayoutModel",
            "_view_count": null,
            "_view_module": "@jupyter-widgets/base",
            "_view_module_version": "1.2.0",
            "_view_name": "LayoutView",
            "align_content": null,
            "align_items": null,
            "align_self": null,
            "border": null,
            "bottom": null,
            "display": null,
            "flex": null,
            "flex_flow": null,
            "grid_area": null,
            "grid_auto_columns": null,
            "grid_auto_flow": null,
            "grid_auto_rows": null,
            "grid_column": null,
            "grid_gap": null,
            "grid_row": null,
            "grid_template_areas": null,
            "grid_template_columns": null,
            "grid_template_rows": null,
            "height": null,
            "justify_content": null,
            "justify_items": null,
            "left": null,
            "margin": null,
            "max_height": null,
            "max_width": null,
            "min_height": null,
            "min_width": null,
            "object_fit": null,
            "object_position": null,
            "order": null,
            "overflow": null,
            "overflow_x": null,
            "overflow_y": null,
            "padding": null,
            "right": null,
            "top": null,
            "visibility": null,
            "width": null
          }
        },
        "8c8166b721724d1fad507d124e6d4488": {
          "model_module": "@jupyter-widgets/controls",
          "model_name": "DescriptionStyleModel",
          "model_module_version": "1.5.0",
          "state": {
            "_model_module": "@jupyter-widgets/controls",
            "_model_module_version": "1.5.0",
            "_model_name": "DescriptionStyleModel",
            "_view_count": null,
            "_view_module": "@jupyter-widgets/base",
            "_view_module_version": "1.2.0",
            "_view_name": "StyleView",
            "description_width": ""
          }
        },
        "e34e2a5d318f4d9890cb9a31853722fd": {
          "model_module": "@jupyter-widgets/base",
          "model_name": "LayoutModel",
          "model_module_version": "1.2.0",
          "state": {
            "_model_module": "@jupyter-widgets/base",
            "_model_module_version": "1.2.0",
            "_model_name": "LayoutModel",
            "_view_count": null,
            "_view_module": "@jupyter-widgets/base",
            "_view_module_version": "1.2.0",
            "_view_name": "LayoutView",
            "align_content": null,
            "align_items": null,
            "align_self": null,
            "border": null,
            "bottom": null,
            "display": null,
            "flex": null,
            "flex_flow": null,
            "grid_area": null,
            "grid_auto_columns": null,
            "grid_auto_flow": null,
            "grid_auto_rows": null,
            "grid_column": null,
            "grid_gap": null,
            "grid_row": null,
            "grid_template_areas": null,
            "grid_template_columns": null,
            "grid_template_rows": null,
            "height": null,
            "justify_content": null,
            "justify_items": null,
            "left": null,
            "margin": null,
            "max_height": null,
            "max_width": null,
            "min_height": null,
            "min_width": null,
            "object_fit": null,
            "object_position": null,
            "order": null,
            "overflow": null,
            "overflow_x": null,
            "overflow_y": null,
            "padding": null,
            "right": null,
            "top": null,
            "visibility": null,
            "width": null
          }
        },
        "c2cd4edeb6694a9cb05599ea64e320ca": {
          "model_module": "@jupyter-widgets/controls",
          "model_name": "ProgressStyleModel",
          "model_module_version": "1.5.0",
          "state": {
            "_model_module": "@jupyter-widgets/controls",
            "_model_module_version": "1.5.0",
            "_model_name": "ProgressStyleModel",
            "_view_count": null,
            "_view_module": "@jupyter-widgets/base",
            "_view_module_version": "1.2.0",
            "_view_name": "StyleView",
            "bar_color": null,
            "description_width": ""
          }
        },
        "213d9dbf8a8440d3a3901e707c2a2e1e": {
          "model_module": "@jupyter-widgets/base",
          "model_name": "LayoutModel",
          "model_module_version": "1.2.0",
          "state": {
            "_model_module": "@jupyter-widgets/base",
            "_model_module_version": "1.2.0",
            "_model_name": "LayoutModel",
            "_view_count": null,
            "_view_module": "@jupyter-widgets/base",
            "_view_module_version": "1.2.0",
            "_view_name": "LayoutView",
            "align_content": null,
            "align_items": null,
            "align_self": null,
            "border": null,
            "bottom": null,
            "display": null,
            "flex": null,
            "flex_flow": null,
            "grid_area": null,
            "grid_auto_columns": null,
            "grid_auto_flow": null,
            "grid_auto_rows": null,
            "grid_column": null,
            "grid_gap": null,
            "grid_row": null,
            "grid_template_areas": null,
            "grid_template_columns": null,
            "grid_template_rows": null,
            "height": null,
            "justify_content": null,
            "justify_items": null,
            "left": null,
            "margin": null,
            "max_height": null,
            "max_width": null,
            "min_height": null,
            "min_width": null,
            "object_fit": null,
            "object_position": null,
            "order": null,
            "overflow": null,
            "overflow_x": null,
            "overflow_y": null,
            "padding": null,
            "right": null,
            "top": null,
            "visibility": null,
            "width": null
          }
        },
        "5663e099ea014e398e4275fb8ba3ed5e": {
          "model_module": "@jupyter-widgets/controls",
          "model_name": "DescriptionStyleModel",
          "model_module_version": "1.5.0",
          "state": {
            "_model_module": "@jupyter-widgets/controls",
            "_model_module_version": "1.5.0",
            "_model_name": "DescriptionStyleModel",
            "_view_count": null,
            "_view_module": "@jupyter-widgets/base",
            "_view_module_version": "1.2.0",
            "_view_name": "StyleView",
            "description_width": ""
          }
        },
        "c6a7990654a34d4daab038a1d484f7fd": {
          "model_module": "@jupyter-widgets/controls",
          "model_name": "HBoxModel",
          "model_module_version": "1.5.0",
          "state": {
            "_dom_classes": [],
            "_model_module": "@jupyter-widgets/controls",
            "_model_module_version": "1.5.0",
            "_model_name": "HBoxModel",
            "_view_count": null,
            "_view_module": "@jupyter-widgets/controls",
            "_view_module_version": "1.5.0",
            "_view_name": "HBoxView",
            "box_style": "",
            "children": [
              "IPY_MODEL_0cdb7698738e45b5abf032c2fdf0ecbc",
              "IPY_MODEL_c57dcfbac7ae4f708b772aae0f40245e",
              "IPY_MODEL_d96b065c39f6487e802326425a05b23c"
            ],
            "layout": "IPY_MODEL_6bf78bcef4f0467db2f573a5addce1dc"
          }
        },
        "0cdb7698738e45b5abf032c2fdf0ecbc": {
          "model_module": "@jupyter-widgets/controls",
          "model_name": "HTMLModel",
          "model_module_version": "1.5.0",
          "state": {
            "_dom_classes": [],
            "_model_module": "@jupyter-widgets/controls",
            "_model_module_version": "1.5.0",
            "_model_name": "HTMLModel",
            "_view_count": null,
            "_view_module": "@jupyter-widgets/controls",
            "_view_module_version": "1.5.0",
            "_view_name": "HTMLView",
            "description": "",
            "description_tooltip": null,
            "layout": "IPY_MODEL_a81a22619d6945d7b9cbce9b91d5dbb3",
            "placeholder": "​",
            "style": "IPY_MODEL_a62ed3fbb4364a7a8efd901fa24ceb1f",
            "value": "#0: 100%"
          }
        },
        "c57dcfbac7ae4f708b772aae0f40245e": {
          "model_module": "@jupyter-widgets/controls",
          "model_name": "FloatProgressModel",
          "model_module_version": "1.5.0",
          "state": {
            "_dom_classes": [],
            "_model_module": "@jupyter-widgets/controls",
            "_model_module_version": "1.5.0",
            "_model_name": "FloatProgressModel",
            "_view_count": null,
            "_view_module": "@jupyter-widgets/controls",
            "_view_module_version": "1.5.0",
            "_view_name": "ProgressView",
            "bar_style": "success",
            "description": "",
            "description_tooltip": null,
            "layout": "IPY_MODEL_62616217455041d5a08ec171d7f54705",
            "max": 1,
            "min": 0,
            "orientation": "horizontal",
            "style": "IPY_MODEL_3d431f557cbb40b5b2734cca12321360",
            "value": 1
          }
        },
        "d96b065c39f6487e802326425a05b23c": {
          "model_module": "@jupyter-widgets/controls",
          "model_name": "HTMLModel",
          "model_module_version": "1.5.0",
          "state": {
            "_dom_classes": [],
            "_model_module": "@jupyter-widgets/controls",
            "_model_module_version": "1.5.0",
            "_model_name": "HTMLModel",
            "_view_count": null,
            "_view_module": "@jupyter-widgets/controls",
            "_view_module_version": "1.5.0",
            "_view_name": "HTMLView",
            "description": "",
            "description_tooltip": null,
            "layout": "IPY_MODEL_8928f30f719a443da7e8b3161e74534c",
            "placeholder": "​",
            "style": "IPY_MODEL_4ccba44283864a058eac6ae7053b89fb",
            "value": " 1/1 [00:00&lt;00:00,  4.12ba/s]"
          }
        },
        "6bf78bcef4f0467db2f573a5addce1dc": {
          "model_module": "@jupyter-widgets/base",
          "model_name": "LayoutModel",
          "model_module_version": "1.2.0",
          "state": {
            "_model_module": "@jupyter-widgets/base",
            "_model_module_version": "1.2.0",
            "_model_name": "LayoutModel",
            "_view_count": null,
            "_view_module": "@jupyter-widgets/base",
            "_view_module_version": "1.2.0",
            "_view_name": "LayoutView",
            "align_content": null,
            "align_items": null,
            "align_self": null,
            "border": null,
            "bottom": null,
            "display": null,
            "flex": null,
            "flex_flow": null,
            "grid_area": null,
            "grid_auto_columns": null,
            "grid_auto_flow": null,
            "grid_auto_rows": null,
            "grid_column": null,
            "grid_gap": null,
            "grid_row": null,
            "grid_template_areas": null,
            "grid_template_columns": null,
            "grid_template_rows": null,
            "height": null,
            "justify_content": null,
            "justify_items": null,
            "left": null,
            "margin": null,
            "max_height": null,
            "max_width": null,
            "min_height": null,
            "min_width": null,
            "object_fit": null,
            "object_position": null,
            "order": null,
            "overflow": null,
            "overflow_x": null,
            "overflow_y": null,
            "padding": null,
            "right": null,
            "top": null,
            "visibility": null,
            "width": null
          }
        },
        "a81a22619d6945d7b9cbce9b91d5dbb3": {
          "model_module": "@jupyter-widgets/base",
          "model_name": "LayoutModel",
          "model_module_version": "1.2.0",
          "state": {
            "_model_module": "@jupyter-widgets/base",
            "_model_module_version": "1.2.0",
            "_model_name": "LayoutModel",
            "_view_count": null,
            "_view_module": "@jupyter-widgets/base",
            "_view_module_version": "1.2.0",
            "_view_name": "LayoutView",
            "align_content": null,
            "align_items": null,
            "align_self": null,
            "border": null,
            "bottom": null,
            "display": null,
            "flex": null,
            "flex_flow": null,
            "grid_area": null,
            "grid_auto_columns": null,
            "grid_auto_flow": null,
            "grid_auto_rows": null,
            "grid_column": null,
            "grid_gap": null,
            "grid_row": null,
            "grid_template_areas": null,
            "grid_template_columns": null,
            "grid_template_rows": null,
            "height": null,
            "justify_content": null,
            "justify_items": null,
            "left": null,
            "margin": null,
            "max_height": null,
            "max_width": null,
            "min_height": null,
            "min_width": null,
            "object_fit": null,
            "object_position": null,
            "order": null,
            "overflow": null,
            "overflow_x": null,
            "overflow_y": null,
            "padding": null,
            "right": null,
            "top": null,
            "visibility": null,
            "width": null
          }
        },
        "a62ed3fbb4364a7a8efd901fa24ceb1f": {
          "model_module": "@jupyter-widgets/controls",
          "model_name": "DescriptionStyleModel",
          "model_module_version": "1.5.0",
          "state": {
            "_model_module": "@jupyter-widgets/controls",
            "_model_module_version": "1.5.0",
            "_model_name": "DescriptionStyleModel",
            "_view_count": null,
            "_view_module": "@jupyter-widgets/base",
            "_view_module_version": "1.2.0",
            "_view_name": "StyleView",
            "description_width": ""
          }
        },
        "62616217455041d5a08ec171d7f54705": {
          "model_module": "@jupyter-widgets/base",
          "model_name": "LayoutModel",
          "model_module_version": "1.2.0",
          "state": {
            "_model_module": "@jupyter-widgets/base",
            "_model_module_version": "1.2.0",
            "_model_name": "LayoutModel",
            "_view_count": null,
            "_view_module": "@jupyter-widgets/base",
            "_view_module_version": "1.2.0",
            "_view_name": "LayoutView",
            "align_content": null,
            "align_items": null,
            "align_self": null,
            "border": null,
            "bottom": null,
            "display": null,
            "flex": null,
            "flex_flow": null,
            "grid_area": null,
            "grid_auto_columns": null,
            "grid_auto_flow": null,
            "grid_auto_rows": null,
            "grid_column": null,
            "grid_gap": null,
            "grid_row": null,
            "grid_template_areas": null,
            "grid_template_columns": null,
            "grid_template_rows": null,
            "height": null,
            "justify_content": null,
            "justify_items": null,
            "left": null,
            "margin": null,
            "max_height": null,
            "max_width": null,
            "min_height": null,
            "min_width": null,
            "object_fit": null,
            "object_position": null,
            "order": null,
            "overflow": null,
            "overflow_x": null,
            "overflow_y": null,
            "padding": null,
            "right": null,
            "top": null,
            "visibility": null,
            "width": null
          }
        },
        "3d431f557cbb40b5b2734cca12321360": {
          "model_module": "@jupyter-widgets/controls",
          "model_name": "ProgressStyleModel",
          "model_module_version": "1.5.0",
          "state": {
            "_model_module": "@jupyter-widgets/controls",
            "_model_module_version": "1.5.0",
            "_model_name": "ProgressStyleModel",
            "_view_count": null,
            "_view_module": "@jupyter-widgets/base",
            "_view_module_version": "1.2.0",
            "_view_name": "StyleView",
            "bar_color": null,
            "description_width": ""
          }
        },
        "8928f30f719a443da7e8b3161e74534c": {
          "model_module": "@jupyter-widgets/base",
          "model_name": "LayoutModel",
          "model_module_version": "1.2.0",
          "state": {
            "_model_module": "@jupyter-widgets/base",
            "_model_module_version": "1.2.0",
            "_model_name": "LayoutModel",
            "_view_count": null,
            "_view_module": "@jupyter-widgets/base",
            "_view_module_version": "1.2.0",
            "_view_name": "LayoutView",
            "align_content": null,
            "align_items": null,
            "align_self": null,
            "border": null,
            "bottom": null,
            "display": null,
            "flex": null,
            "flex_flow": null,
            "grid_area": null,
            "grid_auto_columns": null,
            "grid_auto_flow": null,
            "grid_auto_rows": null,
            "grid_column": null,
            "grid_gap": null,
            "grid_row": null,
            "grid_template_areas": null,
            "grid_template_columns": null,
            "grid_template_rows": null,
            "height": null,
            "justify_content": null,
            "justify_items": null,
            "left": null,
            "margin": null,
            "max_height": null,
            "max_width": null,
            "min_height": null,
            "min_width": null,
            "object_fit": null,
            "object_position": null,
            "order": null,
            "overflow": null,
            "overflow_x": null,
            "overflow_y": null,
            "padding": null,
            "right": null,
            "top": null,
            "visibility": null,
            "width": null
          }
        },
        "4ccba44283864a058eac6ae7053b89fb": {
          "model_module": "@jupyter-widgets/controls",
          "model_name": "DescriptionStyleModel",
          "model_module_version": "1.5.0",
          "state": {
            "_model_module": "@jupyter-widgets/controls",
            "_model_module_version": "1.5.0",
            "_model_name": "DescriptionStyleModel",
            "_view_count": null,
            "_view_module": "@jupyter-widgets/base",
            "_view_module_version": "1.2.0",
            "_view_name": "StyleView",
            "description_width": ""
          }
        },
        "79661fe8c2c14d35b7dc2d2578d3e561": {
          "model_module": "@jupyter-widgets/controls",
          "model_name": "HBoxModel",
          "model_module_version": "1.5.0",
          "state": {
            "_dom_classes": [],
            "_model_module": "@jupyter-widgets/controls",
            "_model_module_version": "1.5.0",
            "_model_name": "HBoxModel",
            "_view_count": null,
            "_view_module": "@jupyter-widgets/controls",
            "_view_module_version": "1.5.0",
            "_view_name": "HBoxView",
            "box_style": "",
            "children": [
              "IPY_MODEL_52b58df947fe4ee4bee24c4d7549a206",
              "IPY_MODEL_b05864c6df804b0594f7a8adf3f245eb",
              "IPY_MODEL_a021cf1083754113b996951708f186d6"
            ],
            "layout": "IPY_MODEL_33bca2b30f7146b58b8288140ef2c0dc"
          }
        },
        "52b58df947fe4ee4bee24c4d7549a206": {
          "model_module": "@jupyter-widgets/controls",
          "model_name": "HTMLModel",
          "model_module_version": "1.5.0",
          "state": {
            "_dom_classes": [],
            "_model_module": "@jupyter-widgets/controls",
            "_model_module_version": "1.5.0",
            "_model_name": "HTMLModel",
            "_view_count": null,
            "_view_module": "@jupyter-widgets/controls",
            "_view_module_version": "1.5.0",
            "_view_name": "HTMLView",
            "description": "",
            "description_tooltip": null,
            "layout": "IPY_MODEL_cdc1b96b8d9049eab579389490612ae8",
            "placeholder": "​",
            "style": "IPY_MODEL_fe43cd2646f54d0194285952dc8d0153",
            "value": "#1: 100%"
          }
        },
        "b05864c6df804b0594f7a8adf3f245eb": {
          "model_module": "@jupyter-widgets/controls",
          "model_name": "FloatProgressModel",
          "model_module_version": "1.5.0",
          "state": {
            "_dom_classes": [],
            "_model_module": "@jupyter-widgets/controls",
            "_model_module_version": "1.5.0",
            "_model_name": "FloatProgressModel",
            "_view_count": null,
            "_view_module": "@jupyter-widgets/controls",
            "_view_module_version": "1.5.0",
            "_view_name": "ProgressView",
            "bar_style": "success",
            "description": "",
            "description_tooltip": null,
            "layout": "IPY_MODEL_9e5ade0d1c864dd9b929cea9b9a5c877",
            "max": 1,
            "min": 0,
            "orientation": "horizontal",
            "style": "IPY_MODEL_2b6b5a6b5b7e4af4a639ef0f309907f4",
            "value": 1
          }
        },
        "a021cf1083754113b996951708f186d6": {
          "model_module": "@jupyter-widgets/controls",
          "model_name": "HTMLModel",
          "model_module_version": "1.5.0",
          "state": {
            "_dom_classes": [],
            "_model_module": "@jupyter-widgets/controls",
            "_model_module_version": "1.5.0",
            "_model_name": "HTMLModel",
            "_view_count": null,
            "_view_module": "@jupyter-widgets/controls",
            "_view_module_version": "1.5.0",
            "_view_name": "HTMLView",
            "description": "",
            "description_tooltip": null,
            "layout": "IPY_MODEL_a4009a97c75642e9ae5159974d66dbe6",
            "placeholder": "​",
            "style": "IPY_MODEL_b9e1a7cea9624f0ab86473a0ab7ae5ec",
            "value": " 1/1 [00:00&lt;00:00,  3.59ba/s]"
          }
        },
        "33bca2b30f7146b58b8288140ef2c0dc": {
          "model_module": "@jupyter-widgets/base",
          "model_name": "LayoutModel",
          "model_module_version": "1.2.0",
          "state": {
            "_model_module": "@jupyter-widgets/base",
            "_model_module_version": "1.2.0",
            "_model_name": "LayoutModel",
            "_view_count": null,
            "_view_module": "@jupyter-widgets/base",
            "_view_module_version": "1.2.0",
            "_view_name": "LayoutView",
            "align_content": null,
            "align_items": null,
            "align_self": null,
            "border": null,
            "bottom": null,
            "display": null,
            "flex": null,
            "flex_flow": null,
            "grid_area": null,
            "grid_auto_columns": null,
            "grid_auto_flow": null,
            "grid_auto_rows": null,
            "grid_column": null,
            "grid_gap": null,
            "grid_row": null,
            "grid_template_areas": null,
            "grid_template_columns": null,
            "grid_template_rows": null,
            "height": null,
            "justify_content": null,
            "justify_items": null,
            "left": null,
            "margin": null,
            "max_height": null,
            "max_width": null,
            "min_height": null,
            "min_width": null,
            "object_fit": null,
            "object_position": null,
            "order": null,
            "overflow": null,
            "overflow_x": null,
            "overflow_y": null,
            "padding": null,
            "right": null,
            "top": null,
            "visibility": null,
            "width": null
          }
        },
        "cdc1b96b8d9049eab579389490612ae8": {
          "model_module": "@jupyter-widgets/base",
          "model_name": "LayoutModel",
          "model_module_version": "1.2.0",
          "state": {
            "_model_module": "@jupyter-widgets/base",
            "_model_module_version": "1.2.0",
            "_model_name": "LayoutModel",
            "_view_count": null,
            "_view_module": "@jupyter-widgets/base",
            "_view_module_version": "1.2.0",
            "_view_name": "LayoutView",
            "align_content": null,
            "align_items": null,
            "align_self": null,
            "border": null,
            "bottom": null,
            "display": null,
            "flex": null,
            "flex_flow": null,
            "grid_area": null,
            "grid_auto_columns": null,
            "grid_auto_flow": null,
            "grid_auto_rows": null,
            "grid_column": null,
            "grid_gap": null,
            "grid_row": null,
            "grid_template_areas": null,
            "grid_template_columns": null,
            "grid_template_rows": null,
            "height": null,
            "justify_content": null,
            "justify_items": null,
            "left": null,
            "margin": null,
            "max_height": null,
            "max_width": null,
            "min_height": null,
            "min_width": null,
            "object_fit": null,
            "object_position": null,
            "order": null,
            "overflow": null,
            "overflow_x": null,
            "overflow_y": null,
            "padding": null,
            "right": null,
            "top": null,
            "visibility": null,
            "width": null
          }
        },
        "fe43cd2646f54d0194285952dc8d0153": {
          "model_module": "@jupyter-widgets/controls",
          "model_name": "DescriptionStyleModel",
          "model_module_version": "1.5.0",
          "state": {
            "_model_module": "@jupyter-widgets/controls",
            "_model_module_version": "1.5.0",
            "_model_name": "DescriptionStyleModel",
            "_view_count": null,
            "_view_module": "@jupyter-widgets/base",
            "_view_module_version": "1.2.0",
            "_view_name": "StyleView",
            "description_width": ""
          }
        },
        "9e5ade0d1c864dd9b929cea9b9a5c877": {
          "model_module": "@jupyter-widgets/base",
          "model_name": "LayoutModel",
          "model_module_version": "1.2.0",
          "state": {
            "_model_module": "@jupyter-widgets/base",
            "_model_module_version": "1.2.0",
            "_model_name": "LayoutModel",
            "_view_count": null,
            "_view_module": "@jupyter-widgets/base",
            "_view_module_version": "1.2.0",
            "_view_name": "LayoutView",
            "align_content": null,
            "align_items": null,
            "align_self": null,
            "border": null,
            "bottom": null,
            "display": null,
            "flex": null,
            "flex_flow": null,
            "grid_area": null,
            "grid_auto_columns": null,
            "grid_auto_flow": null,
            "grid_auto_rows": null,
            "grid_column": null,
            "grid_gap": null,
            "grid_row": null,
            "grid_template_areas": null,
            "grid_template_columns": null,
            "grid_template_rows": null,
            "height": null,
            "justify_content": null,
            "justify_items": null,
            "left": null,
            "margin": null,
            "max_height": null,
            "max_width": null,
            "min_height": null,
            "min_width": null,
            "object_fit": null,
            "object_position": null,
            "order": null,
            "overflow": null,
            "overflow_x": null,
            "overflow_y": null,
            "padding": null,
            "right": null,
            "top": null,
            "visibility": null,
            "width": null
          }
        },
        "2b6b5a6b5b7e4af4a639ef0f309907f4": {
          "model_module": "@jupyter-widgets/controls",
          "model_name": "ProgressStyleModel",
          "model_module_version": "1.5.0",
          "state": {
            "_model_module": "@jupyter-widgets/controls",
            "_model_module_version": "1.5.0",
            "_model_name": "ProgressStyleModel",
            "_view_count": null,
            "_view_module": "@jupyter-widgets/base",
            "_view_module_version": "1.2.0",
            "_view_name": "StyleView",
            "bar_color": null,
            "description_width": ""
          }
        },
        "a4009a97c75642e9ae5159974d66dbe6": {
          "model_module": "@jupyter-widgets/base",
          "model_name": "LayoutModel",
          "model_module_version": "1.2.0",
          "state": {
            "_model_module": "@jupyter-widgets/base",
            "_model_module_version": "1.2.0",
            "_model_name": "LayoutModel",
            "_view_count": null,
            "_view_module": "@jupyter-widgets/base",
            "_view_module_version": "1.2.0",
            "_view_name": "LayoutView",
            "align_content": null,
            "align_items": null,
            "align_self": null,
            "border": null,
            "bottom": null,
            "display": null,
            "flex": null,
            "flex_flow": null,
            "grid_area": null,
            "grid_auto_columns": null,
            "grid_auto_flow": null,
            "grid_auto_rows": null,
            "grid_column": null,
            "grid_gap": null,
            "grid_row": null,
            "grid_template_areas": null,
            "grid_template_columns": null,
            "grid_template_rows": null,
            "height": null,
            "justify_content": null,
            "justify_items": null,
            "left": null,
            "margin": null,
            "max_height": null,
            "max_width": null,
            "min_height": null,
            "min_width": null,
            "object_fit": null,
            "object_position": null,
            "order": null,
            "overflow": null,
            "overflow_x": null,
            "overflow_y": null,
            "padding": null,
            "right": null,
            "top": null,
            "visibility": null,
            "width": null
          }
        },
        "b9e1a7cea9624f0ab86473a0ab7ae5ec": {
          "model_module": "@jupyter-widgets/controls",
          "model_name": "DescriptionStyleModel",
          "model_module_version": "1.5.0",
          "state": {
            "_model_module": "@jupyter-widgets/controls",
            "_model_module_version": "1.5.0",
            "_model_name": "DescriptionStyleModel",
            "_view_count": null,
            "_view_module": "@jupyter-widgets/base",
            "_view_module_version": "1.2.0",
            "_view_name": "StyleView",
            "description_width": ""
          }
        },
        "9880349fde854db18e58fa8fd0a30668": {
          "model_module": "@jupyter-widgets/controls",
          "model_name": "HBoxModel",
          "model_module_version": "1.5.0",
          "state": {
            "_dom_classes": [],
            "_model_module": "@jupyter-widgets/controls",
            "_model_module_version": "1.5.0",
            "_model_name": "HBoxModel",
            "_view_count": null,
            "_view_module": "@jupyter-widgets/controls",
            "_view_module_version": "1.5.0",
            "_view_name": "HBoxView",
            "box_style": "",
            "children": [
              "IPY_MODEL_0ecd5f029a2840c298f6b75efc37bfbf",
              "IPY_MODEL_4fd25c8e98d041178961c337af9d115c",
              "IPY_MODEL_2d63df4d9dd34448927ad612363300bc"
            ],
            "layout": "IPY_MODEL_6cb3baff91fa4a4db51d7b44e48820b7"
          }
        },
        "0ecd5f029a2840c298f6b75efc37bfbf": {
          "model_module": "@jupyter-widgets/controls",
          "model_name": "HTMLModel",
          "model_module_version": "1.5.0",
          "state": {
            "_dom_classes": [],
            "_model_module": "@jupyter-widgets/controls",
            "_model_module_version": "1.5.0",
            "_model_name": "HTMLModel",
            "_view_count": null,
            "_view_module": "@jupyter-widgets/controls",
            "_view_module_version": "1.5.0",
            "_view_name": "HTMLView",
            "description": "",
            "description_tooltip": null,
            "layout": "IPY_MODEL_2096427db0a64bd8a872cd434d9014ea",
            "placeholder": "​",
            "style": "IPY_MODEL_3cdc0680ed684a97bf70784eea9e27f9",
            "value": "#2: 100%"
          }
        },
        "4fd25c8e98d041178961c337af9d115c": {
          "model_module": "@jupyter-widgets/controls",
          "model_name": "FloatProgressModel",
          "model_module_version": "1.5.0",
          "state": {
            "_dom_classes": [],
            "_model_module": "@jupyter-widgets/controls",
            "_model_module_version": "1.5.0",
            "_model_name": "FloatProgressModel",
            "_view_count": null,
            "_view_module": "@jupyter-widgets/controls",
            "_view_module_version": "1.5.0",
            "_view_name": "ProgressView",
            "bar_style": "success",
            "description": "",
            "description_tooltip": null,
            "layout": "IPY_MODEL_479fed1ba0ea455faa520f6292ffe7d9",
            "max": 1,
            "min": 0,
            "orientation": "horizontal",
            "style": "IPY_MODEL_4ecb41a8c8c64de88de0505f80ce07b3",
            "value": 1
          }
        },
        "2d63df4d9dd34448927ad612363300bc": {
          "model_module": "@jupyter-widgets/controls",
          "model_name": "HTMLModel",
          "model_module_version": "1.5.0",
          "state": {
            "_dom_classes": [],
            "_model_module": "@jupyter-widgets/controls",
            "_model_module_version": "1.5.0",
            "_model_name": "HTMLModel",
            "_view_count": null,
            "_view_module": "@jupyter-widgets/controls",
            "_view_module_version": "1.5.0",
            "_view_name": "HTMLView",
            "description": "",
            "description_tooltip": null,
            "layout": "IPY_MODEL_c7846588297d47e78fb99093b3bec6f0",
            "placeholder": "​",
            "style": "IPY_MODEL_7e3599741d904936849e13b544ba7baa",
            "value": " 1/1 [00:00&lt;00:00,  3.25ba/s]"
          }
        },
        "6cb3baff91fa4a4db51d7b44e48820b7": {
          "model_module": "@jupyter-widgets/base",
          "model_name": "LayoutModel",
          "model_module_version": "1.2.0",
          "state": {
            "_model_module": "@jupyter-widgets/base",
            "_model_module_version": "1.2.0",
            "_model_name": "LayoutModel",
            "_view_count": null,
            "_view_module": "@jupyter-widgets/base",
            "_view_module_version": "1.2.0",
            "_view_name": "LayoutView",
            "align_content": null,
            "align_items": null,
            "align_self": null,
            "border": null,
            "bottom": null,
            "display": null,
            "flex": null,
            "flex_flow": null,
            "grid_area": null,
            "grid_auto_columns": null,
            "grid_auto_flow": null,
            "grid_auto_rows": null,
            "grid_column": null,
            "grid_gap": null,
            "grid_row": null,
            "grid_template_areas": null,
            "grid_template_columns": null,
            "grid_template_rows": null,
            "height": null,
            "justify_content": null,
            "justify_items": null,
            "left": null,
            "margin": null,
            "max_height": null,
            "max_width": null,
            "min_height": null,
            "min_width": null,
            "object_fit": null,
            "object_position": null,
            "order": null,
            "overflow": null,
            "overflow_x": null,
            "overflow_y": null,
            "padding": null,
            "right": null,
            "top": null,
            "visibility": null,
            "width": null
          }
        },
        "2096427db0a64bd8a872cd434d9014ea": {
          "model_module": "@jupyter-widgets/base",
          "model_name": "LayoutModel",
          "model_module_version": "1.2.0",
          "state": {
            "_model_module": "@jupyter-widgets/base",
            "_model_module_version": "1.2.0",
            "_model_name": "LayoutModel",
            "_view_count": null,
            "_view_module": "@jupyter-widgets/base",
            "_view_module_version": "1.2.0",
            "_view_name": "LayoutView",
            "align_content": null,
            "align_items": null,
            "align_self": null,
            "border": null,
            "bottom": null,
            "display": null,
            "flex": null,
            "flex_flow": null,
            "grid_area": null,
            "grid_auto_columns": null,
            "grid_auto_flow": null,
            "grid_auto_rows": null,
            "grid_column": null,
            "grid_gap": null,
            "grid_row": null,
            "grid_template_areas": null,
            "grid_template_columns": null,
            "grid_template_rows": null,
            "height": null,
            "justify_content": null,
            "justify_items": null,
            "left": null,
            "margin": null,
            "max_height": null,
            "max_width": null,
            "min_height": null,
            "min_width": null,
            "object_fit": null,
            "object_position": null,
            "order": null,
            "overflow": null,
            "overflow_x": null,
            "overflow_y": null,
            "padding": null,
            "right": null,
            "top": null,
            "visibility": null,
            "width": null
          }
        },
        "3cdc0680ed684a97bf70784eea9e27f9": {
          "model_module": "@jupyter-widgets/controls",
          "model_name": "DescriptionStyleModel",
          "model_module_version": "1.5.0",
          "state": {
            "_model_module": "@jupyter-widgets/controls",
            "_model_module_version": "1.5.0",
            "_model_name": "DescriptionStyleModel",
            "_view_count": null,
            "_view_module": "@jupyter-widgets/base",
            "_view_module_version": "1.2.0",
            "_view_name": "StyleView",
            "description_width": ""
          }
        },
        "479fed1ba0ea455faa520f6292ffe7d9": {
          "model_module": "@jupyter-widgets/base",
          "model_name": "LayoutModel",
          "model_module_version": "1.2.0",
          "state": {
            "_model_module": "@jupyter-widgets/base",
            "_model_module_version": "1.2.0",
            "_model_name": "LayoutModel",
            "_view_count": null,
            "_view_module": "@jupyter-widgets/base",
            "_view_module_version": "1.2.0",
            "_view_name": "LayoutView",
            "align_content": null,
            "align_items": null,
            "align_self": null,
            "border": null,
            "bottom": null,
            "display": null,
            "flex": null,
            "flex_flow": null,
            "grid_area": null,
            "grid_auto_columns": null,
            "grid_auto_flow": null,
            "grid_auto_rows": null,
            "grid_column": null,
            "grid_gap": null,
            "grid_row": null,
            "grid_template_areas": null,
            "grid_template_columns": null,
            "grid_template_rows": null,
            "height": null,
            "justify_content": null,
            "justify_items": null,
            "left": null,
            "margin": null,
            "max_height": null,
            "max_width": null,
            "min_height": null,
            "min_width": null,
            "object_fit": null,
            "object_position": null,
            "order": null,
            "overflow": null,
            "overflow_x": null,
            "overflow_y": null,
            "padding": null,
            "right": null,
            "top": null,
            "visibility": null,
            "width": null
          }
        },
        "4ecb41a8c8c64de88de0505f80ce07b3": {
          "model_module": "@jupyter-widgets/controls",
          "model_name": "ProgressStyleModel",
          "model_module_version": "1.5.0",
          "state": {
            "_model_module": "@jupyter-widgets/controls",
            "_model_module_version": "1.5.0",
            "_model_name": "ProgressStyleModel",
            "_view_count": null,
            "_view_module": "@jupyter-widgets/base",
            "_view_module_version": "1.2.0",
            "_view_name": "StyleView",
            "bar_color": null,
            "description_width": ""
          }
        },
        "c7846588297d47e78fb99093b3bec6f0": {
          "model_module": "@jupyter-widgets/base",
          "model_name": "LayoutModel",
          "model_module_version": "1.2.0",
          "state": {
            "_model_module": "@jupyter-widgets/base",
            "_model_module_version": "1.2.0",
            "_model_name": "LayoutModel",
            "_view_count": null,
            "_view_module": "@jupyter-widgets/base",
            "_view_module_version": "1.2.0",
            "_view_name": "LayoutView",
            "align_content": null,
            "align_items": null,
            "align_self": null,
            "border": null,
            "bottom": null,
            "display": null,
            "flex": null,
            "flex_flow": null,
            "grid_area": null,
            "grid_auto_columns": null,
            "grid_auto_flow": null,
            "grid_auto_rows": null,
            "grid_column": null,
            "grid_gap": null,
            "grid_row": null,
            "grid_template_areas": null,
            "grid_template_columns": null,
            "grid_template_rows": null,
            "height": null,
            "justify_content": null,
            "justify_items": null,
            "left": null,
            "margin": null,
            "max_height": null,
            "max_width": null,
            "min_height": null,
            "min_width": null,
            "object_fit": null,
            "object_position": null,
            "order": null,
            "overflow": null,
            "overflow_x": null,
            "overflow_y": null,
            "padding": null,
            "right": null,
            "top": null,
            "visibility": null,
            "width": null
          }
        },
        "7e3599741d904936849e13b544ba7baa": {
          "model_module": "@jupyter-widgets/controls",
          "model_name": "DescriptionStyleModel",
          "model_module_version": "1.5.0",
          "state": {
            "_model_module": "@jupyter-widgets/controls",
            "_model_module_version": "1.5.0",
            "_model_name": "DescriptionStyleModel",
            "_view_count": null,
            "_view_module": "@jupyter-widgets/base",
            "_view_module_version": "1.2.0",
            "_view_name": "StyleView",
            "description_width": ""
          }
        },
        "9d6da88176a94879a52216644f81ce22": {
          "model_module": "@jupyter-widgets/controls",
          "model_name": "HBoxModel",
          "model_module_version": "1.5.0",
          "state": {
            "_dom_classes": [],
            "_model_module": "@jupyter-widgets/controls",
            "_model_module_version": "1.5.0",
            "_model_name": "HBoxModel",
            "_view_count": null,
            "_view_module": "@jupyter-widgets/controls",
            "_view_module_version": "1.5.0",
            "_view_name": "HBoxView",
            "box_style": "",
            "children": [
              "IPY_MODEL_70fa22e9d3634a15ba62a55b72f60b18",
              "IPY_MODEL_42cc861d2118418d8f77535e92fe8dd2",
              "IPY_MODEL_62c19ab52fbc45c085c9232c7400f7d0"
            ],
            "layout": "IPY_MODEL_58f0a11e658145e7ba4b5643fb8d3359"
          }
        },
        "70fa22e9d3634a15ba62a55b72f60b18": {
          "model_module": "@jupyter-widgets/controls",
          "model_name": "HTMLModel",
          "model_module_version": "1.5.0",
          "state": {
            "_dom_classes": [],
            "_model_module": "@jupyter-widgets/controls",
            "_model_module_version": "1.5.0",
            "_model_name": "HTMLModel",
            "_view_count": null,
            "_view_module": "@jupyter-widgets/controls",
            "_view_module_version": "1.5.0",
            "_view_name": "HTMLView",
            "description": "",
            "description_tooltip": null,
            "layout": "IPY_MODEL_2177edcc777b42d290ce03ebf1d50191",
            "placeholder": "​",
            "style": "IPY_MODEL_4aeb2d6cb514498baf4a0cba5fce130a",
            "value": "#3: 100%"
          }
        },
        "42cc861d2118418d8f77535e92fe8dd2": {
          "model_module": "@jupyter-widgets/controls",
          "model_name": "FloatProgressModel",
          "model_module_version": "1.5.0",
          "state": {
            "_dom_classes": [],
            "_model_module": "@jupyter-widgets/controls",
            "_model_module_version": "1.5.0",
            "_model_name": "FloatProgressModel",
            "_view_count": null,
            "_view_module": "@jupyter-widgets/controls",
            "_view_module_version": "1.5.0",
            "_view_name": "ProgressView",
            "bar_style": "success",
            "description": "",
            "description_tooltip": null,
            "layout": "IPY_MODEL_89fee1b52a3b472187afd3fcd00391b0",
            "max": 1,
            "min": 0,
            "orientation": "horizontal",
            "style": "IPY_MODEL_da3808b8b4be4db5b2edd1600769a20e",
            "value": 1
          }
        },
        "62c19ab52fbc45c085c9232c7400f7d0": {
          "model_module": "@jupyter-widgets/controls",
          "model_name": "HTMLModel",
          "model_module_version": "1.5.0",
          "state": {
            "_dom_classes": [],
            "_model_module": "@jupyter-widgets/controls",
            "_model_module_version": "1.5.0",
            "_model_name": "HTMLModel",
            "_view_count": null,
            "_view_module": "@jupyter-widgets/controls",
            "_view_module_version": "1.5.0",
            "_view_name": "HTMLView",
            "description": "",
            "description_tooltip": null,
            "layout": "IPY_MODEL_b5a1631bf2fc415295a9316aa84b5d88",
            "placeholder": "​",
            "style": "IPY_MODEL_f9cb60f407274638a5963c0df96d9070",
            "value": " 1/1 [00:00&lt;00:00,  5.33ba/s]"
          }
        },
        "58f0a11e658145e7ba4b5643fb8d3359": {
          "model_module": "@jupyter-widgets/base",
          "model_name": "LayoutModel",
          "model_module_version": "1.2.0",
          "state": {
            "_model_module": "@jupyter-widgets/base",
            "_model_module_version": "1.2.0",
            "_model_name": "LayoutModel",
            "_view_count": null,
            "_view_module": "@jupyter-widgets/base",
            "_view_module_version": "1.2.0",
            "_view_name": "LayoutView",
            "align_content": null,
            "align_items": null,
            "align_self": null,
            "border": null,
            "bottom": null,
            "display": null,
            "flex": null,
            "flex_flow": null,
            "grid_area": null,
            "grid_auto_columns": null,
            "grid_auto_flow": null,
            "grid_auto_rows": null,
            "grid_column": null,
            "grid_gap": null,
            "grid_row": null,
            "grid_template_areas": null,
            "grid_template_columns": null,
            "grid_template_rows": null,
            "height": null,
            "justify_content": null,
            "justify_items": null,
            "left": null,
            "margin": null,
            "max_height": null,
            "max_width": null,
            "min_height": null,
            "min_width": null,
            "object_fit": null,
            "object_position": null,
            "order": null,
            "overflow": null,
            "overflow_x": null,
            "overflow_y": null,
            "padding": null,
            "right": null,
            "top": null,
            "visibility": null,
            "width": null
          }
        },
        "2177edcc777b42d290ce03ebf1d50191": {
          "model_module": "@jupyter-widgets/base",
          "model_name": "LayoutModel",
          "model_module_version": "1.2.0",
          "state": {
            "_model_module": "@jupyter-widgets/base",
            "_model_module_version": "1.2.0",
            "_model_name": "LayoutModel",
            "_view_count": null,
            "_view_module": "@jupyter-widgets/base",
            "_view_module_version": "1.2.0",
            "_view_name": "LayoutView",
            "align_content": null,
            "align_items": null,
            "align_self": null,
            "border": null,
            "bottom": null,
            "display": null,
            "flex": null,
            "flex_flow": null,
            "grid_area": null,
            "grid_auto_columns": null,
            "grid_auto_flow": null,
            "grid_auto_rows": null,
            "grid_column": null,
            "grid_gap": null,
            "grid_row": null,
            "grid_template_areas": null,
            "grid_template_columns": null,
            "grid_template_rows": null,
            "height": null,
            "justify_content": null,
            "justify_items": null,
            "left": null,
            "margin": null,
            "max_height": null,
            "max_width": null,
            "min_height": null,
            "min_width": null,
            "object_fit": null,
            "object_position": null,
            "order": null,
            "overflow": null,
            "overflow_x": null,
            "overflow_y": null,
            "padding": null,
            "right": null,
            "top": null,
            "visibility": null,
            "width": null
          }
        },
        "4aeb2d6cb514498baf4a0cba5fce130a": {
          "model_module": "@jupyter-widgets/controls",
          "model_name": "DescriptionStyleModel",
          "model_module_version": "1.5.0",
          "state": {
            "_model_module": "@jupyter-widgets/controls",
            "_model_module_version": "1.5.0",
            "_model_name": "DescriptionStyleModel",
            "_view_count": null,
            "_view_module": "@jupyter-widgets/base",
            "_view_module_version": "1.2.0",
            "_view_name": "StyleView",
            "description_width": ""
          }
        },
        "89fee1b52a3b472187afd3fcd00391b0": {
          "model_module": "@jupyter-widgets/base",
          "model_name": "LayoutModel",
          "model_module_version": "1.2.0",
          "state": {
            "_model_module": "@jupyter-widgets/base",
            "_model_module_version": "1.2.0",
            "_model_name": "LayoutModel",
            "_view_count": null,
            "_view_module": "@jupyter-widgets/base",
            "_view_module_version": "1.2.0",
            "_view_name": "LayoutView",
            "align_content": null,
            "align_items": null,
            "align_self": null,
            "border": null,
            "bottom": null,
            "display": null,
            "flex": null,
            "flex_flow": null,
            "grid_area": null,
            "grid_auto_columns": null,
            "grid_auto_flow": null,
            "grid_auto_rows": null,
            "grid_column": null,
            "grid_gap": null,
            "grid_row": null,
            "grid_template_areas": null,
            "grid_template_columns": null,
            "grid_template_rows": null,
            "height": null,
            "justify_content": null,
            "justify_items": null,
            "left": null,
            "margin": null,
            "max_height": null,
            "max_width": null,
            "min_height": null,
            "min_width": null,
            "object_fit": null,
            "object_position": null,
            "order": null,
            "overflow": null,
            "overflow_x": null,
            "overflow_y": null,
            "padding": null,
            "right": null,
            "top": null,
            "visibility": null,
            "width": null
          }
        },
        "da3808b8b4be4db5b2edd1600769a20e": {
          "model_module": "@jupyter-widgets/controls",
          "model_name": "ProgressStyleModel",
          "model_module_version": "1.5.0",
          "state": {
            "_model_module": "@jupyter-widgets/controls",
            "_model_module_version": "1.5.0",
            "_model_name": "ProgressStyleModel",
            "_view_count": null,
            "_view_module": "@jupyter-widgets/base",
            "_view_module_version": "1.2.0",
            "_view_name": "StyleView",
            "bar_color": null,
            "description_width": ""
          }
        },
        "b5a1631bf2fc415295a9316aa84b5d88": {
          "model_module": "@jupyter-widgets/base",
          "model_name": "LayoutModel",
          "model_module_version": "1.2.0",
          "state": {
            "_model_module": "@jupyter-widgets/base",
            "_model_module_version": "1.2.0",
            "_model_name": "LayoutModel",
            "_view_count": null,
            "_view_module": "@jupyter-widgets/base",
            "_view_module_version": "1.2.0",
            "_view_name": "LayoutView",
            "align_content": null,
            "align_items": null,
            "align_self": null,
            "border": null,
            "bottom": null,
            "display": null,
            "flex": null,
            "flex_flow": null,
            "grid_area": null,
            "grid_auto_columns": null,
            "grid_auto_flow": null,
            "grid_auto_rows": null,
            "grid_column": null,
            "grid_gap": null,
            "grid_row": null,
            "grid_template_areas": null,
            "grid_template_columns": null,
            "grid_template_rows": null,
            "height": null,
            "justify_content": null,
            "justify_items": null,
            "left": null,
            "margin": null,
            "max_height": null,
            "max_width": null,
            "min_height": null,
            "min_width": null,
            "object_fit": null,
            "object_position": null,
            "order": null,
            "overflow": null,
            "overflow_x": null,
            "overflow_y": null,
            "padding": null,
            "right": null,
            "top": null,
            "visibility": null,
            "width": null
          }
        },
        "f9cb60f407274638a5963c0df96d9070": {
          "model_module": "@jupyter-widgets/controls",
          "model_name": "DescriptionStyleModel",
          "model_module_version": "1.5.0",
          "state": {
            "_model_module": "@jupyter-widgets/controls",
            "_model_module_version": "1.5.0",
            "_model_name": "DescriptionStyleModel",
            "_view_count": null,
            "_view_module": "@jupyter-widgets/base",
            "_view_module_version": "1.2.0",
            "_view_name": "StyleView",
            "description_width": ""
          }
        },
        "49666f4444c3441a8e14c34102a6ae99": {
          "model_module": "@jupyter-widgets/controls",
          "model_name": "HBoxModel",
          "model_module_version": "1.5.0",
          "state": {
            "_dom_classes": [],
            "_model_module": "@jupyter-widgets/controls",
            "_model_module_version": "1.5.0",
            "_model_name": "HBoxModel",
            "_view_count": null,
            "_view_module": "@jupyter-widgets/controls",
            "_view_module_version": "1.5.0",
            "_view_name": "HBoxView",
            "box_style": "",
            "children": [
              "IPY_MODEL_d19924fd71094802ad28cd0d77f1b859",
              "IPY_MODEL_5d94e5a902e14c519c3cbfe965a03c9f",
              "IPY_MODEL_39dd5d7ec441408ea28b9cfd55b5e434"
            ],
            "layout": "IPY_MODEL_33f2e3fbdd494e9ea3148a197c43ccab"
          }
        },
        "d19924fd71094802ad28cd0d77f1b859": {
          "model_module": "@jupyter-widgets/controls",
          "model_name": "HTMLModel",
          "model_module_version": "1.5.0",
          "state": {
            "_dom_classes": [],
            "_model_module": "@jupyter-widgets/controls",
            "_model_module_version": "1.5.0",
            "_model_name": "HTMLModel",
            "_view_count": null,
            "_view_module": "@jupyter-widgets/controls",
            "_view_module_version": "1.5.0",
            "_view_name": "HTMLView",
            "description": "",
            "description_tooltip": null,
            "layout": "IPY_MODEL_7789852f0f0d46fea83ab1235eccd85f",
            "placeholder": "​",
            "style": "IPY_MODEL_65c4040b71584f4e900796376bd8cc4e",
            "value": "Downloading (…)olve/main/vocab.json: 100%"
          }
        },
        "5d94e5a902e14c519c3cbfe965a03c9f": {
          "model_module": "@jupyter-widgets/controls",
          "model_name": "FloatProgressModel",
          "model_module_version": "1.5.0",
          "state": {
            "_dom_classes": [],
            "_model_module": "@jupyter-widgets/controls",
            "_model_module_version": "1.5.0",
            "_model_name": "FloatProgressModel",
            "_view_count": null,
            "_view_module": "@jupyter-widgets/controls",
            "_view_module_version": "1.5.0",
            "_view_name": "ProgressView",
            "bar_style": "success",
            "description": "",
            "description_tooltip": null,
            "layout": "IPY_MODEL_ca1250f8d832447cbe187599425de86f",
            "max": 1042301,
            "min": 0,
            "orientation": "horizontal",
            "style": "IPY_MODEL_eda52bd3a86f480caf1a1f4c188e09a8",
            "value": 1042301
          }
        },
        "39dd5d7ec441408ea28b9cfd55b5e434": {
          "model_module": "@jupyter-widgets/controls",
          "model_name": "HTMLModel",
          "model_module_version": "1.5.0",
          "state": {
            "_dom_classes": [],
            "_model_module": "@jupyter-widgets/controls",
            "_model_module_version": "1.5.0",
            "_model_name": "HTMLModel",
            "_view_count": null,
            "_view_module": "@jupyter-widgets/controls",
            "_view_module_version": "1.5.0",
            "_view_name": "HTMLView",
            "description": "",
            "description_tooltip": null,
            "layout": "IPY_MODEL_caa99ca7b27144cf9ce8343dc130cbb8",
            "placeholder": "​",
            "style": "IPY_MODEL_5bd17e1b119d4936897d9ee6cb001911",
            "value": " 1.04M/1.04M [00:00&lt;00:00, 7.22MB/s]"
          }
        },
        "33f2e3fbdd494e9ea3148a197c43ccab": {
          "model_module": "@jupyter-widgets/base",
          "model_name": "LayoutModel",
          "model_module_version": "1.2.0",
          "state": {
            "_model_module": "@jupyter-widgets/base",
            "_model_module_version": "1.2.0",
            "_model_name": "LayoutModel",
            "_view_count": null,
            "_view_module": "@jupyter-widgets/base",
            "_view_module_version": "1.2.0",
            "_view_name": "LayoutView",
            "align_content": null,
            "align_items": null,
            "align_self": null,
            "border": null,
            "bottom": null,
            "display": null,
            "flex": null,
            "flex_flow": null,
            "grid_area": null,
            "grid_auto_columns": null,
            "grid_auto_flow": null,
            "grid_auto_rows": null,
            "grid_column": null,
            "grid_gap": null,
            "grid_row": null,
            "grid_template_areas": null,
            "grid_template_columns": null,
            "grid_template_rows": null,
            "height": null,
            "justify_content": null,
            "justify_items": null,
            "left": null,
            "margin": null,
            "max_height": null,
            "max_width": null,
            "min_height": null,
            "min_width": null,
            "object_fit": null,
            "object_position": null,
            "order": null,
            "overflow": null,
            "overflow_x": null,
            "overflow_y": null,
            "padding": null,
            "right": null,
            "top": null,
            "visibility": null,
            "width": null
          }
        },
        "7789852f0f0d46fea83ab1235eccd85f": {
          "model_module": "@jupyter-widgets/base",
          "model_name": "LayoutModel",
          "model_module_version": "1.2.0",
          "state": {
            "_model_module": "@jupyter-widgets/base",
            "_model_module_version": "1.2.0",
            "_model_name": "LayoutModel",
            "_view_count": null,
            "_view_module": "@jupyter-widgets/base",
            "_view_module_version": "1.2.0",
            "_view_name": "LayoutView",
            "align_content": null,
            "align_items": null,
            "align_self": null,
            "border": null,
            "bottom": null,
            "display": null,
            "flex": null,
            "flex_flow": null,
            "grid_area": null,
            "grid_auto_columns": null,
            "grid_auto_flow": null,
            "grid_auto_rows": null,
            "grid_column": null,
            "grid_gap": null,
            "grid_row": null,
            "grid_template_areas": null,
            "grid_template_columns": null,
            "grid_template_rows": null,
            "height": null,
            "justify_content": null,
            "justify_items": null,
            "left": null,
            "margin": null,
            "max_height": null,
            "max_width": null,
            "min_height": null,
            "min_width": null,
            "object_fit": null,
            "object_position": null,
            "order": null,
            "overflow": null,
            "overflow_x": null,
            "overflow_y": null,
            "padding": null,
            "right": null,
            "top": null,
            "visibility": null,
            "width": null
          }
        },
        "65c4040b71584f4e900796376bd8cc4e": {
          "model_module": "@jupyter-widgets/controls",
          "model_name": "DescriptionStyleModel",
          "model_module_version": "1.5.0",
          "state": {
            "_model_module": "@jupyter-widgets/controls",
            "_model_module_version": "1.5.0",
            "_model_name": "DescriptionStyleModel",
            "_view_count": null,
            "_view_module": "@jupyter-widgets/base",
            "_view_module_version": "1.2.0",
            "_view_name": "StyleView",
            "description_width": ""
          }
        },
        "ca1250f8d832447cbe187599425de86f": {
          "model_module": "@jupyter-widgets/base",
          "model_name": "LayoutModel",
          "model_module_version": "1.2.0",
          "state": {
            "_model_module": "@jupyter-widgets/base",
            "_model_module_version": "1.2.0",
            "_model_name": "LayoutModel",
            "_view_count": null,
            "_view_module": "@jupyter-widgets/base",
            "_view_module_version": "1.2.0",
            "_view_name": "LayoutView",
            "align_content": null,
            "align_items": null,
            "align_self": null,
            "border": null,
            "bottom": null,
            "display": null,
            "flex": null,
            "flex_flow": null,
            "grid_area": null,
            "grid_auto_columns": null,
            "grid_auto_flow": null,
            "grid_auto_rows": null,
            "grid_column": null,
            "grid_gap": null,
            "grid_row": null,
            "grid_template_areas": null,
            "grid_template_columns": null,
            "grid_template_rows": null,
            "height": null,
            "justify_content": null,
            "justify_items": null,
            "left": null,
            "margin": null,
            "max_height": null,
            "max_width": null,
            "min_height": null,
            "min_width": null,
            "object_fit": null,
            "object_position": null,
            "order": null,
            "overflow": null,
            "overflow_x": null,
            "overflow_y": null,
            "padding": null,
            "right": null,
            "top": null,
            "visibility": null,
            "width": null
          }
        },
        "eda52bd3a86f480caf1a1f4c188e09a8": {
          "model_module": "@jupyter-widgets/controls",
          "model_name": "ProgressStyleModel",
          "model_module_version": "1.5.0",
          "state": {
            "_model_module": "@jupyter-widgets/controls",
            "_model_module_version": "1.5.0",
            "_model_name": "ProgressStyleModel",
            "_view_count": null,
            "_view_module": "@jupyter-widgets/base",
            "_view_module_version": "1.2.0",
            "_view_name": "StyleView",
            "bar_color": null,
            "description_width": ""
          }
        },
        "caa99ca7b27144cf9ce8343dc130cbb8": {
          "model_module": "@jupyter-widgets/base",
          "model_name": "LayoutModel",
          "model_module_version": "1.2.0",
          "state": {
            "_model_module": "@jupyter-widgets/base",
            "_model_module_version": "1.2.0",
            "_model_name": "LayoutModel",
            "_view_count": null,
            "_view_module": "@jupyter-widgets/base",
            "_view_module_version": "1.2.0",
            "_view_name": "LayoutView",
            "align_content": null,
            "align_items": null,
            "align_self": null,
            "border": null,
            "bottom": null,
            "display": null,
            "flex": null,
            "flex_flow": null,
            "grid_area": null,
            "grid_auto_columns": null,
            "grid_auto_flow": null,
            "grid_auto_rows": null,
            "grid_column": null,
            "grid_gap": null,
            "grid_row": null,
            "grid_template_areas": null,
            "grid_template_columns": null,
            "grid_template_rows": null,
            "height": null,
            "justify_content": null,
            "justify_items": null,
            "left": null,
            "margin": null,
            "max_height": null,
            "max_width": null,
            "min_height": null,
            "min_width": null,
            "object_fit": null,
            "object_position": null,
            "order": null,
            "overflow": null,
            "overflow_x": null,
            "overflow_y": null,
            "padding": null,
            "right": null,
            "top": null,
            "visibility": null,
            "width": null
          }
        },
        "5bd17e1b119d4936897d9ee6cb001911": {
          "model_module": "@jupyter-widgets/controls",
          "model_name": "DescriptionStyleModel",
          "model_module_version": "1.5.0",
          "state": {
            "_model_module": "@jupyter-widgets/controls",
            "_model_module_version": "1.5.0",
            "_model_name": "DescriptionStyleModel",
            "_view_count": null,
            "_view_module": "@jupyter-widgets/base",
            "_view_module_version": "1.2.0",
            "_view_name": "StyleView",
            "description_width": ""
          }
        },
        "42a999428b304c4d891bef762c227206": {
          "model_module": "@jupyter-widgets/controls",
          "model_name": "HBoxModel",
          "model_module_version": "1.5.0",
          "state": {
            "_dom_classes": [],
            "_model_module": "@jupyter-widgets/controls",
            "_model_module_version": "1.5.0",
            "_model_name": "HBoxModel",
            "_view_count": null,
            "_view_module": "@jupyter-widgets/controls",
            "_view_module_version": "1.5.0",
            "_view_name": "HBoxView",
            "box_style": "",
            "children": [
              "IPY_MODEL_b98d429619c848b4aad7d57d46c18bbb",
              "IPY_MODEL_b11800ae668646d3aee6716b05a517c9",
              "IPY_MODEL_9669a05e2a404b8d934e73275c70d042"
            ],
            "layout": "IPY_MODEL_c0ac199274c84e9aad09d0e2e2147f16"
          }
        },
        "b98d429619c848b4aad7d57d46c18bbb": {
          "model_module": "@jupyter-widgets/controls",
          "model_name": "HTMLModel",
          "model_module_version": "1.5.0",
          "state": {
            "_dom_classes": [],
            "_model_module": "@jupyter-widgets/controls",
            "_model_module_version": "1.5.0",
            "_model_name": "HTMLModel",
            "_view_count": null,
            "_view_module": "@jupyter-widgets/controls",
            "_view_module_version": "1.5.0",
            "_view_name": "HTMLView",
            "description": "",
            "description_tooltip": null,
            "layout": "IPY_MODEL_f483f65cc1014561b68483f7b86d072a",
            "placeholder": "​",
            "style": "IPY_MODEL_a7cf8ffd6e3a4658ade2d563bacfbdda",
            "value": "Downloading (…)olve/main/merges.txt: 100%"
          }
        },
        "b11800ae668646d3aee6716b05a517c9": {
          "model_module": "@jupyter-widgets/controls",
          "model_name": "FloatProgressModel",
          "model_module_version": "1.5.0",
          "state": {
            "_dom_classes": [],
            "_model_module": "@jupyter-widgets/controls",
            "_model_module_version": "1.5.0",
            "_model_name": "FloatProgressModel",
            "_view_count": null,
            "_view_module": "@jupyter-widgets/controls",
            "_view_module_version": "1.5.0",
            "_view_name": "ProgressView",
            "bar_style": "success",
            "description": "",
            "description_tooltip": null,
            "layout": "IPY_MODEL_894565884855468ab5dc401e8ae52484",
            "max": 456318,
            "min": 0,
            "orientation": "horizontal",
            "style": "IPY_MODEL_8f25c54beb234726a86ac59d5d7d5cdb",
            "value": 456318
          }
        },
        "9669a05e2a404b8d934e73275c70d042": {
          "model_module": "@jupyter-widgets/controls",
          "model_name": "HTMLModel",
          "model_module_version": "1.5.0",
          "state": {
            "_dom_classes": [],
            "_model_module": "@jupyter-widgets/controls",
            "_model_module_version": "1.5.0",
            "_model_name": "HTMLModel",
            "_view_count": null,
            "_view_module": "@jupyter-widgets/controls",
            "_view_module_version": "1.5.0",
            "_view_name": "HTMLView",
            "description": "",
            "description_tooltip": null,
            "layout": "IPY_MODEL_18dba1c350df4c028489cbdac9ab4d23",
            "placeholder": "​",
            "style": "IPY_MODEL_33e814c0eaa84364841350dc8d980f79",
            "value": " 456k/456k [00:00&lt;00:00, 4.93MB/s]"
          }
        },
        "c0ac199274c84e9aad09d0e2e2147f16": {
          "model_module": "@jupyter-widgets/base",
          "model_name": "LayoutModel",
          "model_module_version": "1.2.0",
          "state": {
            "_model_module": "@jupyter-widgets/base",
            "_model_module_version": "1.2.0",
            "_model_name": "LayoutModel",
            "_view_count": null,
            "_view_module": "@jupyter-widgets/base",
            "_view_module_version": "1.2.0",
            "_view_name": "LayoutView",
            "align_content": null,
            "align_items": null,
            "align_self": null,
            "border": null,
            "bottom": null,
            "display": null,
            "flex": null,
            "flex_flow": null,
            "grid_area": null,
            "grid_auto_columns": null,
            "grid_auto_flow": null,
            "grid_auto_rows": null,
            "grid_column": null,
            "grid_gap": null,
            "grid_row": null,
            "grid_template_areas": null,
            "grid_template_columns": null,
            "grid_template_rows": null,
            "height": null,
            "justify_content": null,
            "justify_items": null,
            "left": null,
            "margin": null,
            "max_height": null,
            "max_width": null,
            "min_height": null,
            "min_width": null,
            "object_fit": null,
            "object_position": null,
            "order": null,
            "overflow": null,
            "overflow_x": null,
            "overflow_y": null,
            "padding": null,
            "right": null,
            "top": null,
            "visibility": null,
            "width": null
          }
        },
        "f483f65cc1014561b68483f7b86d072a": {
          "model_module": "@jupyter-widgets/base",
          "model_name": "LayoutModel",
          "model_module_version": "1.2.0",
          "state": {
            "_model_module": "@jupyter-widgets/base",
            "_model_module_version": "1.2.0",
            "_model_name": "LayoutModel",
            "_view_count": null,
            "_view_module": "@jupyter-widgets/base",
            "_view_module_version": "1.2.0",
            "_view_name": "LayoutView",
            "align_content": null,
            "align_items": null,
            "align_self": null,
            "border": null,
            "bottom": null,
            "display": null,
            "flex": null,
            "flex_flow": null,
            "grid_area": null,
            "grid_auto_columns": null,
            "grid_auto_flow": null,
            "grid_auto_rows": null,
            "grid_column": null,
            "grid_gap": null,
            "grid_row": null,
            "grid_template_areas": null,
            "grid_template_columns": null,
            "grid_template_rows": null,
            "height": null,
            "justify_content": null,
            "justify_items": null,
            "left": null,
            "margin": null,
            "max_height": null,
            "max_width": null,
            "min_height": null,
            "min_width": null,
            "object_fit": null,
            "object_position": null,
            "order": null,
            "overflow": null,
            "overflow_x": null,
            "overflow_y": null,
            "padding": null,
            "right": null,
            "top": null,
            "visibility": null,
            "width": null
          }
        },
        "a7cf8ffd6e3a4658ade2d563bacfbdda": {
          "model_module": "@jupyter-widgets/controls",
          "model_name": "DescriptionStyleModel",
          "model_module_version": "1.5.0",
          "state": {
            "_model_module": "@jupyter-widgets/controls",
            "_model_module_version": "1.5.0",
            "_model_name": "DescriptionStyleModel",
            "_view_count": null,
            "_view_module": "@jupyter-widgets/base",
            "_view_module_version": "1.2.0",
            "_view_name": "StyleView",
            "description_width": ""
          }
        },
        "894565884855468ab5dc401e8ae52484": {
          "model_module": "@jupyter-widgets/base",
          "model_name": "LayoutModel",
          "model_module_version": "1.2.0",
          "state": {
            "_model_module": "@jupyter-widgets/base",
            "_model_module_version": "1.2.0",
            "_model_name": "LayoutModel",
            "_view_count": null,
            "_view_module": "@jupyter-widgets/base",
            "_view_module_version": "1.2.0",
            "_view_name": "LayoutView",
            "align_content": null,
            "align_items": null,
            "align_self": null,
            "border": null,
            "bottom": null,
            "display": null,
            "flex": null,
            "flex_flow": null,
            "grid_area": null,
            "grid_auto_columns": null,
            "grid_auto_flow": null,
            "grid_auto_rows": null,
            "grid_column": null,
            "grid_gap": null,
            "grid_row": null,
            "grid_template_areas": null,
            "grid_template_columns": null,
            "grid_template_rows": null,
            "height": null,
            "justify_content": null,
            "justify_items": null,
            "left": null,
            "margin": null,
            "max_height": null,
            "max_width": null,
            "min_height": null,
            "min_width": null,
            "object_fit": null,
            "object_position": null,
            "order": null,
            "overflow": null,
            "overflow_x": null,
            "overflow_y": null,
            "padding": null,
            "right": null,
            "top": null,
            "visibility": null,
            "width": null
          }
        },
        "8f25c54beb234726a86ac59d5d7d5cdb": {
          "model_module": "@jupyter-widgets/controls",
          "model_name": "ProgressStyleModel",
          "model_module_version": "1.5.0",
          "state": {
            "_model_module": "@jupyter-widgets/controls",
            "_model_module_version": "1.5.0",
            "_model_name": "ProgressStyleModel",
            "_view_count": null,
            "_view_module": "@jupyter-widgets/base",
            "_view_module_version": "1.2.0",
            "_view_name": "StyleView",
            "bar_color": null,
            "description_width": ""
          }
        },
        "18dba1c350df4c028489cbdac9ab4d23": {
          "model_module": "@jupyter-widgets/base",
          "model_name": "LayoutModel",
          "model_module_version": "1.2.0",
          "state": {
            "_model_module": "@jupyter-widgets/base",
            "_model_module_version": "1.2.0",
            "_model_name": "LayoutModel",
            "_view_count": null,
            "_view_module": "@jupyter-widgets/base",
            "_view_module_version": "1.2.0",
            "_view_name": "LayoutView",
            "align_content": null,
            "align_items": null,
            "align_self": null,
            "border": null,
            "bottom": null,
            "display": null,
            "flex": null,
            "flex_flow": null,
            "grid_area": null,
            "grid_auto_columns": null,
            "grid_auto_flow": null,
            "grid_auto_rows": null,
            "grid_column": null,
            "grid_gap": null,
            "grid_row": null,
            "grid_template_areas": null,
            "grid_template_columns": null,
            "grid_template_rows": null,
            "height": null,
            "justify_content": null,
            "justify_items": null,
            "left": null,
            "margin": null,
            "max_height": null,
            "max_width": null,
            "min_height": null,
            "min_width": null,
            "object_fit": null,
            "object_position": null,
            "order": null,
            "overflow": null,
            "overflow_x": null,
            "overflow_y": null,
            "padding": null,
            "right": null,
            "top": null,
            "visibility": null,
            "width": null
          }
        },
        "33e814c0eaa84364841350dc8d980f79": {
          "model_module": "@jupyter-widgets/controls",
          "model_name": "DescriptionStyleModel",
          "model_module_version": "1.5.0",
          "state": {
            "_model_module": "@jupyter-widgets/controls",
            "_model_module_version": "1.5.0",
            "_model_name": "DescriptionStyleModel",
            "_view_count": null,
            "_view_module": "@jupyter-widgets/base",
            "_view_module_version": "1.2.0",
            "_view_name": "StyleView",
            "description_width": ""
          }
        },
        "750ae13446874bfaa6a9d5666de7e791": {
          "model_module": "@jupyter-widgets/controls",
          "model_name": "HBoxModel",
          "model_module_version": "1.5.0",
          "state": {
            "_dom_classes": [],
            "_model_module": "@jupyter-widgets/controls",
            "_model_module_version": "1.5.0",
            "_model_name": "HBoxModel",
            "_view_count": null,
            "_view_module": "@jupyter-widgets/controls",
            "_view_module_version": "1.5.0",
            "_view_name": "HBoxView",
            "box_style": "",
            "children": [
              "IPY_MODEL_0d9602768aac43d1ac3cc6b9842e5508",
              "IPY_MODEL_a693c844e2db457e977a89fa0d58c87e",
              "IPY_MODEL_ae34a753399142a98760062c686717cf"
            ],
            "layout": "IPY_MODEL_830d70839eba4de8ab4ebd097afe4ce8"
          }
        },
        "0d9602768aac43d1ac3cc6b9842e5508": {
          "model_module": "@jupyter-widgets/controls",
          "model_name": "HTMLModel",
          "model_module_version": "1.5.0",
          "state": {
            "_dom_classes": [],
            "_model_module": "@jupyter-widgets/controls",
            "_model_module_version": "1.5.0",
            "_model_name": "HTMLModel",
            "_view_count": null,
            "_view_module": "@jupyter-widgets/controls",
            "_view_module_version": "1.5.0",
            "_view_name": "HTMLView",
            "description": "",
            "description_tooltip": null,
            "layout": "IPY_MODEL_6617513140d64872836a71da9b29de21",
            "placeholder": "​",
            "style": "IPY_MODEL_d32379cfeb2d46de85267728ec2dd4cb",
            "value": "Downloading (…)/main/tokenizer.json: 100%"
          }
        },
        "a693c844e2db457e977a89fa0d58c87e": {
          "model_module": "@jupyter-widgets/controls",
          "model_name": "FloatProgressModel",
          "model_module_version": "1.5.0",
          "state": {
            "_dom_classes": [],
            "_model_module": "@jupyter-widgets/controls",
            "_model_module_version": "1.5.0",
            "_model_name": "FloatProgressModel",
            "_view_count": null,
            "_view_module": "@jupyter-widgets/controls",
            "_view_module_version": "1.5.0",
            "_view_name": "ProgressView",
            "bar_style": "success",
            "description": "",
            "description_tooltip": null,
            "layout": "IPY_MODEL_316e90feb0ae4542b7a23d57817c3645",
            "max": 1355256,
            "min": 0,
            "orientation": "horizontal",
            "style": "IPY_MODEL_c52978131727482081b164cf91182475",
            "value": 1355256
          }
        },
        "ae34a753399142a98760062c686717cf": {
          "model_module": "@jupyter-widgets/controls",
          "model_name": "HTMLModel",
          "model_module_version": "1.5.0",
          "state": {
            "_dom_classes": [],
            "_model_module": "@jupyter-widgets/controls",
            "_model_module_version": "1.5.0",
            "_model_name": "HTMLModel",
            "_view_count": null,
            "_view_module": "@jupyter-widgets/controls",
            "_view_module_version": "1.5.0",
            "_view_name": "HTMLView",
            "description": "",
            "description_tooltip": null,
            "layout": "IPY_MODEL_8fe2b43d538444329f86c460bf297f1c",
            "placeholder": "​",
            "style": "IPY_MODEL_8c42bf5f58514cbd9bfb3cdd49aaf7e7",
            "value": " 1.36M/1.36M [00:00&lt;00:00, 9.68MB/s]"
          }
        },
        "830d70839eba4de8ab4ebd097afe4ce8": {
          "model_module": "@jupyter-widgets/base",
          "model_name": "LayoutModel",
          "model_module_version": "1.2.0",
          "state": {
            "_model_module": "@jupyter-widgets/base",
            "_model_module_version": "1.2.0",
            "_model_name": "LayoutModel",
            "_view_count": null,
            "_view_module": "@jupyter-widgets/base",
            "_view_module_version": "1.2.0",
            "_view_name": "LayoutView",
            "align_content": null,
            "align_items": null,
            "align_self": null,
            "border": null,
            "bottom": null,
            "display": null,
            "flex": null,
            "flex_flow": null,
            "grid_area": null,
            "grid_auto_columns": null,
            "grid_auto_flow": null,
            "grid_auto_rows": null,
            "grid_column": null,
            "grid_gap": null,
            "grid_row": null,
            "grid_template_areas": null,
            "grid_template_columns": null,
            "grid_template_rows": null,
            "height": null,
            "justify_content": null,
            "justify_items": null,
            "left": null,
            "margin": null,
            "max_height": null,
            "max_width": null,
            "min_height": null,
            "min_width": null,
            "object_fit": null,
            "object_position": null,
            "order": null,
            "overflow": null,
            "overflow_x": null,
            "overflow_y": null,
            "padding": null,
            "right": null,
            "top": null,
            "visibility": null,
            "width": null
          }
        },
        "6617513140d64872836a71da9b29de21": {
          "model_module": "@jupyter-widgets/base",
          "model_name": "LayoutModel",
          "model_module_version": "1.2.0",
          "state": {
            "_model_module": "@jupyter-widgets/base",
            "_model_module_version": "1.2.0",
            "_model_name": "LayoutModel",
            "_view_count": null,
            "_view_module": "@jupyter-widgets/base",
            "_view_module_version": "1.2.0",
            "_view_name": "LayoutView",
            "align_content": null,
            "align_items": null,
            "align_self": null,
            "border": null,
            "bottom": null,
            "display": null,
            "flex": null,
            "flex_flow": null,
            "grid_area": null,
            "grid_auto_columns": null,
            "grid_auto_flow": null,
            "grid_auto_rows": null,
            "grid_column": null,
            "grid_gap": null,
            "grid_row": null,
            "grid_template_areas": null,
            "grid_template_columns": null,
            "grid_template_rows": null,
            "height": null,
            "justify_content": null,
            "justify_items": null,
            "left": null,
            "margin": null,
            "max_height": null,
            "max_width": null,
            "min_height": null,
            "min_width": null,
            "object_fit": null,
            "object_position": null,
            "order": null,
            "overflow": null,
            "overflow_x": null,
            "overflow_y": null,
            "padding": null,
            "right": null,
            "top": null,
            "visibility": null,
            "width": null
          }
        },
        "d32379cfeb2d46de85267728ec2dd4cb": {
          "model_module": "@jupyter-widgets/controls",
          "model_name": "DescriptionStyleModel",
          "model_module_version": "1.5.0",
          "state": {
            "_model_module": "@jupyter-widgets/controls",
            "_model_module_version": "1.5.0",
            "_model_name": "DescriptionStyleModel",
            "_view_count": null,
            "_view_module": "@jupyter-widgets/base",
            "_view_module_version": "1.2.0",
            "_view_name": "StyleView",
            "description_width": ""
          }
        },
        "316e90feb0ae4542b7a23d57817c3645": {
          "model_module": "@jupyter-widgets/base",
          "model_name": "LayoutModel",
          "model_module_version": "1.2.0",
          "state": {
            "_model_module": "@jupyter-widgets/base",
            "_model_module_version": "1.2.0",
            "_model_name": "LayoutModel",
            "_view_count": null,
            "_view_module": "@jupyter-widgets/base",
            "_view_module_version": "1.2.0",
            "_view_name": "LayoutView",
            "align_content": null,
            "align_items": null,
            "align_self": null,
            "border": null,
            "bottom": null,
            "display": null,
            "flex": null,
            "flex_flow": null,
            "grid_area": null,
            "grid_auto_columns": null,
            "grid_auto_flow": null,
            "grid_auto_rows": null,
            "grid_column": null,
            "grid_gap": null,
            "grid_row": null,
            "grid_template_areas": null,
            "grid_template_columns": null,
            "grid_template_rows": null,
            "height": null,
            "justify_content": null,
            "justify_items": null,
            "left": null,
            "margin": null,
            "max_height": null,
            "max_width": null,
            "min_height": null,
            "min_width": null,
            "object_fit": null,
            "object_position": null,
            "order": null,
            "overflow": null,
            "overflow_x": null,
            "overflow_y": null,
            "padding": null,
            "right": null,
            "top": null,
            "visibility": null,
            "width": null
          }
        },
        "c52978131727482081b164cf91182475": {
          "model_module": "@jupyter-widgets/controls",
          "model_name": "ProgressStyleModel",
          "model_module_version": "1.5.0",
          "state": {
            "_model_module": "@jupyter-widgets/controls",
            "_model_module_version": "1.5.0",
            "_model_name": "ProgressStyleModel",
            "_view_count": null,
            "_view_module": "@jupyter-widgets/base",
            "_view_module_version": "1.2.0",
            "_view_name": "StyleView",
            "bar_color": null,
            "description_width": ""
          }
        },
        "8fe2b43d538444329f86c460bf297f1c": {
          "model_module": "@jupyter-widgets/base",
          "model_name": "LayoutModel",
          "model_module_version": "1.2.0",
          "state": {
            "_model_module": "@jupyter-widgets/base",
            "_model_module_version": "1.2.0",
            "_model_name": "LayoutModel",
            "_view_count": null,
            "_view_module": "@jupyter-widgets/base",
            "_view_module_version": "1.2.0",
            "_view_name": "LayoutView",
            "align_content": null,
            "align_items": null,
            "align_self": null,
            "border": null,
            "bottom": null,
            "display": null,
            "flex": null,
            "flex_flow": null,
            "grid_area": null,
            "grid_auto_columns": null,
            "grid_auto_flow": null,
            "grid_auto_rows": null,
            "grid_column": null,
            "grid_gap": null,
            "grid_row": null,
            "grid_template_areas": null,
            "grid_template_columns": null,
            "grid_template_rows": null,
            "height": null,
            "justify_content": null,
            "justify_items": null,
            "left": null,
            "margin": null,
            "max_height": null,
            "max_width": null,
            "min_height": null,
            "min_width": null,
            "object_fit": null,
            "object_position": null,
            "order": null,
            "overflow": null,
            "overflow_x": null,
            "overflow_y": null,
            "padding": null,
            "right": null,
            "top": null,
            "visibility": null,
            "width": null
          }
        },
        "8c42bf5f58514cbd9bfb3cdd49aaf7e7": {
          "model_module": "@jupyter-widgets/controls",
          "model_name": "DescriptionStyleModel",
          "model_module_version": "1.5.0",
          "state": {
            "_model_module": "@jupyter-widgets/controls",
            "_model_module_version": "1.5.0",
            "_model_name": "DescriptionStyleModel",
            "_view_count": null,
            "_view_module": "@jupyter-widgets/base",
            "_view_module_version": "1.2.0",
            "_view_name": "StyleView",
            "description_width": ""
          }
        },
        "0416c1c92ac345569adfb718ee37f9c8": {
          "model_module": "@jupyter-widgets/controls",
          "model_name": "HBoxModel",
          "model_module_version": "1.5.0",
          "state": {
            "_dom_classes": [],
            "_model_module": "@jupyter-widgets/controls",
            "_model_module_version": "1.5.0",
            "_model_name": "HBoxModel",
            "_view_count": null,
            "_view_module": "@jupyter-widgets/controls",
            "_view_module_version": "1.5.0",
            "_view_name": "HBoxView",
            "box_style": "",
            "children": [
              "IPY_MODEL_9d62b2c4700641aaa06ecc5df747aec9",
              "IPY_MODEL_195b10267bdc414f93b2c76fa03a3456",
              "IPY_MODEL_040721155cb844da9215568ceb69552a"
            ],
            "layout": "IPY_MODEL_666e6f89d32a4dddb0af4ad491245dec"
          }
        },
        "9d62b2c4700641aaa06ecc5df747aec9": {
          "model_module": "@jupyter-widgets/controls",
          "model_name": "HTMLModel",
          "model_module_version": "1.5.0",
          "state": {
            "_dom_classes": [],
            "_model_module": "@jupyter-widgets/controls",
            "_model_module_version": "1.5.0",
            "_model_name": "HTMLModel",
            "_view_count": null,
            "_view_module": "@jupyter-widgets/controls",
            "_view_module_version": "1.5.0",
            "_view_name": "HTMLView",
            "description": "",
            "description_tooltip": null,
            "layout": "IPY_MODEL_aa5bea38046d4d1baea7fa527402d2c7",
            "placeholder": "​",
            "style": "IPY_MODEL_39b8558856ba410f8b099bc52b107d9c",
            "value": "Downloading (…)lve/main/config.json: 100%"
          }
        },
        "195b10267bdc414f93b2c76fa03a3456": {
          "model_module": "@jupyter-widgets/controls",
          "model_name": "FloatProgressModel",
          "model_module_version": "1.5.0",
          "state": {
            "_dom_classes": [],
            "_model_module": "@jupyter-widgets/controls",
            "_model_module_version": "1.5.0",
            "_model_name": "FloatProgressModel",
            "_view_count": null,
            "_view_module": "@jupyter-widgets/controls",
            "_view_module_version": "1.5.0",
            "_view_name": "ProgressView",
            "bar_style": "success",
            "description": "",
            "description_tooltip": null,
            "layout": "IPY_MODEL_e609a4cb45ca44e7955a405467b42c23",
            "max": 762,
            "min": 0,
            "orientation": "horizontal",
            "style": "IPY_MODEL_8a36a67deec84f57b0c7e85ff25d61e1",
            "value": 762
          }
        },
        "040721155cb844da9215568ceb69552a": {
          "model_module": "@jupyter-widgets/controls",
          "model_name": "HTMLModel",
          "model_module_version": "1.5.0",
          "state": {
            "_dom_classes": [],
            "_model_module": "@jupyter-widgets/controls",
            "_model_module_version": "1.5.0",
            "_model_name": "HTMLModel",
            "_view_count": null,
            "_view_module": "@jupyter-widgets/controls",
            "_view_module_version": "1.5.0",
            "_view_name": "HTMLView",
            "description": "",
            "description_tooltip": null,
            "layout": "IPY_MODEL_2b1d36eee6704a4496ba3d824bc691e5",
            "placeholder": "​",
            "style": "IPY_MODEL_b90b61dc98384c428655ac366c7ec45b",
            "value": " 762/762 [00:00&lt;00:00, 32.8kB/s]"
          }
        },
        "666e6f89d32a4dddb0af4ad491245dec": {
          "model_module": "@jupyter-widgets/base",
          "model_name": "LayoutModel",
          "model_module_version": "1.2.0",
          "state": {
            "_model_module": "@jupyter-widgets/base",
            "_model_module_version": "1.2.0",
            "_model_name": "LayoutModel",
            "_view_count": null,
            "_view_module": "@jupyter-widgets/base",
            "_view_module_version": "1.2.0",
            "_view_name": "LayoutView",
            "align_content": null,
            "align_items": null,
            "align_self": null,
            "border": null,
            "bottom": null,
            "display": null,
            "flex": null,
            "flex_flow": null,
            "grid_area": null,
            "grid_auto_columns": null,
            "grid_auto_flow": null,
            "grid_auto_rows": null,
            "grid_column": null,
            "grid_gap": null,
            "grid_row": null,
            "grid_template_areas": null,
            "grid_template_columns": null,
            "grid_template_rows": null,
            "height": null,
            "justify_content": null,
            "justify_items": null,
            "left": null,
            "margin": null,
            "max_height": null,
            "max_width": null,
            "min_height": null,
            "min_width": null,
            "object_fit": null,
            "object_position": null,
            "order": null,
            "overflow": null,
            "overflow_x": null,
            "overflow_y": null,
            "padding": null,
            "right": null,
            "top": null,
            "visibility": null,
            "width": null
          }
        },
        "aa5bea38046d4d1baea7fa527402d2c7": {
          "model_module": "@jupyter-widgets/base",
          "model_name": "LayoutModel",
          "model_module_version": "1.2.0",
          "state": {
            "_model_module": "@jupyter-widgets/base",
            "_model_module_version": "1.2.0",
            "_model_name": "LayoutModel",
            "_view_count": null,
            "_view_module": "@jupyter-widgets/base",
            "_view_module_version": "1.2.0",
            "_view_name": "LayoutView",
            "align_content": null,
            "align_items": null,
            "align_self": null,
            "border": null,
            "bottom": null,
            "display": null,
            "flex": null,
            "flex_flow": null,
            "grid_area": null,
            "grid_auto_columns": null,
            "grid_auto_flow": null,
            "grid_auto_rows": null,
            "grid_column": null,
            "grid_gap": null,
            "grid_row": null,
            "grid_template_areas": null,
            "grid_template_columns": null,
            "grid_template_rows": null,
            "height": null,
            "justify_content": null,
            "justify_items": null,
            "left": null,
            "margin": null,
            "max_height": null,
            "max_width": null,
            "min_height": null,
            "min_width": null,
            "object_fit": null,
            "object_position": null,
            "order": null,
            "overflow": null,
            "overflow_x": null,
            "overflow_y": null,
            "padding": null,
            "right": null,
            "top": null,
            "visibility": null,
            "width": null
          }
        },
        "39b8558856ba410f8b099bc52b107d9c": {
          "model_module": "@jupyter-widgets/controls",
          "model_name": "DescriptionStyleModel",
          "model_module_version": "1.5.0",
          "state": {
            "_model_module": "@jupyter-widgets/controls",
            "_model_module_version": "1.5.0",
            "_model_name": "DescriptionStyleModel",
            "_view_count": null,
            "_view_module": "@jupyter-widgets/base",
            "_view_module_version": "1.2.0",
            "_view_name": "StyleView",
            "description_width": ""
          }
        },
        "e609a4cb45ca44e7955a405467b42c23": {
          "model_module": "@jupyter-widgets/base",
          "model_name": "LayoutModel",
          "model_module_version": "1.2.0",
          "state": {
            "_model_module": "@jupyter-widgets/base",
            "_model_module_version": "1.2.0",
            "_model_name": "LayoutModel",
            "_view_count": null,
            "_view_module": "@jupyter-widgets/base",
            "_view_module_version": "1.2.0",
            "_view_name": "LayoutView",
            "align_content": null,
            "align_items": null,
            "align_self": null,
            "border": null,
            "bottom": null,
            "display": null,
            "flex": null,
            "flex_flow": null,
            "grid_area": null,
            "grid_auto_columns": null,
            "grid_auto_flow": null,
            "grid_auto_rows": null,
            "grid_column": null,
            "grid_gap": null,
            "grid_row": null,
            "grid_template_areas": null,
            "grid_template_columns": null,
            "grid_template_rows": null,
            "height": null,
            "justify_content": null,
            "justify_items": null,
            "left": null,
            "margin": null,
            "max_height": null,
            "max_width": null,
            "min_height": null,
            "min_width": null,
            "object_fit": null,
            "object_position": null,
            "order": null,
            "overflow": null,
            "overflow_x": null,
            "overflow_y": null,
            "padding": null,
            "right": null,
            "top": null,
            "visibility": null,
            "width": null
          }
        },
        "8a36a67deec84f57b0c7e85ff25d61e1": {
          "model_module": "@jupyter-widgets/controls",
          "model_name": "ProgressStyleModel",
          "model_module_version": "1.5.0",
          "state": {
            "_model_module": "@jupyter-widgets/controls",
            "_model_module_version": "1.5.0",
            "_model_name": "ProgressStyleModel",
            "_view_count": null,
            "_view_module": "@jupyter-widgets/base",
            "_view_module_version": "1.2.0",
            "_view_name": "StyleView",
            "bar_color": null,
            "description_width": ""
          }
        },
        "2b1d36eee6704a4496ba3d824bc691e5": {
          "model_module": "@jupyter-widgets/base",
          "model_name": "LayoutModel",
          "model_module_version": "1.2.0",
          "state": {
            "_model_module": "@jupyter-widgets/base",
            "_model_module_version": "1.2.0",
            "_model_name": "LayoutModel",
            "_view_count": null,
            "_view_module": "@jupyter-widgets/base",
            "_view_module_version": "1.2.0",
            "_view_name": "LayoutView",
            "align_content": null,
            "align_items": null,
            "align_self": null,
            "border": null,
            "bottom": null,
            "display": null,
            "flex": null,
            "flex_flow": null,
            "grid_area": null,
            "grid_auto_columns": null,
            "grid_auto_flow": null,
            "grid_auto_rows": null,
            "grid_column": null,
            "grid_gap": null,
            "grid_row": null,
            "grid_template_areas": null,
            "grid_template_columns": null,
            "grid_template_rows": null,
            "height": null,
            "justify_content": null,
            "justify_items": null,
            "left": null,
            "margin": null,
            "max_height": null,
            "max_width": null,
            "min_height": null,
            "min_width": null,
            "object_fit": null,
            "object_position": null,
            "order": null,
            "overflow": null,
            "overflow_x": null,
            "overflow_y": null,
            "padding": null,
            "right": null,
            "top": null,
            "visibility": null,
            "width": null
          }
        },
        "b90b61dc98384c428655ac366c7ec45b": {
          "model_module": "@jupyter-widgets/controls",
          "model_name": "DescriptionStyleModel",
          "model_module_version": "1.5.0",
          "state": {
            "_model_module": "@jupyter-widgets/controls",
            "_model_module_version": "1.5.0",
            "_model_name": "DescriptionStyleModel",
            "_view_count": null,
            "_view_module": "@jupyter-widgets/base",
            "_view_module_version": "1.2.0",
            "_view_name": "StyleView",
            "description_width": ""
          }
        },
        "0dd060cdd9d24fa4b49245453527c2bd": {
          "model_module": "@jupyter-widgets/controls",
          "model_name": "HBoxModel",
          "model_module_version": "1.5.0",
          "state": {
            "_dom_classes": [],
            "_model_module": "@jupyter-widgets/controls",
            "_model_module_version": "1.5.0",
            "_model_name": "HBoxModel",
            "_view_count": null,
            "_view_module": "@jupyter-widgets/controls",
            "_view_module_version": "1.5.0",
            "_view_name": "HBoxView",
            "box_style": "",
            "children": [
              "IPY_MODEL_09c6720fa9914fccb4cec5eb0687fe2f",
              "IPY_MODEL_1bc7fe063d1440e0937bb238e556cf03",
              "IPY_MODEL_3b550000ed674dbe8993c103ad617758"
            ],
            "layout": "IPY_MODEL_36065650fc5849fd9c325a037fa905c6"
          }
        },
        "09c6720fa9914fccb4cec5eb0687fe2f": {
          "model_module": "@jupyter-widgets/controls",
          "model_name": "HTMLModel",
          "model_module_version": "1.5.0",
          "state": {
            "_dom_classes": [],
            "_model_module": "@jupyter-widgets/controls",
            "_model_module_version": "1.5.0",
            "_model_name": "HTMLModel",
            "_view_count": null,
            "_view_module": "@jupyter-widgets/controls",
            "_view_module_version": "1.5.0",
            "_view_name": "HTMLView",
            "description": "",
            "description_tooltip": null,
            "layout": "IPY_MODEL_d8c6bc9bbab44c938e8348599982b492",
            "placeholder": "​",
            "style": "IPY_MODEL_6724031322334d5db046bc100c64ac99",
            "value": "Downloading pytorch_model.bin: 100%"
          }
        },
        "1bc7fe063d1440e0937bb238e556cf03": {
          "model_module": "@jupyter-widgets/controls",
          "model_name": "FloatProgressModel",
          "model_module_version": "1.5.0",
          "state": {
            "_dom_classes": [],
            "_model_module": "@jupyter-widgets/controls",
            "_model_module_version": "1.5.0",
            "_model_name": "FloatProgressModel",
            "_view_count": null,
            "_view_module": "@jupyter-widgets/controls",
            "_view_module_version": "1.5.0",
            "_view_name": "ProgressView",
            "bar_style": "success",
            "description": "",
            "description_tooltip": null,
            "layout": "IPY_MODEL_2264213b637d4366903810144b3b0b98",
            "max": 352833716,
            "min": 0,
            "orientation": "horizontal",
            "style": "IPY_MODEL_29895117670b46ae86aaf64ba708b7dc",
            "value": 352833716
          }
        },
        "3b550000ed674dbe8993c103ad617758": {
          "model_module": "@jupyter-widgets/controls",
          "model_name": "HTMLModel",
          "model_module_version": "1.5.0",
          "state": {
            "_dom_classes": [],
            "_model_module": "@jupyter-widgets/controls",
            "_model_module_version": "1.5.0",
            "_model_name": "HTMLModel",
            "_view_count": null,
            "_view_module": "@jupyter-widgets/controls",
            "_view_module_version": "1.5.0",
            "_view_name": "HTMLView",
            "description": "",
            "description_tooltip": null,
            "layout": "IPY_MODEL_f8b4ebb489ba4000a776e8f81e39c105",
            "placeholder": "​",
            "style": "IPY_MODEL_6165699958a94b72a0080e8e7dd05932",
            "value": " 353M/353M [00:04&lt;00:00, 80.5MB/s]"
          }
        },
        "36065650fc5849fd9c325a037fa905c6": {
          "model_module": "@jupyter-widgets/base",
          "model_name": "LayoutModel",
          "model_module_version": "1.2.0",
          "state": {
            "_model_module": "@jupyter-widgets/base",
            "_model_module_version": "1.2.0",
            "_model_name": "LayoutModel",
            "_view_count": null,
            "_view_module": "@jupyter-widgets/base",
            "_view_module_version": "1.2.0",
            "_view_name": "LayoutView",
            "align_content": null,
            "align_items": null,
            "align_self": null,
            "border": null,
            "bottom": null,
            "display": null,
            "flex": null,
            "flex_flow": null,
            "grid_area": null,
            "grid_auto_columns": null,
            "grid_auto_flow": null,
            "grid_auto_rows": null,
            "grid_column": null,
            "grid_gap": null,
            "grid_row": null,
            "grid_template_areas": null,
            "grid_template_columns": null,
            "grid_template_rows": null,
            "height": null,
            "justify_content": null,
            "justify_items": null,
            "left": null,
            "margin": null,
            "max_height": null,
            "max_width": null,
            "min_height": null,
            "min_width": null,
            "object_fit": null,
            "object_position": null,
            "order": null,
            "overflow": null,
            "overflow_x": null,
            "overflow_y": null,
            "padding": null,
            "right": null,
            "top": null,
            "visibility": null,
            "width": null
          }
        },
        "d8c6bc9bbab44c938e8348599982b492": {
          "model_module": "@jupyter-widgets/base",
          "model_name": "LayoutModel",
          "model_module_version": "1.2.0",
          "state": {
            "_model_module": "@jupyter-widgets/base",
            "_model_module_version": "1.2.0",
            "_model_name": "LayoutModel",
            "_view_count": null,
            "_view_module": "@jupyter-widgets/base",
            "_view_module_version": "1.2.0",
            "_view_name": "LayoutView",
            "align_content": null,
            "align_items": null,
            "align_self": null,
            "border": null,
            "bottom": null,
            "display": null,
            "flex": null,
            "flex_flow": null,
            "grid_area": null,
            "grid_auto_columns": null,
            "grid_auto_flow": null,
            "grid_auto_rows": null,
            "grid_column": null,
            "grid_gap": null,
            "grid_row": null,
            "grid_template_areas": null,
            "grid_template_columns": null,
            "grid_template_rows": null,
            "height": null,
            "justify_content": null,
            "justify_items": null,
            "left": null,
            "margin": null,
            "max_height": null,
            "max_width": null,
            "min_height": null,
            "min_width": null,
            "object_fit": null,
            "object_position": null,
            "order": null,
            "overflow": null,
            "overflow_x": null,
            "overflow_y": null,
            "padding": null,
            "right": null,
            "top": null,
            "visibility": null,
            "width": null
          }
        },
        "6724031322334d5db046bc100c64ac99": {
          "model_module": "@jupyter-widgets/controls",
          "model_name": "DescriptionStyleModel",
          "model_module_version": "1.5.0",
          "state": {
            "_model_module": "@jupyter-widgets/controls",
            "_model_module_version": "1.5.0",
            "_model_name": "DescriptionStyleModel",
            "_view_count": null,
            "_view_module": "@jupyter-widgets/base",
            "_view_module_version": "1.2.0",
            "_view_name": "StyleView",
            "description_width": ""
          }
        },
        "2264213b637d4366903810144b3b0b98": {
          "model_module": "@jupyter-widgets/base",
          "model_name": "LayoutModel",
          "model_module_version": "1.2.0",
          "state": {
            "_model_module": "@jupyter-widgets/base",
            "_model_module_version": "1.2.0",
            "_model_name": "LayoutModel",
            "_view_count": null,
            "_view_module": "@jupyter-widgets/base",
            "_view_module_version": "1.2.0",
            "_view_name": "LayoutView",
            "align_content": null,
            "align_items": null,
            "align_self": null,
            "border": null,
            "bottom": null,
            "display": null,
            "flex": null,
            "flex_flow": null,
            "grid_area": null,
            "grid_auto_columns": null,
            "grid_auto_flow": null,
            "grid_auto_rows": null,
            "grid_column": null,
            "grid_gap": null,
            "grid_row": null,
            "grid_template_areas": null,
            "grid_template_columns": null,
            "grid_template_rows": null,
            "height": null,
            "justify_content": null,
            "justify_items": null,
            "left": null,
            "margin": null,
            "max_height": null,
            "max_width": null,
            "min_height": null,
            "min_width": null,
            "object_fit": null,
            "object_position": null,
            "order": null,
            "overflow": null,
            "overflow_x": null,
            "overflow_y": null,
            "padding": null,
            "right": null,
            "top": null,
            "visibility": null,
            "width": null
          }
        },
        "29895117670b46ae86aaf64ba708b7dc": {
          "model_module": "@jupyter-widgets/controls",
          "model_name": "ProgressStyleModel",
          "model_module_version": "1.5.0",
          "state": {
            "_model_module": "@jupyter-widgets/controls",
            "_model_module_version": "1.5.0",
            "_model_name": "ProgressStyleModel",
            "_view_count": null,
            "_view_module": "@jupyter-widgets/base",
            "_view_module_version": "1.2.0",
            "_view_name": "StyleView",
            "bar_color": null,
            "description_width": ""
          }
        },
        "f8b4ebb489ba4000a776e8f81e39c105": {
          "model_module": "@jupyter-widgets/base",
          "model_name": "LayoutModel",
          "model_module_version": "1.2.0",
          "state": {
            "_model_module": "@jupyter-widgets/base",
            "_model_module_version": "1.2.0",
            "_model_name": "LayoutModel",
            "_view_count": null,
            "_view_module": "@jupyter-widgets/base",
            "_view_module_version": "1.2.0",
            "_view_name": "LayoutView",
            "align_content": null,
            "align_items": null,
            "align_self": null,
            "border": null,
            "bottom": null,
            "display": null,
            "flex": null,
            "flex_flow": null,
            "grid_area": null,
            "grid_auto_columns": null,
            "grid_auto_flow": null,
            "grid_auto_rows": null,
            "grid_column": null,
            "grid_gap": null,
            "grid_row": null,
            "grid_template_areas": null,
            "grid_template_columns": null,
            "grid_template_rows": null,
            "height": null,
            "justify_content": null,
            "justify_items": null,
            "left": null,
            "margin": null,
            "max_height": null,
            "max_width": null,
            "min_height": null,
            "min_width": null,
            "object_fit": null,
            "object_position": null,
            "order": null,
            "overflow": null,
            "overflow_x": null,
            "overflow_y": null,
            "padding": null,
            "right": null,
            "top": null,
            "visibility": null,
            "width": null
          }
        },
        "6165699958a94b72a0080e8e7dd05932": {
          "model_module": "@jupyter-widgets/controls",
          "model_name": "DescriptionStyleModel",
          "model_module_version": "1.5.0",
          "state": {
            "_model_module": "@jupyter-widgets/controls",
            "_model_module_version": "1.5.0",
            "_model_name": "DescriptionStyleModel",
            "_view_count": null,
            "_view_module": "@jupyter-widgets/base",
            "_view_module_version": "1.2.0",
            "_view_name": "StyleView",
            "description_width": ""
          }
        },
        "f37194cf32c5402b80eb422f2e363af2": {
          "model_module": "@jupyter-widgets/controls",
          "model_name": "HBoxModel",
          "model_module_version": "1.5.0",
          "state": {
            "_dom_classes": [],
            "_model_module": "@jupyter-widgets/controls",
            "_model_module_version": "1.5.0",
            "_model_name": "HBoxModel",
            "_view_count": null,
            "_view_module": "@jupyter-widgets/controls",
            "_view_module_version": "1.5.0",
            "_view_name": "HBoxView",
            "box_style": "",
            "children": [
              "IPY_MODEL_a3e2b38092fd48e0bb16506b2bd7ad7c",
              "IPY_MODEL_9459b83d582f47bd8b68be197e26867b",
              "IPY_MODEL_efa19a89f3d74ffa8d0c2c90d3667ded"
            ],
            "layout": "IPY_MODEL_72c305f38f07423f88e9e6776f1f75b1"
          }
        },
        "a3e2b38092fd48e0bb16506b2bd7ad7c": {
          "model_module": "@jupyter-widgets/controls",
          "model_name": "HTMLModel",
          "model_module_version": "1.5.0",
          "state": {
            "_dom_classes": [],
            "_model_module": "@jupyter-widgets/controls",
            "_model_module_version": "1.5.0",
            "_model_name": "HTMLModel",
            "_view_count": null,
            "_view_module": "@jupyter-widgets/controls",
            "_view_module_version": "1.5.0",
            "_view_name": "HTMLView",
            "description": "",
            "description_tooltip": null,
            "layout": "IPY_MODEL_973d511f741345b79aacf2f185bc839c",
            "placeholder": "​",
            "style": "IPY_MODEL_c8a7a2eef8464c1a9b5147601abe04f6",
            "value": "Downloading (…)neration_config.json: 100%"
          }
        },
        "9459b83d582f47bd8b68be197e26867b": {
          "model_module": "@jupyter-widgets/controls",
          "model_name": "FloatProgressModel",
          "model_module_version": "1.5.0",
          "state": {
            "_dom_classes": [],
            "_model_module": "@jupyter-widgets/controls",
            "_model_module_version": "1.5.0",
            "_model_name": "FloatProgressModel",
            "_view_count": null,
            "_view_module": "@jupyter-widgets/controls",
            "_view_module_version": "1.5.0",
            "_view_name": "ProgressView",
            "bar_style": "success",
            "description": "",
            "description_tooltip": null,
            "layout": "IPY_MODEL_82423474d97249b5bd59eb2266843f2b",
            "max": 124,
            "min": 0,
            "orientation": "horizontal",
            "style": "IPY_MODEL_786c1e502d69446a992eb3c5b9afab43",
            "value": 124
          }
        },
        "efa19a89f3d74ffa8d0c2c90d3667ded": {
          "model_module": "@jupyter-widgets/controls",
          "model_name": "HTMLModel",
          "model_module_version": "1.5.0",
          "state": {
            "_dom_classes": [],
            "_model_module": "@jupyter-widgets/controls",
            "_model_module_version": "1.5.0",
            "_model_name": "HTMLModel",
            "_view_count": null,
            "_view_module": "@jupyter-widgets/controls",
            "_view_module_version": "1.5.0",
            "_view_name": "HTMLView",
            "description": "",
            "description_tooltip": null,
            "layout": "IPY_MODEL_a85ceab4e2254eefb97349cbedf648e9",
            "placeholder": "​",
            "style": "IPY_MODEL_d54e2364a3b4480eab7a10e925855d0f",
            "value": " 124/124 [00:00&lt;00:00, 1.53kB/s]"
          }
        },
        "72c305f38f07423f88e9e6776f1f75b1": {
          "model_module": "@jupyter-widgets/base",
          "model_name": "LayoutModel",
          "model_module_version": "1.2.0",
          "state": {
            "_model_module": "@jupyter-widgets/base",
            "_model_module_version": "1.2.0",
            "_model_name": "LayoutModel",
            "_view_count": null,
            "_view_module": "@jupyter-widgets/base",
            "_view_module_version": "1.2.0",
            "_view_name": "LayoutView",
            "align_content": null,
            "align_items": null,
            "align_self": null,
            "border": null,
            "bottom": null,
            "display": null,
            "flex": null,
            "flex_flow": null,
            "grid_area": null,
            "grid_auto_columns": null,
            "grid_auto_flow": null,
            "grid_auto_rows": null,
            "grid_column": null,
            "grid_gap": null,
            "grid_row": null,
            "grid_template_areas": null,
            "grid_template_columns": null,
            "grid_template_rows": null,
            "height": null,
            "justify_content": null,
            "justify_items": null,
            "left": null,
            "margin": null,
            "max_height": null,
            "max_width": null,
            "min_height": null,
            "min_width": null,
            "object_fit": null,
            "object_position": null,
            "order": null,
            "overflow": null,
            "overflow_x": null,
            "overflow_y": null,
            "padding": null,
            "right": null,
            "top": null,
            "visibility": null,
            "width": null
          }
        },
        "973d511f741345b79aacf2f185bc839c": {
          "model_module": "@jupyter-widgets/base",
          "model_name": "LayoutModel",
          "model_module_version": "1.2.0",
          "state": {
            "_model_module": "@jupyter-widgets/base",
            "_model_module_version": "1.2.0",
            "_model_name": "LayoutModel",
            "_view_count": null,
            "_view_module": "@jupyter-widgets/base",
            "_view_module_version": "1.2.0",
            "_view_name": "LayoutView",
            "align_content": null,
            "align_items": null,
            "align_self": null,
            "border": null,
            "bottom": null,
            "display": null,
            "flex": null,
            "flex_flow": null,
            "grid_area": null,
            "grid_auto_columns": null,
            "grid_auto_flow": null,
            "grid_auto_rows": null,
            "grid_column": null,
            "grid_gap": null,
            "grid_row": null,
            "grid_template_areas": null,
            "grid_template_columns": null,
            "grid_template_rows": null,
            "height": null,
            "justify_content": null,
            "justify_items": null,
            "left": null,
            "margin": null,
            "max_height": null,
            "max_width": null,
            "min_height": null,
            "min_width": null,
            "object_fit": null,
            "object_position": null,
            "order": null,
            "overflow": null,
            "overflow_x": null,
            "overflow_y": null,
            "padding": null,
            "right": null,
            "top": null,
            "visibility": null,
            "width": null
          }
        },
        "c8a7a2eef8464c1a9b5147601abe04f6": {
          "model_module": "@jupyter-widgets/controls",
          "model_name": "DescriptionStyleModel",
          "model_module_version": "1.5.0",
          "state": {
            "_model_module": "@jupyter-widgets/controls",
            "_model_module_version": "1.5.0",
            "_model_name": "DescriptionStyleModel",
            "_view_count": null,
            "_view_module": "@jupyter-widgets/base",
            "_view_module_version": "1.2.0",
            "_view_name": "StyleView",
            "description_width": ""
          }
        },
        "82423474d97249b5bd59eb2266843f2b": {
          "model_module": "@jupyter-widgets/base",
          "model_name": "LayoutModel",
          "model_module_version": "1.2.0",
          "state": {
            "_model_module": "@jupyter-widgets/base",
            "_model_module_version": "1.2.0",
            "_model_name": "LayoutModel",
            "_view_count": null,
            "_view_module": "@jupyter-widgets/base",
            "_view_module_version": "1.2.0",
            "_view_name": "LayoutView",
            "align_content": null,
            "align_items": null,
            "align_self": null,
            "border": null,
            "bottom": null,
            "display": null,
            "flex": null,
            "flex_flow": null,
            "grid_area": null,
            "grid_auto_columns": null,
            "grid_auto_flow": null,
            "grid_auto_rows": null,
            "grid_column": null,
            "grid_gap": null,
            "grid_row": null,
            "grid_template_areas": null,
            "grid_template_columns": null,
            "grid_template_rows": null,
            "height": null,
            "justify_content": null,
            "justify_items": null,
            "left": null,
            "margin": null,
            "max_height": null,
            "max_width": null,
            "min_height": null,
            "min_width": null,
            "object_fit": null,
            "object_position": null,
            "order": null,
            "overflow": null,
            "overflow_x": null,
            "overflow_y": null,
            "padding": null,
            "right": null,
            "top": null,
            "visibility": null,
            "width": null
          }
        },
        "786c1e502d69446a992eb3c5b9afab43": {
          "model_module": "@jupyter-widgets/controls",
          "model_name": "ProgressStyleModel",
          "model_module_version": "1.5.0",
          "state": {
            "_model_module": "@jupyter-widgets/controls",
            "_model_module_version": "1.5.0",
            "_model_name": "ProgressStyleModel",
            "_view_count": null,
            "_view_module": "@jupyter-widgets/base",
            "_view_module_version": "1.2.0",
            "_view_name": "StyleView",
            "bar_color": null,
            "description_width": ""
          }
        },
        "a85ceab4e2254eefb97349cbedf648e9": {
          "model_module": "@jupyter-widgets/base",
          "model_name": "LayoutModel",
          "model_module_version": "1.2.0",
          "state": {
            "_model_module": "@jupyter-widgets/base",
            "_model_module_version": "1.2.0",
            "_model_name": "LayoutModel",
            "_view_count": null,
            "_view_module": "@jupyter-widgets/base",
            "_view_module_version": "1.2.0",
            "_view_name": "LayoutView",
            "align_content": null,
            "align_items": null,
            "align_self": null,
            "border": null,
            "bottom": null,
            "display": null,
            "flex": null,
            "flex_flow": null,
            "grid_area": null,
            "grid_auto_columns": null,
            "grid_auto_flow": null,
            "grid_auto_rows": null,
            "grid_column": null,
            "grid_gap": null,
            "grid_row": null,
            "grid_template_areas": null,
            "grid_template_columns": null,
            "grid_template_rows": null,
            "height": null,
            "justify_content": null,
            "justify_items": null,
            "left": null,
            "margin": null,
            "max_height": null,
            "max_width": null,
            "min_height": null,
            "min_width": null,
            "object_fit": null,
            "object_position": null,
            "order": null,
            "overflow": null,
            "overflow_x": null,
            "overflow_y": null,
            "padding": null,
            "right": null,
            "top": null,
            "visibility": null,
            "width": null
          }
        },
        "d54e2364a3b4480eab7a10e925855d0f": {
          "model_module": "@jupyter-widgets/controls",
          "model_name": "DescriptionStyleModel",
          "model_module_version": "1.5.0",
          "state": {
            "_model_module": "@jupyter-widgets/controls",
            "_model_module_version": "1.5.0",
            "_model_name": "DescriptionStyleModel",
            "_view_count": null,
            "_view_module": "@jupyter-widgets/base",
            "_view_module_version": "1.2.0",
            "_view_name": "StyleView",
            "description_width": ""
          }
        }
      }
    }
  },
  "cells": [
    {
      "cell_type": "markdown",
      "metadata": {
        "id": "view-in-github",
        "colab_type": "text"
      },
      "source": [
        "<a href=\"https://colab.research.google.com/github/Taaniya/exploring-gpt2-language-model/blob/main/Exploring_GPT2.ipynb\" target=\"_parent\"><img src=\"https://colab.research.google.com/assets/colab-badge.svg\" alt=\"Open In Colab\"/></a>"
      ]
    },
    {
      "cell_type": "code",
      "execution_count": 2,
      "metadata": {
        "id": "pO2g3fOxjAgA",
        "outputId": "fc3d90db-4ea9-4675-db6e-d65d0c34c9ad",
        "colab": {
          "base_uri": "https://localhost:8080/"
        }
      },
      "outputs": [
        {
          "output_type": "stream",
          "name": "stdout",
          "text": [
            "Looking in indexes: https://pypi.org/simple, https://us-python.pkg.dev/colab-wheels/public/simple/\n",
            "Collecting transformers\n",
            "  Downloading transformers-4.27.1-py3-none-any.whl (6.7 MB)\n",
            "\u001b[2K     \u001b[90m━━━━━━━━━━━━━━━━━━━━━━━━━━━━━━━━━━━━━━━━\u001b[0m \u001b[32m6.7/6.7 MB\u001b[0m \u001b[31m51.8 MB/s\u001b[0m eta \u001b[36m0:00:00\u001b[0m\n",
            "\u001b[?25hCollecting huggingface-hub<1.0,>=0.11.0\n",
            "  Downloading huggingface_hub-0.13.2-py3-none-any.whl (199 kB)\n",
            "\u001b[2K     \u001b[90m━━━━━━━━━━━━━━━━━━━━━━━━━━━━━━━━━━━━━━\u001b[0m \u001b[32m199.2/199.2 KB\u001b[0m \u001b[31m23.3 MB/s\u001b[0m eta \u001b[36m0:00:00\u001b[0m\n",
            "\u001b[?25hRequirement already satisfied: pyyaml>=5.1 in /usr/local/lib/python3.9/dist-packages (from transformers) (6.0)\n",
            "Requirement already satisfied: requests in /usr/local/lib/python3.9/dist-packages (from transformers) (2.27.1)\n",
            "Requirement already satisfied: tqdm>=4.27 in /usr/local/lib/python3.9/dist-packages (from transformers) (4.65.0)\n",
            "Requirement already satisfied: filelock in /usr/local/lib/python3.9/dist-packages (from transformers) (3.10.0)\n",
            "Requirement already satisfied: packaging>=20.0 in /usr/local/lib/python3.9/dist-packages (from transformers) (23.0)\n",
            "Requirement already satisfied: numpy>=1.17 in /usr/local/lib/python3.9/dist-packages (from transformers) (1.22.4)\n",
            "Collecting tokenizers!=0.11.3,<0.14,>=0.11.1\n",
            "  Downloading tokenizers-0.13.2-cp39-cp39-manylinux_2_17_x86_64.manylinux2014_x86_64.whl (7.6 MB)\n",
            "\u001b[2K     \u001b[90m━━━━━━━━━━━━━━━━━━━━━━━━━━━━━━━━━━━━━━━━\u001b[0m \u001b[32m7.6/7.6 MB\u001b[0m \u001b[31m93.7 MB/s\u001b[0m eta \u001b[36m0:00:00\u001b[0m\n",
            "\u001b[?25hRequirement already satisfied: regex!=2019.12.17 in /usr/local/lib/python3.9/dist-packages (from transformers) (2022.10.31)\n",
            "Requirement already satisfied: typing-extensions>=3.7.4.3 in /usr/local/lib/python3.9/dist-packages (from huggingface-hub<1.0,>=0.11.0->transformers) (4.5.0)\n",
            "Requirement already satisfied: urllib3<1.27,>=1.21.1 in /usr/local/lib/python3.9/dist-packages (from requests->transformers) (1.26.15)\n",
            "Requirement already satisfied: charset-normalizer~=2.0.0 in /usr/local/lib/python3.9/dist-packages (from requests->transformers) (2.0.12)\n",
            "Requirement already satisfied: certifi>=2017.4.17 in /usr/local/lib/python3.9/dist-packages (from requests->transformers) (2022.12.7)\n",
            "Requirement already satisfied: idna<4,>=2.5 in /usr/local/lib/python3.9/dist-packages (from requests->transformers) (3.4)\n",
            "Installing collected packages: tokenizers, huggingface-hub, transformers\n",
            "Successfully installed huggingface-hub-0.13.2 tokenizers-0.13.2 transformers-4.27.1\n",
            "Looking in indexes: https://pypi.org/simple, https://us-python.pkg.dev/colab-wheels/public/simple/\n",
            "Collecting datasets\n",
            "  Downloading datasets-2.10.1-py3-none-any.whl (469 kB)\n",
            "\u001b[2K     \u001b[90m━━━━━━━━━━━━━━━━━━━━━━━━━━━━━━━━━━━━━━━\u001b[0m \u001b[32m469.0/469.0 KB\u001b[0m \u001b[31m8.8 MB/s\u001b[0m eta \u001b[36m0:00:00\u001b[0m\n",
            "\u001b[?25hRequirement already satisfied: pyyaml>=5.1 in /usr/local/lib/python3.9/dist-packages (from datasets) (6.0)\n",
            "Collecting responses<0.19\n",
            "  Downloading responses-0.18.0-py3-none-any.whl (38 kB)\n",
            "Requirement already satisfied: fsspec[http]>=2021.11.1 in /usr/local/lib/python3.9/dist-packages (from datasets) (2023.3.0)\n",
            "Requirement already satisfied: numpy>=1.17 in /usr/local/lib/python3.9/dist-packages (from datasets) (1.22.4)\n",
            "Requirement already satisfied: packaging in /usr/local/lib/python3.9/dist-packages (from datasets) (23.0)\n",
            "Requirement already satisfied: pandas in /usr/local/lib/python3.9/dist-packages (from datasets) (1.4.4)\n",
            "Requirement already satisfied: pyarrow>=6.0.0 in /usr/local/lib/python3.9/dist-packages (from datasets) (9.0.0)\n",
            "Requirement already satisfied: huggingface-hub<1.0.0,>=0.2.0 in /usr/local/lib/python3.9/dist-packages (from datasets) (0.13.2)\n",
            "Collecting dill<0.3.7,>=0.3.0\n",
            "  Downloading dill-0.3.6-py3-none-any.whl (110 kB)\n",
            "\u001b[2K     \u001b[90m━━━━━━━━━━━━━━━━━━━━━━━━━━━━━━━━━━━━━━\u001b[0m \u001b[32m110.5/110.5 KB\u001b[0m \u001b[31m10.4 MB/s\u001b[0m eta \u001b[36m0:00:00\u001b[0m\n",
            "\u001b[?25hCollecting xxhash\n",
            "  Downloading xxhash-3.2.0-cp39-cp39-manylinux_2_17_x86_64.manylinux2014_x86_64.whl (212 kB)\n",
            "\u001b[2K     \u001b[90m━━━━━━━━━━━━━━━━━━━━━━━━━━━━━━━━━━━━━━\u001b[0m \u001b[32m212.2/212.2 KB\u001b[0m \u001b[31m18.4 MB/s\u001b[0m eta \u001b[36m0:00:00\u001b[0m\n",
            "\u001b[?25hRequirement already satisfied: tqdm>=4.62.1 in /usr/local/lib/python3.9/dist-packages (from datasets) (4.65.0)\n",
            "Collecting aiohttp\n",
            "  Downloading aiohttp-3.8.4-cp39-cp39-manylinux_2_17_x86_64.manylinux2014_x86_64.whl (1.0 MB)\n",
            "\u001b[2K     \u001b[90m━━━━━━━━━━━━━━━━━━━━━━━━━━━━━━━━━━━━━━━━\u001b[0m \u001b[32m1.0/1.0 MB\u001b[0m \u001b[31m36.5 MB/s\u001b[0m eta \u001b[36m0:00:00\u001b[0m\n",
            "\u001b[?25hRequirement already satisfied: requests>=2.19.0 in /usr/local/lib/python3.9/dist-packages (from datasets) (2.27.1)\n",
            "Collecting multiprocess\n",
            "  Downloading multiprocess-0.70.14-py39-none-any.whl (132 kB)\n",
            "\u001b[2K     \u001b[90m━━━━━━━━━━━━━━━━━━━━━━━━━━━━━━━━━━━━━━━\u001b[0m \u001b[32m132.9/132.9 KB\u001b[0m \u001b[31m6.8 MB/s\u001b[0m eta \u001b[36m0:00:00\u001b[0m\n",
            "\u001b[?25hCollecting async-timeout<5.0,>=4.0.0a3\n",
            "  Downloading async_timeout-4.0.2-py3-none-any.whl (5.8 kB)\n",
            "Collecting multidict<7.0,>=4.5\n",
            "  Downloading multidict-6.0.4-cp39-cp39-manylinux_2_17_x86_64.manylinux2014_x86_64.whl (114 kB)\n",
            "\u001b[2K     \u001b[90m━━━━━━━━━━━━━━━━━━━━━━━━━━━━━━━━━━━━━━━\u001b[0m \u001b[32m114.2/114.2 KB\u001b[0m \u001b[31m2.8 MB/s\u001b[0m eta \u001b[36m0:00:00\u001b[0m\n",
            "\u001b[?25hRequirement already satisfied: charset-normalizer<4.0,>=2.0 in /usr/local/lib/python3.9/dist-packages (from aiohttp->datasets) (2.0.12)\n",
            "Requirement already satisfied: attrs>=17.3.0 in /usr/local/lib/python3.9/dist-packages (from aiohttp->datasets) (22.2.0)\n",
            "Collecting frozenlist>=1.1.1\n",
            "  Downloading frozenlist-1.3.3-cp39-cp39-manylinux_2_5_x86_64.manylinux1_x86_64.manylinux_2_17_x86_64.manylinux2014_x86_64.whl (158 kB)\n",
            "\u001b[2K     \u001b[90m━━━━━━━━━━━━━━━━━━━━━━━━━━━━━━━━━━━━━━\u001b[0m \u001b[32m158.8/158.8 KB\u001b[0m \u001b[31m20.1 MB/s\u001b[0m eta \u001b[36m0:00:00\u001b[0m\n",
            "\u001b[?25hCollecting aiosignal>=1.1.2\n",
            "  Downloading aiosignal-1.3.1-py3-none-any.whl (7.6 kB)\n",
            "Collecting yarl<2.0,>=1.0\n",
            "  Downloading yarl-1.8.2-cp39-cp39-manylinux_2_17_x86_64.manylinux2014_x86_64.whl (264 kB)\n",
            "\u001b[2K     \u001b[90m━━━━━━━━━━━━━━━━━━━━━━━━━━━━━━━━━━━━━━\u001b[0m \u001b[32m264.6/264.6 KB\u001b[0m \u001b[31m24.3 MB/s\u001b[0m eta \u001b[36m0:00:00\u001b[0m\n",
            "\u001b[?25hRequirement already satisfied: typing-extensions>=3.7.4.3 in /usr/local/lib/python3.9/dist-packages (from huggingface-hub<1.0.0,>=0.2.0->datasets) (4.5.0)\n",
            "Requirement already satisfied: filelock in /usr/local/lib/python3.9/dist-packages (from huggingface-hub<1.0.0,>=0.2.0->datasets) (3.10.0)\n",
            "Requirement already satisfied: idna<4,>=2.5 in /usr/local/lib/python3.9/dist-packages (from requests>=2.19.0->datasets) (3.4)\n",
            "Requirement already satisfied: urllib3<1.27,>=1.21.1 in /usr/local/lib/python3.9/dist-packages (from requests>=2.19.0->datasets) (1.26.15)\n",
            "Requirement already satisfied: certifi>=2017.4.17 in /usr/local/lib/python3.9/dist-packages (from requests>=2.19.0->datasets) (2022.12.7)\n",
            "Requirement already satisfied: python-dateutil>=2.8.1 in /usr/local/lib/python3.9/dist-packages (from pandas->datasets) (2.8.2)\n",
            "Requirement already satisfied: pytz>=2020.1 in /usr/local/lib/python3.9/dist-packages (from pandas->datasets) (2022.7.1)\n",
            "Requirement already satisfied: six>=1.5 in /usr/local/lib/python3.9/dist-packages (from python-dateutil>=2.8.1->pandas->datasets) (1.15.0)\n",
            "Installing collected packages: xxhash, multidict, frozenlist, dill, async-timeout, yarl, responses, multiprocess, aiosignal, aiohttp, datasets\n",
            "Successfully installed aiohttp-3.8.4 aiosignal-1.3.1 async-timeout-4.0.2 datasets-2.10.1 dill-0.3.6 frozenlist-1.3.3 multidict-6.0.4 multiprocess-0.70.14 responses-0.18.0 xxhash-3.2.0 yarl-1.8.2\n"
          ]
        }
      ],
      "source": [
        "! pip install transformers\n",
        "! pip install datasets"
      ]
    },
    {
      "cell_type": "code",
      "source": [
        "from transformers import GPT2TokenizerFast, TFGPT2LMHeadModel, GPT2LMHeadModel\n",
        "from datasets import load_dataset\n",
        "from transformers import pipeline\n",
        "import numpy as np\n",
        "import tensorflow as tf"
      ],
      "metadata": {
        "id": "rPr0W6B_jkK5"
      },
      "execution_count": 60,
      "outputs": []
    },
    {
      "cell_type": "code",
      "source": [
        "tokenizer = GPT2TokenizerFast.from_pretrained('distilgpt2')"
      ],
      "metadata": {
        "colab": {
          "base_uri": "https://localhost:8080/",
          "height": 145,
          "referenced_widgets": [
            "49666f4444c3441a8e14c34102a6ae99",
            "d19924fd71094802ad28cd0d77f1b859",
            "5d94e5a902e14c519c3cbfe965a03c9f",
            "39dd5d7ec441408ea28b9cfd55b5e434",
            "33f2e3fbdd494e9ea3148a197c43ccab",
            "7789852f0f0d46fea83ab1235eccd85f",
            "65c4040b71584f4e900796376bd8cc4e",
            "ca1250f8d832447cbe187599425de86f",
            "eda52bd3a86f480caf1a1f4c188e09a8",
            "caa99ca7b27144cf9ce8343dc130cbb8",
            "5bd17e1b119d4936897d9ee6cb001911",
            "42a999428b304c4d891bef762c227206",
            "b98d429619c848b4aad7d57d46c18bbb",
            "b11800ae668646d3aee6716b05a517c9",
            "9669a05e2a404b8d934e73275c70d042",
            "c0ac199274c84e9aad09d0e2e2147f16",
            "f483f65cc1014561b68483f7b86d072a",
            "a7cf8ffd6e3a4658ade2d563bacfbdda",
            "894565884855468ab5dc401e8ae52484",
            "8f25c54beb234726a86ac59d5d7d5cdb",
            "18dba1c350df4c028489cbdac9ab4d23",
            "33e814c0eaa84364841350dc8d980f79",
            "750ae13446874bfaa6a9d5666de7e791",
            "0d9602768aac43d1ac3cc6b9842e5508",
            "a693c844e2db457e977a89fa0d58c87e",
            "ae34a753399142a98760062c686717cf",
            "830d70839eba4de8ab4ebd097afe4ce8",
            "6617513140d64872836a71da9b29de21",
            "d32379cfeb2d46de85267728ec2dd4cb",
            "316e90feb0ae4542b7a23d57817c3645",
            "c52978131727482081b164cf91182475",
            "8fe2b43d538444329f86c460bf297f1c",
            "8c42bf5f58514cbd9bfb3cdd49aaf7e7",
            "0416c1c92ac345569adfb718ee37f9c8",
            "9d62b2c4700641aaa06ecc5df747aec9",
            "195b10267bdc414f93b2c76fa03a3456",
            "040721155cb844da9215568ceb69552a",
            "666e6f89d32a4dddb0af4ad491245dec",
            "aa5bea38046d4d1baea7fa527402d2c7",
            "39b8558856ba410f8b099bc52b107d9c",
            "e609a4cb45ca44e7955a405467b42c23",
            "8a36a67deec84f57b0c7e85ff25d61e1",
            "2b1d36eee6704a4496ba3d824bc691e5",
            "b90b61dc98384c428655ac366c7ec45b"
          ]
        },
        "id": "1ucc2GWcj1-L",
        "outputId": "81a36412-b788-4e10-b273-a5ac2565425c"
      },
      "execution_count": 4,
      "outputs": [
        {
          "output_type": "display_data",
          "data": {
            "text/plain": [
              "Downloading (…)olve/main/vocab.json:   0%|          | 0.00/1.04M [00:00<?, ?B/s]"
            ],
            "application/vnd.jupyter.widget-view+json": {
              "version_major": 2,
              "version_minor": 0,
              "model_id": "49666f4444c3441a8e14c34102a6ae99"
            }
          },
          "metadata": {}
        },
        {
          "output_type": "display_data",
          "data": {
            "text/plain": [
              "Downloading (…)olve/main/merges.txt:   0%|          | 0.00/456k [00:00<?, ?B/s]"
            ],
            "application/vnd.jupyter.widget-view+json": {
              "version_major": 2,
              "version_minor": 0,
              "model_id": "42a999428b304c4d891bef762c227206"
            }
          },
          "metadata": {}
        },
        {
          "output_type": "display_data",
          "data": {
            "text/plain": [
              "Downloading (…)/main/tokenizer.json:   0%|          | 0.00/1.36M [00:00<?, ?B/s]"
            ],
            "application/vnd.jupyter.widget-view+json": {
              "version_major": 2,
              "version_minor": 0,
              "model_id": "750ae13446874bfaa6a9d5666de7e791"
            }
          },
          "metadata": {}
        },
        {
          "output_type": "display_data",
          "data": {
            "text/plain": [
              "Downloading (…)lve/main/config.json:   0%|          | 0.00/762 [00:00<?, ?B/s]"
            ],
            "application/vnd.jupyter.widget-view+json": {
              "version_major": 2,
              "version_minor": 0,
              "model_id": "0416c1c92ac345569adfb718ee37f9c8"
            }
          },
          "metadata": {}
        }
      ]
    },
    {
      "cell_type": "markdown",
      "source": [
        "#### Model's Vocab"
      ],
      "metadata": {
        "id": "k2kCTUZzljoI"
      }
    },
    {
      "cell_type": "code",
      "source": [
        "tokenizer.vocab_size"
      ],
      "metadata": {
        "colab": {
          "base_uri": "https://localhost:8080/"
        },
        "id": "cvMEXjrpleTX",
        "outputId": "207baf50-b308-445e-eca2-52b36b5633da"
      },
      "execution_count": 5,
      "outputs": [
        {
          "output_type": "execute_result",
          "data": {
            "text/plain": [
              "50257"
            ]
          },
          "metadata": {},
          "execution_count": 5
        }
      ]
    },
    {
      "cell_type": "code",
      "source": [
        "tokenizer"
      ],
      "metadata": {
        "colab": {
          "base_uri": "https://localhost:8080/"
        },
        "id": "xk1pxBsHk4WS",
        "outputId": "192cb314-6dd5-4194-bf38-050aa584ceb3"
      },
      "execution_count": 6,
      "outputs": [
        {
          "output_type": "execute_result",
          "data": {
            "text/plain": [
              "GPT2TokenizerFast(name_or_path='distilgpt2', vocab_size=50257, model_max_length=1024, is_fast=True, padding_side='right', truncation_side='right', special_tokens={'bos_token': '<|endoftext|>', 'eos_token': '<|endoftext|>', 'unk_token': '<|endoftext|>'})"
            ]
          },
          "metadata": {},
          "execution_count": 6
        }
      ]
    },
    {
      "cell_type": "code",
      "source": [
        "#### Special Tokens"
      ],
      "metadata": {
        "id": "pFTBd4e8lvUE"
      },
      "execution_count": 7,
      "outputs": []
    },
    {
      "cell_type": "code",
      "source": [
        "tokenizer.all_special_tokens"
      ],
      "metadata": {
        "colab": {
          "base_uri": "https://localhost:8080/"
        },
        "id": "S4mjkCsyk4TG",
        "outputId": "1126838e-2836-4336-f140-842dea741eac"
      },
      "execution_count": 8,
      "outputs": [
        {
          "output_type": "execute_result",
          "data": {
            "text/plain": [
              "['<|endoftext|>']"
            ]
          },
          "metadata": {},
          "execution_count": 8
        }
      ]
    },
    {
      "cell_type": "code",
      "source": [
        "tokenizer.bos_token"
      ],
      "metadata": {
        "colab": {
          "base_uri": "https://localhost:8080/",
          "height": 36
        },
        "id": "ewsJDs4wk4Pw",
        "outputId": "11511057-6fa2-401a-baae-e3799dd68959"
      },
      "execution_count": 9,
      "outputs": [
        {
          "output_type": "execute_result",
          "data": {
            "text/plain": [
              "'<|endoftext|>'"
            ],
            "application/vnd.google.colaboratory.intrinsic+json": {
              "type": "string"
            }
          },
          "metadata": {},
          "execution_count": 9
        }
      ]
    },
    {
      "cell_type": "code",
      "source": [
        "tokenizer.eos_token"
      ],
      "metadata": {
        "colab": {
          "base_uri": "https://localhost:8080/",
          "height": 36
        },
        "id": "oYLIsiQkk4NA",
        "outputId": "89702244-0bbb-49d2-d5d3-a8093da659c8"
      },
      "execution_count": 10,
      "outputs": [
        {
          "output_type": "execute_result",
          "data": {
            "text/plain": [
              "'<|endoftext|>'"
            ],
            "application/vnd.google.colaboratory.intrinsic+json": {
              "type": "string"
            }
          },
          "metadata": {},
          "execution_count": 10
        }
      ]
    },
    {
      "cell_type": "code",
      "source": [
        "tokenizer.pad_token"
      ],
      "metadata": {
        "colab": {
          "base_uri": "https://localhost:8080/"
        },
        "id": "wLxEJjxfmLp0",
        "outputId": "13971a89-4785-460e-8dcb-19a2aae44b74"
      },
      "execution_count": 11,
      "outputs": [
        {
          "output_type": "stream",
          "name": "stderr",
          "text": [
            "Using pad_token, but it is not set yet.\n"
          ]
        }
      ]
    },
    {
      "cell_type": "markdown",
      "source": [
        "GPT2 doesn't use padding. It's default mex length of sentence supported is 1024"
      ],
      "metadata": {
        "id": "cRRnOCTAl_14"
      }
    },
    {
      "cell_type": "code",
      "source": [
        "tokenizer.max_model_input_sizes"
      ],
      "metadata": {
        "colab": {
          "base_uri": "https://localhost:8080/"
        },
        "id": "ukjXO_UDl_AC",
        "outputId": "7810e7c3-218a-4704-97c9-23fb52e40068"
      },
      "execution_count": null,
      "outputs": [
        {
          "output_type": "execute_result",
          "data": {
            "text/plain": [
              "{'gpt2': 1024,\n",
              " 'gpt2-medium': 1024,\n",
              " 'gpt2-large': 1024,\n",
              " 'gpt2-xl': 1024,\n",
              " 'distilgpt2': 1024}"
            ]
          },
          "metadata": {},
          "execution_count": 11
        }
      ]
    },
    {
      "cell_type": "code",
      "source": [
        "tokenizer.model_max_length"
      ],
      "metadata": {
        "colab": {
          "base_uri": "https://localhost:8080/"
        },
        "id": "QJP0VdR_k4JM",
        "outputId": "e288395b-5368-4b87-c0df-856561d92604"
      },
      "execution_count": null,
      "outputs": [
        {
          "output_type": "execute_result",
          "data": {
            "text/plain": [
              "1024"
            ]
          },
          "metadata": {},
          "execution_count": 12
        }
      ]
    },
    {
      "cell_type": "code",
      "source": [
        "! ls sample_data/"
      ],
      "metadata": {
        "colab": {
          "base_uri": "https://localhost:8080/"
        },
        "id": "enqDhzvWoUgB",
        "outputId": "1d7ace27-6ba2-4a3f-b3e2-8c4b50cbf428"
      },
      "execution_count": null,
      "outputs": [
        {
          "output_type": "stream",
          "name": "stdout",
          "text": [
            "anscombe.json\t\t      mnist_test.csv\t     string_theory.txt\n",
            "california_housing_test.csv   mnist_train_small.csv\n",
            "california_housing_train.csv  README.md\n"
          ]
        }
      ]
    },
    {
      "cell_type": "code",
      "source": [
        "datasets = load_dataset(\"text\", data_files={\"train\":[\"sample_data/string_theory.txt\"]})"
      ],
      "metadata": {
        "colab": {
          "base_uri": "https://localhost:8080/",
          "height": 185,
          "referenced_widgets": [
            "163c25385d174cd8b3be2762cb5e2ab5",
            "b5a81054b06a4cf59289201021fef670",
            "fed8f70c7b0549f09c6a273170c77e52",
            "d0299cf5c163426ca21e38b637428afc",
            "ab02c1a0a2e245408de4e8c67dcddcd2",
            "2eefad3417874496acd26c46c54bba29",
            "867a33c84fb64e9bb3ac47b2b93a662e",
            "ae3268342a2c4f769c502503a8604f8a",
            "1ebf384d9e13483b9939f2492dd56810",
            "08ab574d16cc4b81820b166fc072921d",
            "630490858b9f45d2b51d07da5e997c34",
            "fd0ff34512bb4cde988af30290dd2b61",
            "c056a27849b74a879740adcb7b7c1d6e",
            "5f69a51f6e5446068125029d832ce1f5",
            "60fd5e6cddef45768c25b7e519a2ab0d",
            "3e2a299f2ba2425dae243da5b801974c",
            "83f516d64c424301a2a10e63ae67135e",
            "65e231eaea994721a2f0431271db1624",
            "257b74c0089a46778369be639ece8385",
            "765da23121774f3f8d03f57b0f0c0296",
            "c9977522cbdb4f4db82cae8bf56440ba",
            "6e349df039fe4dc7a7482b459fb8960b",
            "ade6780ca21f404aaa8cde08f8275626",
            "baf0c148040f417b886e90a56e23063c",
            "ad4f1bd5b387431daa74203f519cbcf8",
            "c057f820d6a64812895da6db83815fe5",
            "d5c3310c48ee4a59be05b9345d5b8334",
            "a7aae5d65ee340f0b541bee9232ee8fe",
            "b0f1e010c4d24d88a6da910307cf56ff",
            "ce9bf688480641d7bac7e0077618db8a",
            "2ee7360ee0ca46c3a2f5172c35d496a7",
            "75d7ed1c22cd4b3f9972e29104bee06d",
            "f3da80538e8e4db9aa545894928ece3e",
            "cfc946da255042ed9e36285fa90d7db6",
            "5a276b04f795423d845ab215d4bee32c",
            "d7008957df2949e98e83f493ee240306",
            "53fdeaf4243841abafa05d82620ec26c",
            "c6ca034fb9c046f2a36367de8dda3138",
            "2259b797e4e347aca59f98d9fbf4b6a0",
            "8c8166b721724d1fad507d124e6d4488",
            "e34e2a5d318f4d9890cb9a31853722fd",
            "c2cd4edeb6694a9cb05599ea64e320ca",
            "213d9dbf8a8440d3a3901e707c2a2e1e",
            "5663e099ea014e398e4275fb8ba3ed5e"
          ]
        },
        "id": "lhyjr9Wdk4Al",
        "outputId": "6b88719b-4c0b-41a5-b324-3948a1905bf9"
      },
      "execution_count": null,
      "outputs": [
        {
          "output_type": "stream",
          "name": "stderr",
          "text": [
            "Using custom data configuration default-64e91c498735b760\n"
          ]
        },
        {
          "output_type": "stream",
          "name": "stdout",
          "text": [
            "Downloading and preparing dataset text/default to /root/.cache/huggingface/datasets/text/default-64e91c498735b760/0.0.0/acc32f2f2ef863c93c2f30c52f7df6cc9053a1c2230b8d7da0d210404683ca08...\n"
          ]
        },
        {
          "output_type": "display_data",
          "data": {
            "text/plain": [
              "Downloading data files:   0%|          | 0/1 [00:00<?, ?it/s]"
            ],
            "application/vnd.jupyter.widget-view+json": {
              "version_major": 2,
              "version_minor": 0,
              "model_id": "163c25385d174cd8b3be2762cb5e2ab5"
            }
          },
          "metadata": {}
        },
        {
          "output_type": "display_data",
          "data": {
            "text/plain": [
              "Extracting data files:   0%|          | 0/1 [00:00<?, ?it/s]"
            ],
            "application/vnd.jupyter.widget-view+json": {
              "version_major": 2,
              "version_minor": 0,
              "model_id": "fd0ff34512bb4cde988af30290dd2b61"
            }
          },
          "metadata": {}
        },
        {
          "output_type": "display_data",
          "data": {
            "text/plain": [
              "0 tables [00:00, ? tables/s]"
            ],
            "application/vnd.jupyter.widget-view+json": {
              "version_major": 2,
              "version_minor": 0,
              "model_id": "ade6780ca21f404aaa8cde08f8275626"
            }
          },
          "metadata": {}
        },
        {
          "output_type": "stream",
          "name": "stdout",
          "text": [
            "Dataset text downloaded and prepared to /root/.cache/huggingface/datasets/text/default-64e91c498735b760/0.0.0/acc32f2f2ef863c93c2f30c52f7df6cc9053a1c2230b8d7da0d210404683ca08. Subsequent calls will reuse this data.\n"
          ]
        },
        {
          "output_type": "display_data",
          "data": {
            "text/plain": [
              "  0%|          | 0/1 [00:00<?, ?it/s]"
            ],
            "application/vnd.jupyter.widget-view+json": {
              "version_major": 2,
              "version_minor": 0,
              "model_id": "cfc946da255042ed9e36285fa90d7db6"
            }
          },
          "metadata": {}
        }
      ]
    },
    {
      "cell_type": "code",
      "source": [
        "datasets"
      ],
      "metadata": {
        "colab": {
          "base_uri": "https://localhost:8080/"
        },
        "id": "IgU77R2Ho3sE",
        "outputId": "85ed3896-e8b0-4933-d899-542e4256c4c1"
      },
      "execution_count": null,
      "outputs": [
        {
          "output_type": "execute_result",
          "data": {
            "text/plain": [
              "DatasetDict({\n",
              "    train: Dataset({\n",
              "        features: ['text'],\n",
              "        num_rows: 7\n",
              "    })\n",
              "})"
            ]
          },
          "metadata": {},
          "execution_count": 27
        }
      ]
    },
    {
      "cell_type": "code",
      "source": [
        "datasets['train']"
      ],
      "metadata": {
        "colab": {
          "base_uri": "https://localhost:8080/"
        },
        "id": "wk2Dlp0LpU_u",
        "outputId": "cfed2416-b772-4b6a-93b3-530e17294b3b"
      },
      "execution_count": null,
      "outputs": [
        {
          "output_type": "execute_result",
          "data": {
            "text/plain": [
              "Dataset({\n",
              "    features: ['text'],\n",
              "    num_rows: 7\n",
              "})"
            ]
          },
          "metadata": {},
          "execution_count": 29
        }
      ]
    },
    {
      "cell_type": "code",
      "source": [
        "datasets['train'][:2]"
      ],
      "metadata": {
        "colab": {
          "base_uri": "https://localhost:8080/"
        },
        "id": "UHbTKqpVo3jp",
        "outputId": "29a089b8-d447-4eb3-fdac-653a4f05d020"
      },
      "execution_count": null,
      "outputs": [
        {
          "output_type": "execute_result",
          "data": {
            "text/plain": [
              "{'text': ['In physics, string theory is a theoretical framework in which the point-like particles of particle physics are replaced by one-dimensional objects called strings.',\n",
              "  'String theory describes how these strings propagate through space and interact with each other. ']}"
            ]
          },
          "metadata": {},
          "execution_count": 28
        }
      ]
    },
    {
      "cell_type": "code",
      "source": [
        "tokenized_datasets = datasets.map(lambda examples: tokenizer(examples['text']), batched=True, num_proc=4, remove_columns=['text'])"
      ],
      "metadata": {
        "colab": {
          "base_uri": "https://localhost:8080/",
          "height": 217,
          "referenced_widgets": [
            "c6a7990654a34d4daab038a1d484f7fd",
            "0cdb7698738e45b5abf032c2fdf0ecbc",
            "c57dcfbac7ae4f708b772aae0f40245e",
            "d96b065c39f6487e802326425a05b23c",
            "6bf78bcef4f0467db2f573a5addce1dc",
            "a81a22619d6945d7b9cbce9b91d5dbb3",
            "a62ed3fbb4364a7a8efd901fa24ceb1f",
            "62616217455041d5a08ec171d7f54705",
            "3d431f557cbb40b5b2734cca12321360",
            "8928f30f719a443da7e8b3161e74534c",
            "4ccba44283864a058eac6ae7053b89fb",
            "79661fe8c2c14d35b7dc2d2578d3e561",
            "52b58df947fe4ee4bee24c4d7549a206",
            "b05864c6df804b0594f7a8adf3f245eb",
            "a021cf1083754113b996951708f186d6",
            "33bca2b30f7146b58b8288140ef2c0dc",
            "cdc1b96b8d9049eab579389490612ae8",
            "fe43cd2646f54d0194285952dc8d0153",
            "9e5ade0d1c864dd9b929cea9b9a5c877",
            "2b6b5a6b5b7e4af4a639ef0f309907f4",
            "a4009a97c75642e9ae5159974d66dbe6",
            "b9e1a7cea9624f0ab86473a0ab7ae5ec",
            "9880349fde854db18e58fa8fd0a30668",
            "0ecd5f029a2840c298f6b75efc37bfbf",
            "4fd25c8e98d041178961c337af9d115c",
            "2d63df4d9dd34448927ad612363300bc",
            "6cb3baff91fa4a4db51d7b44e48820b7",
            "2096427db0a64bd8a872cd434d9014ea",
            "3cdc0680ed684a97bf70784eea9e27f9",
            "479fed1ba0ea455faa520f6292ffe7d9",
            "4ecb41a8c8c64de88de0505f80ce07b3",
            "c7846588297d47e78fb99093b3bec6f0",
            "7e3599741d904936849e13b544ba7baa",
            "9d6da88176a94879a52216644f81ce22",
            "70fa22e9d3634a15ba62a55b72f60b18",
            "42cc861d2118418d8f77535e92fe8dd2",
            "62c19ab52fbc45c085c9232c7400f7d0",
            "58f0a11e658145e7ba4b5643fb8d3359",
            "2177edcc777b42d290ce03ebf1d50191",
            "4aeb2d6cb514498baf4a0cba5fce130a",
            "89fee1b52a3b472187afd3fcd00391b0",
            "da3808b8b4be4db5b2edd1600769a20e",
            "b5a1631bf2fc415295a9316aa84b5d88",
            "f9cb60f407274638a5963c0df96d9070"
          ]
        },
        "id": "Xu1v1hDholVx",
        "outputId": "5d4ebcae-b50e-42f1-8486-f2b991049808"
      },
      "execution_count": null,
      "outputs": [
        {
          "output_type": "stream",
          "name": "stderr",
          "text": [
            "Parameter 'function'=<function <lambda> at 0x7fba0ceb48c0> of the transform datasets.arrow_dataset.Dataset._map_single couldn't be hashed properly, a random hash was used instead. Make sure your transforms and parameters are serializable with pickle or dill for the dataset fingerprinting and caching to work. If you reuse this transform, the caching mechanism will consider it to be different from the previous calls and recompute everything. This warning is only showed once. Subsequent hashing failures won't be showed.\n"
          ]
        },
        {
          "output_type": "stream",
          "name": "stdout",
          "text": [
            "      "
          ]
        },
        {
          "output_type": "display_data",
          "data": {
            "text/plain": [
              "#0:   0%|          | 0/1 [00:00<?, ?ba/s]"
            ],
            "application/vnd.jupyter.widget-view+json": {
              "version_major": 2,
              "version_minor": 0,
              "model_id": "c6a7990654a34d4daab038a1d484f7fd"
            }
          },
          "metadata": {}
        },
        {
          "output_type": "stream",
          "name": "stdout",
          "text": [
            "  "
          ]
        },
        {
          "output_type": "display_data",
          "data": {
            "text/plain": [
              "#1:   0%|          | 0/1 [00:00<?, ?ba/s]"
            ],
            "application/vnd.jupyter.widget-view+json": {
              "version_major": 2,
              "version_minor": 0,
              "model_id": "79661fe8c2c14d35b7dc2d2578d3e561"
            }
          },
          "metadata": {}
        },
        {
          "output_type": "display_data",
          "data": {
            "text/plain": [
              "#2:   0%|          | 0/1 [00:00<?, ?ba/s]"
            ],
            "application/vnd.jupyter.widget-view+json": {
              "version_major": 2,
              "version_minor": 0,
              "model_id": "9880349fde854db18e58fa8fd0a30668"
            }
          },
          "metadata": {}
        },
        {
          "output_type": "display_data",
          "data": {
            "text/plain": [
              "#3:   0%|          | 0/1 [00:00<?, ?ba/s]"
            ],
            "application/vnd.jupyter.widget-view+json": {
              "version_major": 2,
              "version_minor": 0,
              "model_id": "9d6da88176a94879a52216644f81ce22"
            }
          },
          "metadata": {}
        }
      ]
    },
    {
      "cell_type": "code",
      "source": [
        "outputs = tokenizer(datasets['train'][:2]['text'], \n",
        "                    truncation=True,\n",
        "                    max_length=128, \n",
        "                    return_overflowing_tokens=True,\n",
        "                    return_length=True)"
      ],
      "metadata": {
        "id": "__900LFgpLz5"
      },
      "execution_count": null,
      "outputs": []
    },
    {
      "cell_type": "code",
      "source": [
        "outputs"
      ],
      "metadata": {
        "colab": {
          "base_uri": "https://localhost:8080/"
        },
        "id": "W2y3E5fXpLt1",
        "outputId": "df8773bd-59a4-4c06-87ba-11877d6f5746"
      },
      "execution_count": null,
      "outputs": [
        {
          "output_type": "execute_result",
          "data": {
            "text/plain": [
              "{'input_ids': [[818, 11887, 11, 4731, 4583, 318, 257, 16200, 9355, 287, 543, 262, 966, 12, 2339, 13166, 286, 18758, 11887, 389, 6928, 416, 530, 12, 19577, 5563, 1444, 13042, 13], [10100, 4583, 8477, 703, 777, 13042, 47933, 832, 2272, 290, 9427, 351, 1123, 584, 13, 220]], 'attention_mask': [[1, 1, 1, 1, 1, 1, 1, 1, 1, 1, 1, 1, 1, 1, 1, 1, 1, 1, 1, 1, 1, 1, 1, 1, 1, 1, 1, 1, 1], [1, 1, 1, 1, 1, 1, 1, 1, 1, 1, 1, 1, 1, 1, 1, 1]], 'length': [29, 16], 'overflow_to_sample_mapping': [0, 1]}"
            ]
          },
          "metadata": {},
          "execution_count": 31
        }
      ]
    },
    {
      "cell_type": "code",
      "source": [
        "print(f\"input IDs length: {len(outputs['input_ids'])}\")\n",
        "print(f\"input chunk length: {outputs['length']}\")\n",
        "print(f\"chunk mapping: {outputs['overflow_to_sample_mapping']}\")"
      ],
      "metadata": {
        "colab": {
          "base_uri": "https://localhost:8080/"
        },
        "id": "Vup2zZnzptU7",
        "outputId": "ab92ccf8-489b-4a28-ea37-5d6476fbb5c1"
      },
      "execution_count": null,
      "outputs": [
        {
          "output_type": "stream",
          "name": "stdout",
          "text": [
            "input IDs length: 2\n",
            "input chunk length: [29, 16]\n",
            "chunk mapping: [0, 1]\n"
          ]
        }
      ]
    },
    {
      "cell_type": "markdown",
      "source": [
        "Above 2 examples are of length 29 & 16 tokens respectively, without padding"
      ],
      "metadata": {
        "id": "LdknBoMcqWft"
      }
    },
    {
      "cell_type": "markdown",
      "source": [
        "#### Text generation"
      ],
      "metadata": {
        "id": "xGV-T4hOqd4S"
      }
    },
    {
      "cell_type": "code",
      "source": [
        "generator = pipeline(task='text-generation', model='distilgpt2')"
      ],
      "metadata": {
        "colab": {
          "base_uri": "https://localhost:8080/",
          "height": 81,
          "referenced_widgets": [
            "0dd060cdd9d24fa4b49245453527c2bd",
            "09c6720fa9914fccb4cec5eb0687fe2f",
            "1bc7fe063d1440e0937bb238e556cf03",
            "3b550000ed674dbe8993c103ad617758",
            "36065650fc5849fd9c325a037fa905c6",
            "d8c6bc9bbab44c938e8348599982b492",
            "6724031322334d5db046bc100c64ac99",
            "2264213b637d4366903810144b3b0b98",
            "29895117670b46ae86aaf64ba708b7dc",
            "f8b4ebb489ba4000a776e8f81e39c105",
            "6165699958a94b72a0080e8e7dd05932",
            "f37194cf32c5402b80eb422f2e363af2",
            "a3e2b38092fd48e0bb16506b2bd7ad7c",
            "9459b83d582f47bd8b68be197e26867b",
            "efa19a89f3d74ffa8d0c2c90d3667ded",
            "72c305f38f07423f88e9e6776f1f75b1",
            "973d511f741345b79aacf2f185bc839c",
            "c8a7a2eef8464c1a9b5147601abe04f6",
            "82423474d97249b5bd59eb2266843f2b",
            "786c1e502d69446a992eb3c5b9afab43",
            "a85ceab4e2254eefb97349cbedf648e9",
            "d54e2364a3b4480eab7a10e925855d0f"
          ]
        },
        "id": "z2CWATLJptRr",
        "outputId": "1cd3d58a-dda1-4afa-a2be-d5612c1995ec"
      },
      "execution_count": 12,
      "outputs": [
        {
          "output_type": "display_data",
          "data": {
            "text/plain": [
              "Downloading pytorch_model.bin:   0%|          | 0.00/353M [00:00<?, ?B/s]"
            ],
            "application/vnd.jupyter.widget-view+json": {
              "version_major": 2,
              "version_minor": 0,
              "model_id": "0dd060cdd9d24fa4b49245453527c2bd"
            }
          },
          "metadata": {}
        },
        {
          "output_type": "display_data",
          "data": {
            "text/plain": [
              "Downloading (…)neration_config.json:   0%|          | 0.00/124 [00:00<?, ?B/s]"
            ],
            "application/vnd.jupyter.widget-view+json": {
              "version_major": 2,
              "version_minor": 0,
              "model_id": "f37194cf32c5402b80eb422f2e363af2"
            }
          },
          "metadata": {}
        }
      ]
    },
    {
      "cell_type": "markdown",
      "source": [
        "This parameter is used as default value for generating sequence of max_length"
      ],
      "metadata": {
        "id": "yyLIfSIjq3uV"
      }
    },
    {
      "cell_type": "code",
      "source": [
        "generator.model.config.max_length"
      ],
      "metadata": {
        "colab": {
          "base_uri": "https://localhost:8080/"
        },
        "id": "vo7h7dDrptMk",
        "outputId": "b878f479-a043-48c5-f611-50dcc04e98f7"
      },
      "execution_count": 13,
      "outputs": [
        {
          "output_type": "execute_result",
          "data": {
            "text/plain": [
              "50"
            ]
          },
          "metadata": {},
          "execution_count": 13
        }
      ]
    },
    {
      "cell_type": "code",
      "source": [
        "generator(\"how are\")"
      ],
      "metadata": {
        "colab": {
          "base_uri": "https://localhost:8080/"
        },
        "id": "ksPn0uvXpszl",
        "outputId": "c687039b-26d0-42b9-930c-5bafd71a79f9"
      },
      "execution_count": 14,
      "outputs": [
        {
          "output_type": "stream",
          "name": "stderr",
          "text": [
            "/usr/local/lib/python3.9/dist-packages/transformers/generation/utils.py:1201: UserWarning: You have modified the pretrained model configuration to control generation. This is a deprecated strategy to control generation and will be removed soon, in a future version. Please use a generation configuration file (see https://huggingface.co/docs/transformers/main_classes/text_generation)\n",
            "  warnings.warn(\n",
            "Setting `pad_token_id` to `eos_token_id`:50256 for open-end generation.\n",
            "/usr/local/lib/python3.9/dist-packages/transformers/generation/utils.py:1288: UserWarning: Using `max_length`'s default (50) to control the generation length. This behaviour is deprecated and will be removed from the config in v5 of Transformers -- we recommend using `max_new_tokens` to control the maximum length of the generation.\n",
            "  warnings.warn(\n"
          ]
        },
        {
          "output_type": "execute_result",
          "data": {
            "text/plain": [
              "[{'generated_text': 'how are you going to have to pay $100 to enter the race? Let me know in the comments below!\\n\\n\\n- David D. Hall (D-S.D.C. – www.davidd.com)'}]"
            ]
          },
          "metadata": {},
          "execution_count": 14
        }
      ]
    },
    {
      "cell_type": "code",
      "source": [
        "tokenizer(\"which is\")"
      ],
      "metadata": {
        "colab": {
          "base_uri": "https://localhost:8080/"
        },
        "id": "DVDv4zFarWbS",
        "outputId": "1150b8d8-39bb-4eaa-db5a-567dee89af64"
      },
      "execution_count": 15,
      "outputs": [
        {
          "output_type": "execute_result",
          "data": {
            "text/plain": [
              "{'input_ids': [4758, 318], 'attention_mask': [1, 1]}"
            ]
          },
          "metadata": {},
          "execution_count": 15
        }
      ]
    },
    {
      "cell_type": "code",
      "source": [
        "tokenizer(\"hello<|endoftext|>\")"
      ],
      "metadata": {
        "colab": {
          "base_uri": "https://localhost:8080/"
        },
        "id": "2WHxsY8mrWRZ",
        "outputId": "add8c7a5-464e-43e2-b776-6bc059e501e1"
      },
      "execution_count": 16,
      "outputs": [
        {
          "output_type": "execute_result",
          "data": {
            "text/plain": [
              "{'input_ids': [31373, 50256], 'attention_mask': [1, 1]}"
            ]
          },
          "metadata": {},
          "execution_count": 16
        }
      ]
    },
    {
      "cell_type": "code",
      "source": [
        "tokenizer.convert_ids_to_tokens(220)"
      ],
      "metadata": {
        "colab": {
          "base_uri": "https://localhost:8080/",
          "height": 36
        },
        "id": "7gmaF7EzrxuA",
        "outputId": "a23fd1e0-7103-41f0-ba90-177ebbd4d53e"
      },
      "execution_count": 17,
      "outputs": [
        {
          "output_type": "execute_result",
          "data": {
            "text/plain": [
              "'Ġ'"
            ],
            "application/vnd.google.colaboratory.intrinsic+json": {
              "type": "string"
            }
          },
          "metadata": {},
          "execution_count": 17
        }
      ]
    },
    {
      "cell_type": "code",
      "source": [
        "# 505256 is the last token ID in its vocab (vocab size=50257)\n",
        "\n",
        "tokenizer.convert_ids_to_tokens(50256)"
      ],
      "metadata": {
        "colab": {
          "base_uri": "https://localhost:8080/",
          "height": 36
        },
        "id": "CnkuCsR1rxqh",
        "outputId": "1f37fba2-e684-49c0-a1ce-fd200ed4a0da"
      },
      "execution_count": 18,
      "outputs": [
        {
          "output_type": "execute_result",
          "data": {
            "text/plain": [
              "'<|endoftext|>'"
            ],
            "application/vnd.google.colaboratory.intrinsic+json": {
              "type": "string"
            }
          },
          "metadata": {},
          "execution_count": 18
        }
      ]
    },
    {
      "cell_type": "code",
      "source": [
        "tokenizer.tokenize(\"ambigram\")"
      ],
      "metadata": {
        "colab": {
          "base_uri": "https://localhost:8080/"
        },
        "id": "G8_FSpObrxoe",
        "outputId": "686c6285-513a-4bca-e77d-c566f8c18605"
      },
      "execution_count": 19,
      "outputs": [
        {
          "output_type": "execute_result",
          "data": {
            "text/plain": [
              "['amb', 'ig', 'ram']"
            ]
          },
          "metadata": {},
          "execution_count": 19
        }
      ]
    },
    {
      "cell_type": "code",
      "source": [
        "tokenizer.tokenize(\"In physics, string theory is a theoretical framework in which the point-like particles of \\\n",
        "particle physics are replaced by one-dimensional objects called strings.\")"
      ],
      "metadata": {
        "colab": {
          "base_uri": "https://localhost:8080/"
        },
        "id": "Peqf25eJrxlq",
        "outputId": "036d64f4-c874-47b0-eb26-a5bf5f12d858"
      },
      "execution_count": 20,
      "outputs": [
        {
          "output_type": "execute_result",
          "data": {
            "text/plain": [
              "['In',\n",
              " 'Ġphysics',\n",
              " ',',\n",
              " 'Ġstring',\n",
              " 'Ġtheory',\n",
              " 'Ġis',\n",
              " 'Ġa',\n",
              " 'Ġtheoretical',\n",
              " 'Ġframework',\n",
              " 'Ġin',\n",
              " 'Ġwhich',\n",
              " 'Ġthe',\n",
              " 'Ġpoint',\n",
              " '-',\n",
              " 'like',\n",
              " 'Ġparticles',\n",
              " 'Ġof',\n",
              " 'Ġparticle',\n",
              " 'Ġphysics',\n",
              " 'Ġare',\n",
              " 'Ġreplaced',\n",
              " 'Ġby',\n",
              " 'Ġone',\n",
              " '-',\n",
              " 'dimensional',\n",
              " 'Ġobjects',\n",
              " 'Ġcalled',\n",
              " 'Ġstrings',\n",
              " '.']"
            ]
          },
          "metadata": {},
          "execution_count": 20
        }
      ]
    },
    {
      "cell_type": "markdown",
      "source": [
        "This tokenizer treats spaces like parts of tokens\n",
        "\n",
        "### Exploring its next word predictions"
      ],
      "metadata": {
        "id": "9QXfTgCcyR14"
      }
    },
    {
      "cell_type": "code",
      "source": [
        "tokenized = tokenizer(\"how are you doing today\", return_tensors='tf')"
      ],
      "metadata": {
        "id": "-7kxbW9Orxi_"
      },
      "execution_count": 38,
      "outputs": []
    },
    {
      "cell_type": "code",
      "source": [
        "tokenized"
      ],
      "metadata": {
        "colab": {
          "base_uri": "https://localhost:8080/"
        },
        "id": "qv1wZUwurxgW",
        "outputId": "a213e3f5-43ce-4470-a138-aea207b712f4"
      },
      "execution_count": 39,
      "outputs": [
        {
          "output_type": "execute_result",
          "data": {
            "text/plain": [
              "{'input_ids': <tf.Tensor: shape=(1, 5), dtype=int32, numpy=array([[4919,  389,  345, 1804, 1909]], dtype=int32)>, 'attention_mask': <tf.Tensor: shape=(1, 5), dtype=int32, numpy=array([[1, 1, 1, 1, 1]], dtype=int32)>}"
            ]
          },
          "metadata": {},
          "execution_count": 39
        }
      ]
    },
    {
      "cell_type": "code",
      "source": [
        "lm_model = TFGPT2LMHeadModel.from_pretrained(\"distilgpt2\")"
      ],
      "metadata": {
        "colab": {
          "base_uri": "https://localhost:8080/"
        },
        "id": "XXFD4-Wps36P",
        "outputId": "bd90686a-e3a4-483e-f24e-07742e63537d"
      },
      "execution_count": 40,
      "outputs": [
        {
          "output_type": "stream",
          "name": "stderr",
          "text": [
            "All model checkpoint layers were used when initializing TFGPT2LMHeadModel.\n",
            "\n",
            "All the layers of TFGPT2LMHeadModel were initialized from the model checkpoint at distilgpt2.\n",
            "If your task is similar to the task the model of the checkpoint was trained on, you can already use TFGPT2LMHeadModel for predictions without further training.\n"
          ]
        }
      ]
    },
    {
      "cell_type": "code",
      "source": [
        "# set the argument to return attentions\n",
        "outputs = lm_model(tokenized, output_attentions=True)"
      ],
      "metadata": {
        "id": "4rnqbU14s32y"
      },
      "execution_count": 41,
      "outputs": []
    },
    {
      "cell_type": "code",
      "source": [
        "type(outputs)"
      ],
      "metadata": {
        "colab": {
          "base_uri": "https://localhost:8080/"
        },
        "id": "LWXLK7Ags30L",
        "outputId": "c577cc40-8cc6-4f6c-cf8c-2ffdf74302b2"
      },
      "execution_count": 42,
      "outputs": [
        {
          "output_type": "execute_result",
          "data": {
            "text/plain": [
              "transformers.modeling_tf_outputs.TFCausalLMOutputWithCrossAttentions"
            ]
          },
          "metadata": {},
          "execution_count": 42
        }
      ]
    },
    {
      "cell_type": "code",
      "source": [
        "outputs.attentions"
      ],
      "metadata": {
        "id": "jbUzOzkKs3x7",
        "outputId": "c00445d4-e910-41bc-9fb4-099304cd272a",
        "colab": {
          "base_uri": "https://localhost:8080/"
        }
      },
      "execution_count": 43,
      "outputs": [
        {
          "output_type": "execute_result",
          "data": {
            "text/plain": [
              "(<tf.Tensor: shape=(1, 12, 5, 5), dtype=float32, numpy=\n",
              " array([[[[9.99999940e-01, 0.00000000e+00, 0.00000000e+00,\n",
              "           0.00000000e+00, 0.00000000e+00],\n",
              "          [9.13400710e-01, 8.65991861e-02, 0.00000000e+00,\n",
              "           0.00000000e+00, 0.00000000e+00],\n",
              "          [7.97991872e-01, 1.28857613e-01, 7.31504038e-02,\n",
              "           0.00000000e+00, 0.00000000e+00],\n",
              "          [4.38733339e-01, 2.28085056e-01, 1.74588710e-01,\n",
              "           1.58592895e-01, 0.00000000e+00],\n",
              "          [4.50666547e-01, 1.83301941e-01, 1.27101392e-01,\n",
              "           1.35537595e-01, 1.03392586e-01]],\n",
              " \n",
              "         [[9.99999940e-01, 0.00000000e+00, 0.00000000e+00,\n",
              "           0.00000000e+00, 0.00000000e+00],\n",
              "          [7.97339362e-06, 9.99991953e-01, 0.00000000e+00,\n",
              "           0.00000000e+00, 0.00000000e+00],\n",
              "          [2.46466225e-05, 1.59446914e-02, 9.84030485e-01,\n",
              "           0.00000000e+00, 0.00000000e+00],\n",
              "          [1.85843817e-06, 1.43038947e-03, 1.16038031e-03,\n",
              "           9.97407436e-01, 0.00000000e+00],\n",
              "          [4.97620874e-07, 1.56387745e-03, 1.86413716e-04,\n",
              "           3.86507279e-04, 9.97862697e-01]],\n",
              " \n",
              "         [[9.99999940e-01, 0.00000000e+00, 0.00000000e+00,\n",
              "           0.00000000e+00, 0.00000000e+00],\n",
              "          [8.01832736e-01, 1.98167175e-01, 0.00000000e+00,\n",
              "           0.00000000e+00, 0.00000000e+00],\n",
              "          [6.35622263e-01, 2.50463784e-01, 1.13913879e-01,\n",
              "           0.00000000e+00, 0.00000000e+00],\n",
              "          [5.63391984e-01, 2.10873082e-01, 1.53083861e-01,\n",
              "           7.26510584e-02, 0.00000000e+00],\n",
              "          [5.54015338e-01, 1.78224593e-01, 1.26365080e-01,\n",
              "           1.05294652e-01, 3.61004025e-02]],\n",
              " \n",
              "         [[9.99999940e-01, 0.00000000e+00, 0.00000000e+00,\n",
              "           0.00000000e+00, 0.00000000e+00],\n",
              "          [1.67973980e-01, 8.32026005e-01, 0.00000000e+00,\n",
              "           0.00000000e+00, 0.00000000e+00],\n",
              "          [2.34320089e-02, 3.60135622e-02, 9.40554440e-01,\n",
              "           0.00000000e+00, 0.00000000e+00],\n",
              "          [5.77901118e-03, 4.41081077e-03, 1.53870685e-02,\n",
              "           9.74423170e-01, 0.00000000e+00],\n",
              "          [4.83333191e-04, 1.33680645e-03, 1.98105676e-03,\n",
              "           4.82221087e-03, 9.91376579e-01]],\n",
              " \n",
              "         [[9.99999940e-01, 0.00000000e+00, 0.00000000e+00,\n",
              "           0.00000000e+00, 0.00000000e+00],\n",
              "          [7.38175452e-01, 2.61824518e-01, 0.00000000e+00,\n",
              "           0.00000000e+00, 0.00000000e+00],\n",
              "          [4.07072514e-01, 4.00545239e-01, 1.92382157e-01,\n",
              "           0.00000000e+00, 0.00000000e+00],\n",
              "          [2.70343930e-01, 1.35908648e-01, 1.59302771e-01,\n",
              "           4.34444636e-01, 0.00000000e+00],\n",
              "          [1.33081675e-01, 1.52522057e-01, 5.90012744e-02,\n",
              "           1.79957703e-01, 4.75437254e-01]],\n",
              " \n",
              "         [[9.99999940e-01, 0.00000000e+00, 0.00000000e+00,\n",
              "           0.00000000e+00, 0.00000000e+00],\n",
              "          [2.63333961e-04, 9.99736667e-01, 0.00000000e+00,\n",
              "           0.00000000e+00, 0.00000000e+00],\n",
              "          [4.14424489e-04, 8.29157652e-04, 9.98756409e-01,\n",
              "           0.00000000e+00, 0.00000000e+00],\n",
              "          [3.95854877e-05, 4.99818925e-05, 6.61912491e-05,\n",
              "           9.99844313e-01, 0.00000000e+00],\n",
              "          [1.90044466e-05, 3.38430182e-05, 2.65696181e-05,\n",
              "           8.73036879e-06, 9.99911845e-01]],\n",
              " \n",
              "         [[9.99999940e-01, 0.00000000e+00, 0.00000000e+00,\n",
              "           0.00000000e+00, 0.00000000e+00],\n",
              "          [9.16527510e-01, 8.34724680e-02, 0.00000000e+00,\n",
              "           0.00000000e+00, 0.00000000e+00],\n",
              "          [7.59137154e-01, 1.76228195e-01, 6.46345392e-02,\n",
              "           0.00000000e+00, 0.00000000e+00],\n",
              "          [4.96566266e-01, 1.71648934e-01, 1.48475438e-01,\n",
              "           1.83309391e-01, 0.00000000e+00],\n",
              "          [3.74396741e-01, 1.20590113e-01, 2.71611661e-01,\n",
              "           1.30745679e-01, 1.02655731e-01]],\n",
              " \n",
              "         [[9.99999940e-01, 0.00000000e+00, 0.00000000e+00,\n",
              "           0.00000000e+00, 0.00000000e+00],\n",
              "          [8.16778898e-01, 1.83221191e-01, 0.00000000e+00,\n",
              "           0.00000000e+00, 0.00000000e+00],\n",
              "          [4.57993537e-01, 3.70167196e-01, 1.71839207e-01,\n",
              "           0.00000000e+00, 0.00000000e+00],\n",
              "          [3.85445535e-01, 2.34691158e-01, 2.64907539e-01,\n",
              "           1.14955850e-01, 0.00000000e+00],\n",
              "          [2.85515755e-01, 1.20528556e-01, 1.63367048e-01,\n",
              "           2.97270030e-01, 1.33318663e-01]],\n",
              " \n",
              "         [[9.99999940e-01, 0.00000000e+00, 0.00000000e+00,\n",
              "           0.00000000e+00, 0.00000000e+00],\n",
              "          [7.26914644e-01, 2.73085356e-01, 0.00000000e+00,\n",
              "           0.00000000e+00, 0.00000000e+00],\n",
              "          [5.51779270e-01, 1.79117411e-01, 2.69103259e-01,\n",
              "           0.00000000e+00, 0.00000000e+00],\n",
              "          [5.21745682e-01, 2.26029590e-01, 1.68658450e-01,\n",
              "           8.35662559e-02, 0.00000000e+00],\n",
              "          [5.75548291e-01, 1.38078988e-01, 9.02678519e-02,\n",
              "           1.54479086e-01, 4.16258350e-02]],\n",
              " \n",
              "         [[9.99999940e-01, 0.00000000e+00, 0.00000000e+00,\n",
              "           0.00000000e+00, 0.00000000e+00],\n",
              "          [9.05321300e-01, 9.46787074e-02, 0.00000000e+00,\n",
              "           0.00000000e+00, 0.00000000e+00],\n",
              "          [8.35836232e-01, 9.98039842e-02, 6.43598512e-02,\n",
              "           0.00000000e+00, 0.00000000e+00],\n",
              "          [7.18257606e-01, 9.19632763e-02, 1.19750671e-01,\n",
              "           7.00284541e-02, 0.00000000e+00],\n",
              "          [6.76301777e-01, 7.83713683e-02, 9.48430151e-02,\n",
              "           7.48073757e-02, 7.56764263e-02]],\n",
              " \n",
              "         [[9.99999940e-01, 0.00000000e+00, 0.00000000e+00,\n",
              "           0.00000000e+00, 0.00000000e+00],\n",
              "          [5.77899039e-01, 4.22100961e-01, 0.00000000e+00,\n",
              "           0.00000000e+00, 0.00000000e+00],\n",
              "          [4.06843573e-01, 1.14558682e-01, 4.78597760e-01,\n",
              "           0.00000000e+00, 0.00000000e+00],\n",
              "          [4.20824170e-01, 1.11831747e-01, 9.76615250e-02,\n",
              "           3.69682550e-01, 0.00000000e+00],\n",
              "          [2.98754007e-01, 1.20127618e-01, 6.68382570e-02,\n",
              "           5.29577956e-02, 4.61322278e-01]],\n",
              " \n",
              "         [[9.99999940e-01, 0.00000000e+00, 0.00000000e+00,\n",
              "           0.00000000e+00, 0.00000000e+00],\n",
              "          [6.32286489e-01, 3.67713511e-01, 0.00000000e+00,\n",
              "           0.00000000e+00, 0.00000000e+00],\n",
              "          [6.42875254e-01, 2.53603309e-01, 1.03521377e-01,\n",
              "           0.00000000e+00, 0.00000000e+00],\n",
              "          [6.06905937e-01, 1.91559091e-01, 7.81287551e-02,\n",
              "           1.23406179e-01, 0.00000000e+00],\n",
              "          [5.57956636e-01, 1.65138274e-01, 7.23368302e-02,\n",
              "           1.01171993e-01, 1.03396267e-01]]]], dtype=float32)>,\n",
              " <tf.Tensor: shape=(1, 12, 5, 5), dtype=float32, numpy=\n",
              " array([[[[0.99999994, 0.        , 0.        , 0.        , 0.        ],\n",
              "          [0.8597675 , 0.1402324 , 0.        , 0.        , 0.        ],\n",
              "          [0.57330465, 0.2587309 , 0.16796437, 0.        , 0.        ],\n",
              "          [0.48025274, 0.10407358, 0.26448667, 0.15118693, 0.        ],\n",
              "          [0.2571637 , 0.07201365, 0.2025788 , 0.3617802 , 0.1064636 ]],\n",
              " \n",
              "         [[0.99999994, 0.        , 0.        , 0.        , 0.        ],\n",
              "          [0.9149545 , 0.08504555, 0.        , 0.        , 0.        ],\n",
              "          [0.82061356, 0.14514874, 0.03423772, 0.        , 0.        ],\n",
              "          [0.85578674, 0.0978106 , 0.02174049, 0.02466208, 0.        ],\n",
              "          [0.6856152 , 0.11592159, 0.09099715, 0.02344622, 0.08401985]],\n",
              " \n",
              "         [[0.99999994, 0.        , 0.        , 0.        , 0.        ],\n",
              "          [0.82106227, 0.1789378 , 0.        , 0.        , 0.        ],\n",
              "          [0.01533285, 0.9782598 , 0.00640733, 0.        , 0.        ],\n",
              "          [0.00800441, 0.04433789, 0.932216  , 0.01544171, 0.        ],\n",
              "          [0.0879895 , 0.09670108, 0.11156636, 0.39178672, 0.3119563 ]],\n",
              " \n",
              "         [[0.99999994, 0.        , 0.        , 0.        , 0.        ],\n",
              "          [0.86351365, 0.13648646, 0.        , 0.        , 0.        ],\n",
              "          [0.50189745, 0.25709018, 0.24101226, 0.        , 0.        ],\n",
              "          [0.38355815, 0.0699785 , 0.3930601 , 0.15340334, 0.        ],\n",
              "          [0.19267717, 0.03262565, 0.11592068, 0.5062105 , 0.15256596]],\n",
              " \n",
              "         [[0.99999994, 0.        , 0.        , 0.        , 0.        ],\n",
              "          [0.9418806 , 0.05811939, 0.        , 0.        , 0.        ],\n",
              "          [0.6367388 , 0.3247128 , 0.03854838, 0.        , 0.        ],\n",
              "          [0.6990998 , 0.1670608 , 0.09575626, 0.03808314, 0.        ],\n",
              "          [0.7469646 , 0.06790972, 0.04826428, 0.11157449, 0.02528683]],\n",
              " \n",
              "         [[0.99999994, 0.        , 0.        , 0.        , 0.        ],\n",
              "          [0.95399714, 0.04600278, 0.        , 0.        , 0.        ],\n",
              "          [0.60233384, 0.29625505, 0.10141105, 0.        , 0.        ],\n",
              "          [0.20851712, 0.3870199 , 0.3963195 , 0.00814352, 0.        ],\n",
              "          [0.33979243, 0.14492367, 0.33647063, 0.08269344, 0.09611967]],\n",
              " \n",
              "         [[0.99999994, 0.        , 0.        , 0.        , 0.        ],\n",
              "          [0.93439317, 0.06560683, 0.        , 0.        , 0.        ],\n",
              "          [0.8656569 , 0.04569951, 0.08864351, 0.        , 0.        ],\n",
              "          [0.88174856, 0.03501715, 0.05258673, 0.03064757, 0.        ],\n",
              "          [0.83358043, 0.03466468, 0.05232329, 0.02516453, 0.05426718]],\n",
              " \n",
              "         [[0.99999994, 0.        , 0.        , 0.        , 0.        ],\n",
              "          [0.9743271 , 0.0256728 , 0.        , 0.        , 0.        ],\n",
              "          [0.9406897 , 0.01988244, 0.03942781, 0.        , 0.        ],\n",
              "          [0.9167704 , 0.01107037, 0.03570934, 0.03644978, 0.        ],\n",
              "          [0.84910923, 0.01287378, 0.03675339, 0.05127855, 0.0499851 ]],\n",
              " \n",
              "         [[0.99999994, 0.        , 0.        , 0.        , 0.        ],\n",
              "          [0.898375  , 0.10162506, 0.        , 0.        , 0.        ],\n",
              "          [0.06681053, 0.91508126, 0.01810836, 0.        , 0.        ],\n",
              "          [0.1254551 , 0.80868316, 0.01256434, 0.05329744, 0.        ],\n",
              "          [0.28380883, 0.35494024, 0.07998402, 0.20283917, 0.07842771]],\n",
              " \n",
              "         [[0.99999994, 0.        , 0.        , 0.        , 0.        ],\n",
              "          [0.8831332 , 0.11686677, 0.        , 0.        , 0.        ],\n",
              "          [0.42635423, 0.39752993, 0.17611584, 0.        , 0.        ],\n",
              "          [0.09824398, 0.0916753 , 0.7318892 , 0.07819153, 0.        ],\n",
              "          [0.02549056, 0.03865895, 0.13702667, 0.7630834 , 0.03574036]],\n",
              " \n",
              "         [[0.99999994, 0.        , 0.        , 0.        , 0.        ],\n",
              "          [0.88761026, 0.11238977, 0.        , 0.        , 0.        ],\n",
              "          [0.7622028 , 0.08912499, 0.14867216, 0.        , 0.        ],\n",
              "          [0.70378906, 0.05954301, 0.06582596, 0.17084193, 0.        ],\n",
              "          [0.5726752 , 0.07057314, 0.07829371, 0.14432564, 0.13413219]],\n",
              " \n",
              "         [[0.99999994, 0.        , 0.        , 0.        , 0.        ],\n",
              "          [0.9659316 , 0.03406842, 0.        , 0.        , 0.        ],\n",
              "          [0.9410971 , 0.02480281, 0.03410003, 0.        , 0.        ],\n",
              "          [0.90673065, 0.01887877, 0.045429  , 0.02896148, 0.        ],\n",
              "          [0.8804811 , 0.01964566, 0.03377872, 0.03173279, 0.03436172]]]],\n",
              "       dtype=float32)>,\n",
              " <tf.Tensor: shape=(1, 12, 5, 5), dtype=float32, numpy=\n",
              " array([[[[9.99999940e-01, 0.00000000e+00, 0.00000000e+00,\n",
              "           0.00000000e+00, 0.00000000e+00],\n",
              "          [9.45412099e-01, 5.45878559e-02, 0.00000000e+00,\n",
              "           0.00000000e+00, 0.00000000e+00],\n",
              "          [2.01711535e-01, 7.80505717e-01, 1.77827794e-02,\n",
              "           0.00000000e+00, 0.00000000e+00],\n",
              "          [6.25145555e-01, 2.83836931e-01, 5.66595234e-02,\n",
              "           3.43578719e-02, 0.00000000e+00],\n",
              "          [8.10311735e-01, 2.79640071e-02, 1.04511296e-02,\n",
              "           9.04312059e-02, 6.08420372e-02]],\n",
              " \n",
              "         [[9.99999940e-01, 0.00000000e+00, 0.00000000e+00,\n",
              "           0.00000000e+00, 0.00000000e+00],\n",
              "          [9.60124552e-01, 3.98754328e-02, 0.00000000e+00,\n",
              "           0.00000000e+00, 0.00000000e+00],\n",
              "          [4.96375680e-01, 4.59663630e-01, 4.39607315e-02,\n",
              "           0.00000000e+00, 0.00000000e+00],\n",
              "          [4.22368050e-01, 3.57312202e-01, 2.02753797e-01,\n",
              "           1.75660215e-02, 0.00000000e+00],\n",
              "          [6.77084446e-01, 2.58911520e-01, 2.53273956e-02,\n",
              "           1.54131735e-02, 2.32634228e-02]],\n",
              " \n",
              "         [[9.99999940e-01, 0.00000000e+00, 0.00000000e+00,\n",
              "           0.00000000e+00, 0.00000000e+00],\n",
              "          [9.67762113e-01, 3.22378129e-02, 0.00000000e+00,\n",
              "           0.00000000e+00, 0.00000000e+00],\n",
              "          [9.06055570e-01, 3.86754386e-02, 5.52690066e-02,\n",
              "           0.00000000e+00, 0.00000000e+00],\n",
              "          [8.44253361e-01, 7.13401586e-02, 6.92127720e-02,\n",
              "           1.51936691e-02, 0.00000000e+00],\n",
              "          [7.58378983e-01, 6.47589862e-02, 1.47623733e-01,\n",
              "           1.06668454e-02, 1.85714960e-02]],\n",
              " \n",
              "         [[9.99999940e-01, 0.00000000e+00, 0.00000000e+00,\n",
              "           0.00000000e+00, 0.00000000e+00],\n",
              "          [8.21107745e-01, 1.78892195e-01, 0.00000000e+00,\n",
              "           0.00000000e+00, 0.00000000e+00],\n",
              "          [7.36724377e-01, 1.86568931e-01, 7.67066926e-02,\n",
              "           0.00000000e+00, 0.00000000e+00],\n",
              "          [3.34388375e-01, 3.52714509e-02, 5.84228098e-01,\n",
              "           4.61120903e-02, 0.00000000e+00],\n",
              "          [7.71762609e-01, 5.53085990e-02, 9.85652432e-02,\n",
              "           5.65218255e-02, 1.78418420e-02]],\n",
              " \n",
              "         [[9.99999940e-01, 0.00000000e+00, 0.00000000e+00,\n",
              "           0.00000000e+00, 0.00000000e+00],\n",
              "          [9.76948500e-01, 2.30514947e-02, 0.00000000e+00,\n",
              "           0.00000000e+00, 0.00000000e+00],\n",
              "          [8.93885016e-01, 2.87506338e-02, 7.73642212e-02,\n",
              "           0.00000000e+00, 0.00000000e+00],\n",
              "          [9.04778063e-01, 1.84332822e-02, 4.66733463e-02,\n",
              "           3.01153660e-02, 0.00000000e+00],\n",
              "          [8.31713438e-01, 9.02404077e-03, 2.25339979e-02,\n",
              "           1.50608718e-02, 1.21667609e-01]],\n",
              " \n",
              "         [[9.99999940e-01, 0.00000000e+00, 0.00000000e+00,\n",
              "           0.00000000e+00, 0.00000000e+00],\n",
              "          [9.61762309e-01, 3.82376313e-02, 0.00000000e+00,\n",
              "           0.00000000e+00, 0.00000000e+00],\n",
              "          [7.93993413e-01, 8.10892209e-02, 1.24917418e-01,\n",
              "           0.00000000e+00, 0.00000000e+00],\n",
              "          [8.45967948e-01, 2.59203631e-02, 1.05886966e-01,\n",
              "           2.22246740e-02, 0.00000000e+00],\n",
              "          [7.53651798e-01, 2.58241352e-02, 8.56481716e-02,\n",
              "           3.83775979e-02, 9.64983851e-02]],\n",
              " \n",
              "         [[9.99999940e-01, 0.00000000e+00, 0.00000000e+00,\n",
              "           0.00000000e+00, 0.00000000e+00],\n",
              "          [9.80189681e-01, 1.98102184e-02, 0.00000000e+00,\n",
              "           0.00000000e+00, 0.00000000e+00],\n",
              "          [8.41612518e-01, 1.50894567e-01, 7.49289151e-03,\n",
              "           0.00000000e+00, 0.00000000e+00],\n",
              "          [8.73695493e-01, 5.36682121e-02, 5.74201867e-02,\n",
              "           1.52160274e-02, 0.00000000e+00],\n",
              "          [7.20602393e-01, 6.98227659e-02, 9.07247365e-02,\n",
              "           5.65437973e-02, 6.23063445e-02]],\n",
              " \n",
              "         [[9.99999940e-01, 0.00000000e+00, 0.00000000e+00,\n",
              "           0.00000000e+00, 0.00000000e+00],\n",
              "          [8.23243022e-01, 1.76756918e-01, 0.00000000e+00,\n",
              "           0.00000000e+00, 0.00000000e+00],\n",
              "          [4.97741312e-01, 8.52529630e-02, 4.17005599e-01,\n",
              "           0.00000000e+00, 0.00000000e+00],\n",
              "          [3.41026515e-01, 2.04442311e-02, 6.46198243e-02,\n",
              "           5.73909461e-01, 0.00000000e+00],\n",
              "          [3.58592153e-01, 2.27006227e-02, 3.74282673e-02,\n",
              "           9.26393569e-02, 4.88639653e-01]],\n",
              " \n",
              "         [[9.99999940e-01, 0.00000000e+00, 0.00000000e+00,\n",
              "           0.00000000e+00, 0.00000000e+00],\n",
              "          [9.86306608e-01, 1.36933271e-02, 0.00000000e+00,\n",
              "           0.00000000e+00, 0.00000000e+00],\n",
              "          [9.45007384e-01, 4.11239304e-02, 1.38686551e-02,\n",
              "           0.00000000e+00, 0.00000000e+00],\n",
              "          [9.52179790e-01, 9.31584556e-03, 1.29235871e-02,\n",
              "           2.55806651e-02, 0.00000000e+00],\n",
              "          [9.00151432e-01, 1.90703180e-02, 1.09111490e-02,\n",
              "           3.34673971e-02, 3.63998525e-02]],\n",
              " \n",
              "         [[9.99999940e-01, 0.00000000e+00, 0.00000000e+00,\n",
              "           0.00000000e+00, 0.00000000e+00],\n",
              "          [9.88540947e-01, 1.14590265e-02, 0.00000000e+00,\n",
              "           0.00000000e+00, 0.00000000e+00],\n",
              "          [7.02740908e-01, 2.21843764e-01, 7.54151866e-02,\n",
              "           0.00000000e+00, 0.00000000e+00],\n",
              "          [2.58995175e-01, 4.49154019e-01, 2.77818054e-01,\n",
              "           1.40327197e-02, 0.00000000e+00],\n",
              "          [2.28317142e-01, 1.93000495e-01, 3.36888611e-01,\n",
              "           2.14652911e-01, 2.71407496e-02]],\n",
              " \n",
              "         [[9.99999940e-01, 0.00000000e+00, 0.00000000e+00,\n",
              "           0.00000000e+00, 0.00000000e+00],\n",
              "          [9.93113101e-01, 6.88685523e-03, 0.00000000e+00,\n",
              "           0.00000000e+00, 0.00000000e+00],\n",
              "          [9.61303949e-01, 1.01958057e-02, 2.85003316e-02,\n",
              "           0.00000000e+00, 0.00000000e+00],\n",
              "          [9.57330167e-01, 1.03265718e-02, 2.21204907e-02,\n",
              "           1.02227749e-02, 0.00000000e+00],\n",
              "          [9.12609696e-01, 1.86419412e-02, 2.89218575e-02,\n",
              "           6.98853144e-03, 3.28379013e-02]],\n",
              " \n",
              "         [[9.99999940e-01, 0.00000000e+00, 0.00000000e+00,\n",
              "           0.00000000e+00, 0.00000000e+00],\n",
              "          [9.87381637e-01, 1.26183415e-02, 0.00000000e+00,\n",
              "           0.00000000e+00, 0.00000000e+00],\n",
              "          [1.92810205e-07, 9.99867201e-01, 1.32517234e-04,\n",
              "           0.00000000e+00, 0.00000000e+00],\n",
              "          [2.55628518e-10, 1.73438075e-09, 9.99997735e-01,\n",
              "           2.31064519e-06, 0.00000000e+00],\n",
              "          [1.74128488e-07, 6.12079665e-10, 1.76771451e-07,\n",
              "           9.99952674e-01, 4.69755250e-05]]]], dtype=float32)>,\n",
              " <tf.Tensor: shape=(1, 12, 5, 5), dtype=float32, numpy=\n",
              " array([[[[9.99999940e-01, 0.00000000e+00, 0.00000000e+00,\n",
              "           0.00000000e+00, 0.00000000e+00],\n",
              "          [8.91054928e-01, 1.08945176e-01, 0.00000000e+00,\n",
              "           0.00000000e+00, 0.00000000e+00],\n",
              "          [6.33303761e-01, 3.05249631e-01, 6.14465326e-02,\n",
              "           0.00000000e+00, 0.00000000e+00],\n",
              "          [8.05777133e-01, 4.28165942e-02, 1.11792848e-01,\n",
              "           3.96134555e-02, 0.00000000e+00],\n",
              "          [3.05880338e-01, 7.20612481e-02, 6.98813125e-02,\n",
              "           5.38901448e-01, 1.32754613e-02]],\n",
              " \n",
              "         [[9.99999940e-01, 0.00000000e+00, 0.00000000e+00,\n",
              "           0.00000000e+00, 0.00000000e+00],\n",
              "          [9.83484745e-01, 1.65152680e-02, 0.00000000e+00,\n",
              "           0.00000000e+00, 0.00000000e+00],\n",
              "          [9.63084221e-01, 1.80152953e-02, 1.89004615e-02,\n",
              "           0.00000000e+00, 0.00000000e+00],\n",
              "          [9.29842591e-01, 1.51213603e-02, 1.56794786e-02,\n",
              "           3.93566601e-02, 0.00000000e+00],\n",
              "          [8.38471413e-01, 1.05855986e-02, 3.51530779e-03,\n",
              "           9.71271005e-03, 1.37715012e-01]],\n",
              " \n",
              "         [[9.99999940e-01, 0.00000000e+00, 0.00000000e+00,\n",
              "           0.00000000e+00, 0.00000000e+00],\n",
              "          [9.97648120e-01, 2.35186750e-03, 0.00000000e+00,\n",
              "           0.00000000e+00, 0.00000000e+00],\n",
              "          [9.97054100e-01, 9.96667659e-04, 1.94928783e-03,\n",
              "           0.00000000e+00, 0.00000000e+00],\n",
              "          [9.99161541e-01, 1.90495281e-04, 1.51217901e-04,\n",
              "           4.96692373e-04, 0.00000000e+00],\n",
              "          [9.99325693e-01, 1.17959396e-04, 1.86015143e-07,\n",
              "           1.02417243e-05, 5.45864401e-04]],\n",
              " \n",
              "         [[9.99999940e-01, 0.00000000e+00, 0.00000000e+00,\n",
              "           0.00000000e+00, 0.00000000e+00],\n",
              "          [9.26978469e-01, 7.30215237e-02, 0.00000000e+00,\n",
              "           0.00000000e+00, 0.00000000e+00],\n",
              "          [8.62292886e-01, 8.02717507e-02, 5.74353077e-02,\n",
              "           0.00000000e+00, 0.00000000e+00],\n",
              "          [8.48087192e-01, 6.96974918e-02, 5.05288355e-02,\n",
              "           3.16865556e-02, 0.00000000e+00],\n",
              "          [5.44637859e-01, 1.03043541e-01, 8.49976912e-02,\n",
              "           8.98822248e-02, 1.77438647e-01]],\n",
              " \n",
              "         [[9.99999940e-01, 0.00000000e+00, 0.00000000e+00,\n",
              "           0.00000000e+00, 0.00000000e+00],\n",
              "          [9.71461892e-01, 2.85380483e-02, 0.00000000e+00,\n",
              "           0.00000000e+00, 0.00000000e+00],\n",
              "          [9.03432488e-01, 7.69774765e-02, 1.95899568e-02,\n",
              "           0.00000000e+00, 0.00000000e+00],\n",
              "          [6.65898144e-01, 1.28228769e-01, 1.98207155e-01,\n",
              "           7.66583998e-03, 0.00000000e+00],\n",
              "          [3.10415149e-01, 2.72891253e-01, 2.97690719e-01,\n",
              "           6.74904734e-02, 5.15123792e-02]],\n",
              " \n",
              "         [[9.99999940e-01, 0.00000000e+00, 0.00000000e+00,\n",
              "           0.00000000e+00, 0.00000000e+00],\n",
              "          [9.61445093e-01, 3.85548286e-02, 0.00000000e+00,\n",
              "           0.00000000e+00, 0.00000000e+00],\n",
              "          [8.57760370e-01, 7.27830529e-02, 6.94566220e-02,\n",
              "           0.00000000e+00, 0.00000000e+00],\n",
              "          [7.56537080e-01, 6.19253963e-02, 1.50931925e-01,\n",
              "           3.06055918e-02, 0.00000000e+00],\n",
              "          [6.41837656e-01, 3.46093588e-02, 1.61571860e-01,\n",
              "           1.07350171e-01, 5.46310134e-02]],\n",
              " \n",
              "         [[9.99999940e-01, 0.00000000e+00, 0.00000000e+00,\n",
              "           0.00000000e+00, 0.00000000e+00],\n",
              "          [9.78244543e-01, 2.17554942e-02, 0.00000000e+00,\n",
              "           0.00000000e+00, 0.00000000e+00],\n",
              "          [9.63557243e-01, 2.88968347e-02, 7.54591823e-03,\n",
              "           0.00000000e+00, 0.00000000e+00],\n",
              "          [9.53616142e-01, 2.54471619e-02, 1.02366684e-02,\n",
              "           1.07000880e-02, 0.00000000e+00],\n",
              "          [9.05395567e-01, 2.74543799e-02, 2.84183770e-02,\n",
              "           1.65302083e-02, 2.22014152e-02]],\n",
              " \n",
              "         [[9.99999940e-01, 0.00000000e+00, 0.00000000e+00,\n",
              "           0.00000000e+00, 0.00000000e+00],\n",
              "          [9.29527760e-01, 7.04722553e-02, 0.00000000e+00,\n",
              "           0.00000000e+00, 0.00000000e+00],\n",
              "          [9.74708974e-01, 1.28461430e-02, 1.24449078e-02,\n",
              "           0.00000000e+00, 0.00000000e+00],\n",
              "          [9.41997886e-01, 1.11027295e-02, 4.67530824e-03,\n",
              "           4.22240570e-02, 0.00000000e+00],\n",
              "          [9.86393034e-01, 5.15710656e-03, 5.62680012e-04,\n",
              "           2.03441526e-03, 5.85277984e-03]],\n",
              " \n",
              "         [[9.99999940e-01, 0.00000000e+00, 0.00000000e+00,\n",
              "           0.00000000e+00, 0.00000000e+00],\n",
              "          [8.71335208e-01, 1.28664777e-01, 0.00000000e+00,\n",
              "           0.00000000e+00, 0.00000000e+00],\n",
              "          [9.24898624e-01, 5.58582805e-02, 1.92430951e-02,\n",
              "           0.00000000e+00, 0.00000000e+00],\n",
              "          [8.04721594e-01, 6.94414973e-02, 9.32363644e-02,\n",
              "           3.26004736e-02, 0.00000000e+00],\n",
              "          [4.40051734e-01, 5.79773039e-02, 1.10451303e-01,\n",
              "           3.46286923e-01, 4.52327318e-02]],\n",
              " \n",
              "         [[9.99999940e-01, 0.00000000e+00, 0.00000000e+00,\n",
              "           0.00000000e+00, 0.00000000e+00],\n",
              "          [9.14634824e-01, 8.53652209e-02, 0.00000000e+00,\n",
              "           0.00000000e+00, 0.00000000e+00],\n",
              "          [4.47811276e-01, 4.13084328e-01, 1.39104351e-01,\n",
              "           0.00000000e+00, 0.00000000e+00],\n",
              "          [3.79280239e-01, 3.74759823e-01, 2.08172351e-01,\n",
              "           3.77876051e-02, 0.00000000e+00],\n",
              "          [3.89582485e-01, 2.92238623e-01, 1.80495545e-01,\n",
              "           1.04686670e-01, 3.29966247e-02]],\n",
              " \n",
              "         [[9.99999940e-01, 0.00000000e+00, 0.00000000e+00,\n",
              "           0.00000000e+00, 0.00000000e+00],\n",
              "          [9.94799376e-01, 5.20057790e-03, 0.00000000e+00,\n",
              "           0.00000000e+00, 0.00000000e+00],\n",
              "          [9.59698915e-01, 3.84694058e-03, 3.64539661e-02,\n",
              "           0.00000000e+00, 0.00000000e+00],\n",
              "          [9.90926087e-01, 3.03650904e-03, 6.75545016e-04,\n",
              "           5.36195049e-03, 0.00000000e+00],\n",
              "          [9.86243129e-01, 4.58900258e-03, 4.38383950e-06,\n",
              "           1.43303594e-04, 9.02021583e-03]],\n",
              " \n",
              "         [[9.99999940e-01, 0.00000000e+00, 0.00000000e+00,\n",
              "           0.00000000e+00, 0.00000000e+00],\n",
              "          [9.60971653e-01, 3.90283018e-02, 0.00000000e+00,\n",
              "           0.00000000e+00, 0.00000000e+00],\n",
              "          [9.52444553e-01, 2.05271188e-02, 2.70282757e-02,\n",
              "           0.00000000e+00, 0.00000000e+00],\n",
              "          [8.66723537e-01, 1.78613476e-02, 4.38057594e-02,\n",
              "           7.16093257e-02, 0.00000000e+00],\n",
              "          [9.76837337e-01, 1.48868244e-02, 5.53012360e-04,\n",
              "           3.27497954e-03, 4.44779545e-03]]]], dtype=float32)>,\n",
              " <tf.Tensor: shape=(1, 12, 5, 5), dtype=float32, numpy=\n",
              " array([[[[9.99999940e-01, 0.00000000e+00, 0.00000000e+00,\n",
              "           0.00000000e+00, 0.00000000e+00],\n",
              "          [9.61070478e-01, 3.89294699e-02, 0.00000000e+00,\n",
              "           0.00000000e+00, 0.00000000e+00],\n",
              "          [9.73134339e-01, 1.33802015e-02, 1.34854717e-02,\n",
              "           0.00000000e+00, 0.00000000e+00],\n",
              "          [9.42556858e-01, 2.37028655e-02, 1.71527248e-02,\n",
              "           1.65874343e-02, 0.00000000e+00],\n",
              "          [9.19360161e-01, 2.28407886e-02, 1.44859627e-02,\n",
              "           2.19186936e-02, 2.13943534e-02]],\n",
              " \n",
              "         [[9.99999940e-01, 0.00000000e+00, 0.00000000e+00,\n",
              "           0.00000000e+00, 0.00000000e+00],\n",
              "          [9.86899257e-01, 1.31007442e-02, 0.00000000e+00,\n",
              "           0.00000000e+00, 0.00000000e+00],\n",
              "          [9.76590812e-01, 7.90320709e-03, 1.55058932e-02,\n",
              "           0.00000000e+00, 0.00000000e+00],\n",
              "          [9.64738727e-01, 8.97052046e-03, 9.64700058e-03,\n",
              "           1.66436546e-02, 0.00000000e+00],\n",
              "          [9.71445262e-01, 1.43566802e-02, 2.11559678e-03,\n",
              "           4.61964589e-03, 7.46286567e-03]],\n",
              " \n",
              "         [[9.99999940e-01, 0.00000000e+00, 0.00000000e+00,\n",
              "           0.00000000e+00, 0.00000000e+00],\n",
              "          [9.64948893e-01, 3.50511558e-02, 0.00000000e+00,\n",
              "           0.00000000e+00, 0.00000000e+00],\n",
              "          [8.84347379e-01, 4.96682450e-02, 6.59841672e-02,\n",
              "           0.00000000e+00, 0.00000000e+00],\n",
              "          [8.34649026e-01, 3.48314792e-02, 3.71997915e-02,\n",
              "           9.33197960e-02, 0.00000000e+00],\n",
              "          [8.55620623e-01, 2.87764966e-02, 1.93693247e-02,\n",
              "           1.72214471e-02, 7.90121630e-02]],\n",
              " \n",
              "         [[9.99999940e-01, 0.00000000e+00, 0.00000000e+00,\n",
              "           0.00000000e+00, 0.00000000e+00],\n",
              "          [9.65955853e-01, 3.40441503e-02, 0.00000000e+00,\n",
              "           0.00000000e+00, 0.00000000e+00],\n",
              "          [8.51037920e-01, 6.94471672e-02, 7.95149207e-02,\n",
              "           0.00000000e+00, 0.00000000e+00],\n",
              "          [5.55595636e-01, 6.31508604e-02, 3.27860534e-01,\n",
              "           5.33930324e-02, 0.00000000e+00],\n",
              "          [2.22250670e-01, 5.04551753e-02, 2.64919519e-01,\n",
              "           4.20320094e-01, 4.20544930e-02]],\n",
              " \n",
              "         [[9.99999940e-01, 0.00000000e+00, 0.00000000e+00,\n",
              "           0.00000000e+00, 0.00000000e+00],\n",
              "          [9.55245376e-01, 4.47545350e-02, 0.00000000e+00,\n",
              "           0.00000000e+00, 0.00000000e+00],\n",
              "          [9.68858302e-01, 8.32227618e-03, 2.28193961e-02,\n",
              "           0.00000000e+00, 0.00000000e+00],\n",
              "          [9.53003764e-01, 1.27099697e-02, 1.23470007e-02,\n",
              "           2.19391156e-02, 0.00000000e+00],\n",
              "          [9.04702842e-01, 2.39903517e-02, 3.29993702e-02,\n",
              "           1.73423029e-02, 2.09649298e-02]],\n",
              " \n",
              "         [[9.99999940e-01, 0.00000000e+00, 0.00000000e+00,\n",
              "           0.00000000e+00, 0.00000000e+00],\n",
              "          [9.76734102e-01, 2.32658051e-02, 0.00000000e+00,\n",
              "           0.00000000e+00, 0.00000000e+00],\n",
              "          [9.58226740e-01, 2.24474706e-02, 1.93257313e-02,\n",
              "           0.00000000e+00, 0.00000000e+00],\n",
              "          [9.42727804e-01, 2.14680191e-02, 2.72584092e-02,\n",
              "           8.54571443e-03, 0.00000000e+00],\n",
              "          [8.89714658e-01, 2.14504767e-02, 3.97685915e-02,\n",
              "           1.57258045e-02, 3.33404914e-02]],\n",
              " \n",
              "         [[9.99999940e-01, 0.00000000e+00, 0.00000000e+00,\n",
              "           0.00000000e+00, 0.00000000e+00],\n",
              "          [9.97583866e-01, 2.41611525e-03, 0.00000000e+00,\n",
              "           0.00000000e+00, 0.00000000e+00],\n",
              "          [9.95342314e-01, 1.88578863e-03, 2.77185044e-03,\n",
              "           0.00000000e+00, 0.00000000e+00],\n",
              "          [9.94243443e-01, 1.39595382e-03, 1.01937877e-03,\n",
              "           3.34117957e-03, 0.00000000e+00],\n",
              "          [9.79325414e-01, 2.00095354e-03, 4.40584001e-04,\n",
              "           6.39620936e-04, 1.75932925e-02]],\n",
              " \n",
              "         [[9.99999940e-01, 0.00000000e+00, 0.00000000e+00,\n",
              "           0.00000000e+00, 0.00000000e+00],\n",
              "          [9.72145498e-01, 2.78545935e-02, 0.00000000e+00,\n",
              "           0.00000000e+00, 0.00000000e+00],\n",
              "          [9.40991521e-01, 3.30863558e-02, 2.59221587e-02,\n",
              "           0.00000000e+00, 0.00000000e+00],\n",
              "          [7.74528146e-01, 9.32488367e-02, 7.38765672e-02,\n",
              "           5.83463684e-02, 0.00000000e+00],\n",
              "          [6.75472379e-01, 6.91399053e-02, 8.84842798e-02,\n",
              "           5.32104112e-02, 1.13693155e-01]],\n",
              " \n",
              "         [[9.99999940e-01, 0.00000000e+00, 0.00000000e+00,\n",
              "           0.00000000e+00, 0.00000000e+00],\n",
              "          [9.81227160e-01, 1.87728237e-02, 0.00000000e+00,\n",
              "           0.00000000e+00, 0.00000000e+00],\n",
              "          [9.73417282e-01, 1.28399450e-02, 1.37426965e-02,\n",
              "           0.00000000e+00, 0.00000000e+00],\n",
              "          [9.46977556e-01, 1.85767524e-02, 2.22615562e-02,\n",
              "           1.21841459e-02, 0.00000000e+00],\n",
              "          [8.80236566e-01, 3.48897278e-02, 2.79542301e-02,\n",
              "           1.48729300e-02, 4.20466140e-02]],\n",
              " \n",
              "         [[9.99999940e-01, 0.00000000e+00, 0.00000000e+00,\n",
              "           0.00000000e+00, 0.00000000e+00],\n",
              "          [9.97812510e-01, 2.18763994e-03, 0.00000000e+00,\n",
              "           0.00000000e+00, 0.00000000e+00],\n",
              "          [9.97383177e-01, 8.34419567e-04, 1.78240694e-03,\n",
              "           0.00000000e+00, 0.00000000e+00],\n",
              "          [9.96845424e-01, 8.19695299e-04, 7.69493636e-04,\n",
              "           1.56544114e-03, 0.00000000e+00],\n",
              "          [9.84952629e-01, 2.10399413e-03, 2.22277682e-04,\n",
              "           4.26866551e-04, 1.22942319e-02]],\n",
              " \n",
              "         [[9.99999940e-01, 0.00000000e+00, 0.00000000e+00,\n",
              "           0.00000000e+00, 0.00000000e+00],\n",
              "          [9.68253076e-01, 3.17469165e-02, 0.00000000e+00,\n",
              "           0.00000000e+00, 0.00000000e+00],\n",
              "          [4.44199741e-01, 3.60077858e-01, 1.95722252e-01,\n",
              "           0.00000000e+00, 0.00000000e+00],\n",
              "          [5.26925683e-01, 1.14641741e-01, 2.33815357e-01,\n",
              "           1.24617182e-01, 0.00000000e+00],\n",
              "          [1.68157607e-01, 9.19014812e-02, 2.67047733e-01,\n",
              "           4.19683665e-01, 5.32095432e-02]],\n",
              " \n",
              "         [[9.99999940e-01, 0.00000000e+00, 0.00000000e+00,\n",
              "           0.00000000e+00, 0.00000000e+00],\n",
              "          [9.87331808e-01, 1.26682054e-02, 0.00000000e+00,\n",
              "           0.00000000e+00, 0.00000000e+00],\n",
              "          [9.30359602e-01, 1.58903748e-02, 5.37500009e-02,\n",
              "           0.00000000e+00, 0.00000000e+00],\n",
              "          [8.91418099e-01, 1.47013366e-02, 5.75022362e-02,\n",
              "           3.63782309e-02, 0.00000000e+00],\n",
              "          [8.76354098e-01, 3.42476517e-02, 2.58267671e-02,\n",
              "           1.37569727e-02, 4.98144887e-02]]]], dtype=float32)>,\n",
              " <tf.Tensor: shape=(1, 12, 5, 5), dtype=float32, numpy=\n",
              " array([[[[0.99999994, 0.        , 0.        , 0.        , 0.        ],\n",
              "          [0.6686835 , 0.33131653, 0.        , 0.        , 0.        ],\n",
              "          [0.4085226 , 0.32721215, 0.2642653 , 0.        , 0.        ],\n",
              "          [0.30816385, 0.2698066 , 0.33544338, 0.08658627, 0.        ],\n",
              "          [0.2356562 , 0.28533548, 0.23852175, 0.07155521, 0.16893135]],\n",
              " \n",
              "         [[0.99999994, 0.        , 0.        , 0.        , 0.        ],\n",
              "          [0.97107404, 0.0289259 , 0.        , 0.        , 0.        ],\n",
              "          [0.92382795, 0.0431616 , 0.03301046, 0.        , 0.        ],\n",
              "          [0.914982  , 0.03687674, 0.0269216 , 0.02121969, 0.        ],\n",
              "          [0.82019603, 0.06603274, 0.03323022, 0.01886506, 0.06167589]],\n",
              " \n",
              "         [[0.99999994, 0.        , 0.        , 0.        , 0.        ],\n",
              "          [0.98345315, 0.01654684, 0.        , 0.        , 0.        ],\n",
              "          [0.9745894 , 0.01517604, 0.01023455, 0.        , 0.        ],\n",
              "          [0.95734864, 0.02221934, 0.01036348, 0.01006856, 0.        ],\n",
              "          [0.9491424 , 0.02177606, 0.00742625, 0.00777349, 0.01388177]],\n",
              " \n",
              "         [[0.99999994, 0.        , 0.        , 0.        , 0.        ],\n",
              "          [0.9414215 , 0.05857845, 0.        , 0.        , 0.        ],\n",
              "          [0.7926771 , 0.11634421, 0.09097871, 0.        , 0.        ],\n",
              "          [0.6239528 , 0.15144989, 0.14768791, 0.07690936, 0.        ],\n",
              "          [0.6994426 , 0.06720805, 0.06083022, 0.11087881, 0.06164019]],\n",
              " \n",
              "         [[0.99999994, 0.        , 0.        , 0.        , 0.        ],\n",
              "          [0.96079606, 0.03920391, 0.        , 0.        , 0.        ],\n",
              "          [0.9167509 , 0.04254002, 0.04070898, 0.        , 0.        ],\n",
              "          [0.92747074, 0.03145923, 0.02686966, 0.01420032, 0.        ],\n",
              "          [0.8754489 , 0.03037709, 0.03938949, 0.01116434, 0.04362022]],\n",
              " \n",
              "         [[0.99999994, 0.        , 0.        , 0.        , 0.        ],\n",
              "          [0.98087806, 0.01912189, 0.        , 0.        , 0.        ],\n",
              "          [0.9481546 , 0.01529317, 0.03655217, 0.        , 0.        ],\n",
              "          [0.9499259 , 0.0152068 , 0.00919349, 0.02567377, 0.        ],\n",
              "          [0.8904701 , 0.0232091 , 0.02005534, 0.04476498, 0.02150038]],\n",
              " \n",
              "         [[0.99999994, 0.        , 0.        , 0.        , 0.        ],\n",
              "          [0.9828536 , 0.01714648, 0.        , 0.        , 0.        ],\n",
              "          [0.9704098 , 0.01437599, 0.01521415, 0.        , 0.        ],\n",
              "          [0.95589375, 0.01768037, 0.01359248, 0.01283343, 0.        ],\n",
              "          [0.95138735, 0.01629189, 0.00984699, 0.00903362, 0.0134401 ]],\n",
              " \n",
              "         [[0.99999994, 0.        , 0.        , 0.        , 0.        ],\n",
              "          [0.9202048 , 0.07979525, 0.        , 0.        , 0.        ],\n",
              "          [0.96189356, 0.0179364 , 0.02017003, 0.        , 0.        ],\n",
              "          [0.8115497 , 0.0745972 , 0.04580406, 0.06804909, 0.        ],\n",
              "          [0.7818559 , 0.06464004, 0.0363654 , 0.04740366, 0.0697351 ]],\n",
              " \n",
              "         [[0.99999994, 0.        , 0.        , 0.        , 0.        ],\n",
              "          [0.00343588, 0.99656403, 0.        , 0.        , 0.        ],\n",
              "          [0.00340733, 0.64295566, 0.35363707, 0.        , 0.        ],\n",
              "          [0.00141205, 0.37889287, 0.4620816 , 0.1576135 , 0.        ],\n",
              "          [0.00152797, 0.21176405, 0.50344265, 0.26380143, 0.01946394]],\n",
              " \n",
              "         [[0.99999994, 0.        , 0.        , 0.        , 0.        ],\n",
              "          [0.981809  , 0.01819096, 0.        , 0.        , 0.        ],\n",
              "          [0.9374771 , 0.02693424, 0.03558869, 0.        , 0.        ],\n",
              "          [0.9571345 , 0.01434607, 0.00762061, 0.02089883, 0.        ],\n",
              "          [0.94888353, 0.01734432, 0.00443336, 0.01126907, 0.01806963]],\n",
              " \n",
              "         [[0.99999994, 0.        , 0.        , 0.        , 0.        ],\n",
              "          [0.91770166, 0.08229838, 0.        , 0.        , 0.        ],\n",
              "          [0.7903789 , 0.1003037 , 0.10931733, 0.        , 0.        ],\n",
              "          [0.7549848 , 0.08343605, 0.07607312, 0.08550592, 0.        ],\n",
              "          [0.4601277 , 0.068585  , 0.08486018, 0.294318  , 0.09210911]],\n",
              " \n",
              "         [[0.99999994, 0.        , 0.        , 0.        , 0.        ],\n",
              "          [0.9315115 , 0.06848842, 0.        , 0.        , 0.        ],\n",
              "          [0.76644576, 0.13750526, 0.09604893, 0.        , 0.        ],\n",
              "          [0.7433317 , 0.13168097, 0.05425476, 0.07073259, 0.        ],\n",
              "          [0.57535887, 0.1364291 , 0.06069093, 0.18006241, 0.04745864]]]],\n",
              "       dtype=float32)>)"
            ]
          },
          "metadata": {},
          "execution_count": 43
        }
      ]
    },
    {
      "cell_type": "code",
      "source": [
        "logits = outputs.logits"
      ],
      "metadata": {
        "id": "XBjXyB74s3wI"
      },
      "execution_count": 44,
      "outputs": []
    },
    {
      "cell_type": "code",
      "source": [
        "logits"
      ],
      "metadata": {
        "colab": {
          "base_uri": "https://localhost:8080/"
        },
        "id": "QGwOiCq4s3tu",
        "outputId": "2e4a9875-1319-42a9-c53a-115d395aaa7a"
      },
      "execution_count": 45,
      "outputs": [
        {
          "output_type": "execute_result",
          "data": {
            "text/plain": [
              "<tf.Tensor: shape=(1, 5, 50257), dtype=float32, numpy=\n",
              "array([[[-31.152214, -29.294815, -31.223711, ..., -41.802814,\n",
              "         -41.639362, -31.38221 ],\n",
              "        [-56.623074, -57.436707, -60.61329 , ..., -60.59092 ,\n",
              "         -62.180145, -58.705196],\n",
              "        [-65.41144 , -67.15361 , -70.58233 , ..., -73.067474,\n",
              "         -73.61381 , -69.42236 ],\n",
              "        [-55.67569 , -56.63195 , -60.455547, ..., -61.793   ,\n",
              "         -65.24438 , -58.518982],\n",
              "        [-50.469105, -51.55584 , -54.412727, ..., -62.174026,\n",
              "         -61.92645 , -53.483624]]], dtype=float32)>"
            ]
          },
          "metadata": {},
          "execution_count": 45
        }
      ]
    },
    {
      "cell_type": "markdown",
      "source": [
        "These logits are unnormalized scores returned by last layer of the model. Let's convert them to probabilities. When converted, the probability for every token in the input sequence, represent the probability of every word in the vocabulary that can appear following the current word. \n",
        "\n",
        "Let's understand this next"
      ],
      "metadata": {
        "id": "4-Zqid1Qt5YU"
      }
    },
    {
      "cell_type": "code",
      "source": [
        "next_word_preds = tf.math.softmax(outputs.logits, axis=-1)\n",
        "print(next_word_preds)"
      ],
      "metadata": {
        "colab": {
          "base_uri": "https://localhost:8080/"
        },
        "id": "Iz2n9xYlu3KL",
        "outputId": "381637c8-59b3-4611-80a9-668dc7e5d40e"
      },
      "execution_count": 46,
      "outputs": [
        {
          "output_type": "stream",
          "name": "stdout",
          "text": [
            "tf.Tensor(\n",
            "[[[6.3007564e-04 4.0369262e-03 5.8659987e-04 ... 1.4924359e-08\n",
            "   1.7574463e-08 5.0061836e-04]\n",
            "  [1.5670838e-04 6.9460191e-05 2.8984364e-06 ... 2.9640032e-06\n",
            "   6.0490436e-07 1.9536097e-05]\n",
            "  [3.1142408e-04 5.4542674e-05 1.7687354e-06 ... 1.4735940e-07\n",
            "   8.5331287e-08 5.6419531e-06]\n",
            "  [2.0381255e-04 7.8330733e-05 1.7114537e-06 ... 4.4928004e-07\n",
            "   1.4243042e-08 1.1868745e-05]\n",
            "  [4.6291811e-04 1.5614973e-04 8.9703753e-06 ... 3.8205088e-09\n",
            "   4.8937618e-09 2.2715134e-05]]], shape=(1, 5, 50257), dtype=float32)\n"
          ]
        }
      ]
    },
    {
      "cell_type": "code",
      "source": [
        "# we obtain probabilities across the vocabulary for the next token at each of 5 token indices in the input sequence\n",
        "next_word_preds.shape"
      ],
      "metadata": {
        "colab": {
          "base_uri": "https://localhost:8080/"
        },
        "id": "HMZ26z_OvPlX",
        "outputId": "7db1cc13-5c14-428f-e084-f5243aad4778"
      },
      "execution_count": 47,
      "outputs": [
        {
          "output_type": "execute_result",
          "data": {
            "text/plain": [
              "TensorShape([1, 5, 50257])"
            ]
          },
          "metadata": {},
          "execution_count": 47
        }
      ]
    },
    {
      "cell_type": "code",
      "source": [
        "# predicting 2nd word & its probability\n",
        "word_idx = 1\n",
        "vocab_id = np.argmax(next_word_preds[0][word_idx-1])\n",
        "tokenizer.convert_ids_to_tokens([vocab_id]) , next_word_preds[0][word_idx-1].numpy()"
      ],
      "metadata": {
        "colab": {
          "base_uri": "https://localhost:8080/"
        },
        "id": "EiP3NMMtAo3y",
        "outputId": "ba4d4c2e-b44d-490e-d777-bc3d3d12f5b6"
      },
      "execution_count": 49,
      "outputs": [
        {
          "output_type": "execute_result",
          "data": {
            "text/plain": [
              "(['ĠThe'],\n",
              " array([6.3007564e-04, 4.0369262e-03, 5.8659987e-04, ..., 1.4924359e-08,\n",
              "        1.7574463e-08, 5.0061836e-04], dtype=float32))"
            ]
          },
          "metadata": {},
          "execution_count": 49
        }
      ]
    },
    {
      "cell_type": "code",
      "source": [
        "# predicting 3rd word & its probability\n",
        "word_idx = 2\n",
        "vocab_id = np.argmax(next_word_preds[0][word_idx-1])\n",
        "tokenizer.convert_ids_to_tokens([vocab_id]) , next_word_preds[0][word_idx-1].numpy()"
      ],
      "metadata": {
        "colab": {
          "base_uri": "https://localhost:8080/"
        },
        "id": "eertNb5-vPYv",
        "outputId": "2680fa11-f5a1-4995-ced0-12379dd6bf49"
      },
      "execution_count": 48,
      "outputs": [
        {
          "output_type": "execute_result",
          "data": {
            "text/plain": [
              "(['Ġyou'],\n",
              " array([1.5670838e-04, 6.9460191e-05, 2.8984364e-06, ..., 2.9640032e-06,\n",
              "        6.0490436e-07, 1.9536097e-05], dtype=float32))"
            ]
          },
          "metadata": {},
          "execution_count": 48
        }
      ]
    },
    {
      "cell_type": "code",
      "source": [
        "# predicting 4th word & its probability\n",
        "word_idx = 3\n",
        "vocab_id = np.argmax(next_word_preds[0][word_idx-1])\n",
        "tokenizer.convert_ids_to_tokens([vocab_id]) , next_word_preds[0][word_idx-1].numpy()"
      ],
      "metadata": {
        "colab": {
          "base_uri": "https://localhost:8080/"
        },
        "id": "DMepZZyTweC0",
        "outputId": "3426dc96-10c5-424d-bf46-2ea223a96502"
      },
      "execution_count": 31,
      "outputs": [
        {
          "output_type": "execute_result",
          "data": {
            "text/plain": [
              "(['Ġgoing'],\n",
              " array([3.1142408e-04, 5.4542674e-05, 1.7687354e-06, ..., 1.4735940e-07,\n",
              "        8.5331287e-08, 5.6419531e-06], dtype=float32))"
            ]
          },
          "metadata": {},
          "execution_count": 31
        }
      ]
    },
    {
      "cell_type": "code",
      "source": [
        "# predicting 5th word & its probability\n",
        "word_idx = 4\n",
        "vocab_id = np.argmax(next_word_preds[0][word_idx-1])\n",
        "tokenizer.convert_ids_to_tokens([vocab_id]) , next_word_preds[0][word_idx-1].numpy()"
      ],
      "metadata": {
        "colab": {
          "base_uri": "https://localhost:8080/"
        },
        "id": "WOd9_n-pwwr_",
        "outputId": "a42c5501-71fb-4d86-f7f2-686b10301173"
      },
      "execution_count": 32,
      "outputs": [
        {
          "output_type": "execute_result",
          "data": {
            "text/plain": [
              "(['Ġthis'],\n",
              " array([2.0381255e-04, 7.8330733e-05, 1.7114537e-06, ..., 4.4928004e-07,\n",
              "        1.4243042e-08, 1.1868745e-05], dtype=float32))"
            ]
          },
          "metadata": {},
          "execution_count": 32
        }
      ]
    },
    {
      "cell_type": "code",
      "source": [
        "# predicting 6th word & its probability\n",
        "word_idx = 5\n",
        "vocab_id = np.argmax(next_word_preds[0][word_idx-1])\n",
        "tokenizer.convert_ids_to_tokens([vocab_id]) , next_word_preds[0][word_idx-1].numpy()"
      ],
      "metadata": {
        "colab": {
          "base_uri": "https://localhost:8080/"
        },
        "id": "fZ2UHJkqCLwb",
        "outputId": "50158d1e-461c-4b8c-9018-9ee53a1d7ebd"
      },
      "execution_count": 56,
      "outputs": [
        {
          "output_type": "execute_result",
          "data": {
            "text/plain": [
              "(['?'], array([4.6291811e-04, 1.5614973e-04, 8.9703753e-06, ..., 3.8205088e-09,\n",
              "        4.8937618e-09, 2.2715134e-05], dtype=float32))"
            ]
          },
          "metadata": {},
          "execution_count": 56
        }
      ]
    },
    {
      "cell_type": "markdown",
      "source": [
        "**This is how generated text would've been like for different lengths of above input prefix**"
      ],
      "metadata": {
        "id": "zlw0mumHCDsc"
      }
    },
    {
      "cell_type": "code",
      "source": [
        "print(f\"{generator('how', do_sample=False, pad_token_id=tokenizer.eos_token_id )[0]['generated_text'].strip()}\")\n",
        "\n",
        "print(f\"{generator('how are', do_sample=False, pad_token_id=tokenizer.eos_token_id)[0]['generated_text'].strip()}\")\n",
        "\n",
        "print(f\"{generator('how are you', do_sample=False, pad_token_id=tokenizer.eos_token_id)[0]['generated_text'].strip()}\")\n",
        "\n",
        "print(f\"{generator('how are you doing', do_sample=False, pad_token_id=tokenizer.eos_token_id)[0]['generated_text'].strip()}\")\n",
        "\n",
        "print(f\"{generator('how are you doing today', do_sample=False, pad_token_id=tokenizer.eos_token_id)[0]['generated_text'].strip()}\")"
      ],
      "metadata": {
        "colab": {
          "base_uri": "https://localhost:8080/"
        },
        "id": "gCfylLi5_HpR",
        "outputId": "0b33fd1c-1069-4f20-f45a-7b12a7348aea"
      },
      "execution_count": 55,
      "outputs": [
        {
          "output_type": "stream",
          "name": "stdout",
          "text": [
            "how The New York Times has been reporting on the Trump administration’s decision to fire former FBI Director James Comey.\n",
            "how are you going to do that?”\n",
            "how are you going to do that?”\n",
            "how are you doing this?\n",
            "how are you doing today?\n"
          ]
        }
      ]
    },
    {
      "cell_type": "markdown",
      "source": [
        "#### Exploring its word token and position embeddings"
      ],
      "metadata": {
        "id": "wwvL4eP2K38O"
      }
    },
    {
      "cell_type": "code",
      "source": [
        "model = GPT2LMHeadModel.from_pretrained('distilgpt2')"
      ],
      "metadata": {
        "id": "YpRX03bHLKkB"
      },
      "execution_count": 61,
      "outputs": []
    },
    {
      "cell_type": "code",
      "source": [
        "word_embeddings = model.transformer.wte.weight  # Word Token Embeddings \n",
        "position_embeddings = model.transformer.wpe.weight  # Word Position Embeddings "
      ],
      "metadata": {
        "id": "-mMxMMPmLp5l"
      },
      "execution_count": 63,
      "outputs": []
    },
    {
      "cell_type": "code",
      "source": [
        "word_embeddings.shape"
      ],
      "metadata": {
        "colab": {
          "base_uri": "https://localhost:8080/"
        },
        "id": "t041vMWjL0q3",
        "outputId": "9e7857a8-15de-426f-eeda-b5e15ee0a48e"
      },
      "execution_count": 64,
      "outputs": [
        {
          "output_type": "execute_result",
          "data": {
            "text/plain": [
              "torch.Size([50257, 768])"
            ]
          },
          "metadata": {},
          "execution_count": 64
        }
      ]
    },
    {
      "cell_type": "code",
      "source": [
        "position_embeddings.shape"
      ],
      "metadata": {
        "colab": {
          "base_uri": "https://localhost:8080/"
        },
        "id": "1oE8kB-IL67P",
        "outputId": "bf630b80-1637-4edd-ddb3-8c22ca289f6f"
      },
      "execution_count": 65,
      "outputs": [
        {
          "output_type": "execute_result",
          "data": {
            "text/plain": [
              "torch.Size([1024, 768])"
            ]
          },
          "metadata": {},
          "execution_count": 65
        }
      ]
    },
    {
      "cell_type": "markdown",
      "source": [
        "### References\n",
        "* [Language Models are unsupervised multitask learners](https://d4mucfpksywv.cloudfront.net/better-language-models/language_models_are_unsupervised_multitask_learners.pdf) \n",
        "* https://huggingface.co/transformers/v3.0.2/model_doc/gpt2.html#gpt2tokenizerfast\n",
        "* https://huggingface.co/docs/transformers/model_doc/gpt2#transformers.GPT2LMHeadModel\n",
        "* https://huggingface.co/docs/transformers/tokenizer_summary\n",
        "* [Open AI GPT, 2018](https://s3-us-west-2.amazonaws.com/openai-assets/research-covers/language-unsupervised/language_understanding_paper.pdf)"
      ],
      "metadata": {
        "id": "XNpFKndtj38a"
      }
    }
  ]
}