{
  "nbformat": 4,
  "nbformat_minor": 0,
  "metadata": {
    "colab": {
      "provenance": [],
      "authorship_tag": "ABX9TyP2nsUf1SDXUB8ksD1MdPzd",
      "include_colab_link": true
    },
    "kernelspec": {
      "name": "python3",
      "display_name": "Python 3"
    },
    "language_info": {
      "name": "python"
    }
  },
  "cells": [
    {
      "cell_type": "markdown",
      "metadata": {
        "id": "view-in-github",
        "colab_type": "text"
      },
      "source": [
        "<a href=\"https://colab.research.google.com/github/Taaniya/exploring-gpt2-language-model/blob/main/Explore_gpt2_for_QA.ipynb\" target=\"_parent\"><img src=\"https://colab.research.google.com/assets/colab-badge.svg\" alt=\"Open In Colab\"/></a>"
      ]
    },
    {
      "cell_type": "markdown",
      "source": [
        "This notebook explores how to prompt the GPT2 model to generate output as answers to questions given in the prompt. \n",
        "\n",
        "This notebook experiments ways to generate valid answer outputs by the model by variety of questions ranging from being vague to also including some context before asking questions from within the context using samples from SQUAD dataset."
      ],
      "metadata": {
        "id": "Cwtkalv-rWOw"
      }
    },
    {
      "cell_type": "code",
      "execution_count": 1,
      "metadata": {
        "id": "EBVYM4sxGPVY"
      },
      "outputs": [],
      "source": [
        "import warnings\n",
        "warnings.filterwarnings('ignore')"
      ]
    },
    {
      "cell_type": "code",
      "source": [
        "pip install transformers"
      ],
      "metadata": {
        "id": "vNllO40uGTUL"
      },
      "execution_count": null,
      "outputs": []
    },
    {
      "cell_type": "code",
      "source": [
        "import transformers\n",
        "from transformers import pipeline\n",
        "from transformers import GPT2TokenizerFast"
      ],
      "metadata": {
        "id": "2Ttx0GBOGU_D"
      },
      "execution_count": 3,
      "outputs": []
    },
    {
      "cell_type": "code",
      "source": [
        "transformers.__version__"
      ],
      "metadata": {
        "colab": {
          "base_uri": "https://localhost:8080/",
          "height": 36
        },
        "id": "snnFowveGg5Q",
        "outputId": "06cfc3f5-8048-46ed-bbf5-829b0c6242e6"
      },
      "execution_count": 4,
      "outputs": [
        {
          "output_type": "execute_result",
          "data": {
            "text/plain": [
              "'4.27.1'"
            ],
            "application/vnd.google.colaboratory.intrinsic+json": {
              "type": "string"
            }
          },
          "metadata": {},
          "execution_count": 4
        }
      ]
    },
    {
      "cell_type": "code",
      "source": [
        "# Load text generation pipeline \n",
        "\n",
        "model = pipeline(task='text-generation', model=\"gpt2\")\n",
        "gpt2_tokenizer = GPT2TokenizerFast.from_pretrained('distilgpt2')\n",
        "gpt2_tokenizer.vocab_size"
      ],
      "metadata": {
        "id": "0EAeN1V4GkRs"
      },
      "execution_count": null,
      "outputs": []
    },
    {
      "cell_type": "code",
      "source": [
        "# Helper function to get model's completion output using greedy decoding strategy\n",
        "\n",
        "def getModelCompletions(prefix, max_len=500):\n",
        "  text = model(prefix, max_length=max_len, no_repeat_ngram_size=2, \n",
        "                        pad_token_id=gpt2_tokenizer.eos_token_id, \n",
        "                        do_sample=False, return_full_text=False)[0]\n",
        "  print(f\"output - {text['generated_text']}\")"
      ],
      "metadata": {
        "id": "OTbSZvDAGxip"
      },
      "execution_count": 6,
      "outputs": []
    },
    {
      "cell_type": "markdown",
      "source": [
        "**Let's use a usual prompt to generate completion by the model that contains a desired answer.**"
      ],
      "metadata": {
        "id": "SXGWYGKFy9BU"
      }
    },
    {
      "cell_type": "code",
      "source": [
        "prefix = \"Pythagoras theorem was discovered by\""
      ],
      "metadata": {
        "id": "6YzJHxBCNAYY"
      },
      "execution_count": 7,
      "outputs": []
    },
    {
      "cell_type": "code",
      "source": [
        "getModelCompletions(prefix, max_len=30)"
      ],
      "metadata": {
        "colab": {
          "base_uri": "https://localhost:8080/"
        },
        "id": "n9bnh8YHNdsw",
        "outputId": "9cf545ef-e6c0-40a8-f0c3-d957ad6c45b2"
      },
      "execution_count": 12,
      "outputs": [
        {
          "output_type": "stream",
          "name": "stdout",
          "text": [
            "output -  the Greek mathematician Pythagorus in the year 476. The theorem states that the number of possible numbers is\n"
          ]
        }
      ]
    },
    {
      "cell_type": "markdown",
      "source": [
        "**Let's ask questions directly**"
      ],
      "metadata": {
        "id": "u4J8tXzn1PUX"
      }
    },
    {
      "cell_type": "code",
      "source": [
        "question = \"Who discovered the Pythagoras theorem?\"\n",
        "getModelCompletions(prefix, max_len=30)"
      ],
      "metadata": {
        "colab": {
          "base_uri": "https://localhost:8080/"
        },
        "id": "PJORI3LL1Vnu",
        "outputId": "9b317290-7356-4518-a45c-b86164b26554"
      },
      "execution_count": 13,
      "outputs": [
        {
          "output_type": "stream",
          "name": "stdout",
          "text": [
            "output -  the Greek mathematician Pythagorus in the year 476. The theorem states that the number of possible numbers is\n"
          ]
        }
      ]
    },
    {
      "cell_type": "markdown",
      "source": [
        "**Works! Even the response is completely the same. The question may be of a topic very common and properly learnt by the model during pre-training. Let's try with questions with uncommon topics.**\n",
        "\n",
        "**Asking questions from [SQUAD on Normans](https://rajpurkar.github.io/SQuAD-explorer/explore/v2.0/dev/Normans.html)**"
      ],
      "metadata": {
        "id": "eyYU2fFu1p_5"
      }
    },
    {
      "cell_type": "code",
      "source": [
        "question = \"In what country is Normandy located?\"\n",
        "getModelCompletions(question, max_len=30)"
      ],
      "metadata": {
        "colab": {
          "base_uri": "https://localhost:8080/"
        },
        "id": "NYDvnym1cfXI",
        "outputId": "911a0e2c-ba60-45b4-c8a2-071d56822686"
      },
      "execution_count": 17,
      "outputs": [
        {
          "output_type": "stream",
          "name": "stdout",
          "text": [
            "output - \n",
            "\n",
            "The Normandy is located in the north of France. The Normandy was founded in 1789 by the French,\n"
          ]
        }
      ]
    },
    {
      "cell_type": "markdown",
      "source": [
        "**Still working...**"
      ],
      "metadata": {
        "id": "eyIb-k7rcvSB"
      }
    },
    {
      "cell_type": "code",
      "source": [
        "question = \"From which countries did the Norse originate?\"\n",
        "getModelCompletions(question, max_len=100)"
      ],
      "metadata": {
        "colab": {
          "base_uri": "https://localhost:8080/"
        },
        "id": "O2XMaJZNddA-",
        "outputId": "2f310828-3da6-4acd-bc32-0cbee210b44c"
      },
      "execution_count": 20,
      "outputs": [
        {
          "output_type": "stream",
          "name": "stdout",
          "text": [
            "output - \n",
            "\n",
            "The Norse were the first to have a language, and the language of the people was called the \"Norse tongue\". The Norse language was the most common language in the world, with over 100,000 languages spoken in Europe. The language is still spoken today in many parts of Europe, including the United States.\n",
            "...\n",
            ", the word \"norse\" is a common name for the Nordic people. It is also used in a\n"
          ]
        }
      ]
    },
    {
      "cell_type": "markdown",
      "source": [
        "**Not quite right..**"
      ],
      "metadata": {
        "id": "5gakHYAVkYUn"
      }
    },
    {
      "cell_type": "code",
      "source": [
        "question = \"What religion were the Normans?\"\n",
        "getModelCompletions(question, max_len=50)"
      ],
      "metadata": {
        "colab": {
          "base_uri": "https://localhost:8080/"
        },
        "id": "fwKAMVQYkW7q",
        "outputId": "a611037f-c73a-4723-eacf-d4161afed39c"
      },
      "execution_count": 23,
      "outputs": [
        {
          "output_type": "stream",
          "name": "stdout",
          "text": [
            "output - \n",
            "\n",
            "The Norman religion was the religion of the Anglo-Saxons, and the Norman religion is the belief that the gods are the same as the human beings. The Normaans were a people of great\n"
          ]
        }
      ]
    },
    {
      "cell_type": "code",
      "source": [
        "question = \"When were the Normans in Normandy?\"\n",
        "getModelCompletions(question, max_len=50)"
      ],
      "metadata": {
        "colab": {
          "base_uri": "https://localhost:8080/"
        },
        "id": "Xd8kXAvDkwFi",
        "outputId": "9acb9f4b-8d91-4fd1-b844-c208e62a593b"
      },
      "execution_count": 24,
      "outputs": [
        {
          "output_type": "stream",
          "name": "stdout",
          "text": [
            "output - \n",
            "\n",
            "The Norman people were a small group of people who lived in the mountains of France. They were very religious people. The Normannians were not religious.\n",
            "...\n",
            " (The French\n"
          ]
        }
      ]
    },
    {
      "cell_type": "markdown",
      "source": [
        "**As described in GPT2, providing context to the model can help model generate relevant response in the output.**"
      ],
      "metadata": {
        "id": "VICFS-NkkvtY"
      }
    },
    {
      "cell_type": "code",
      "source": [
        "context = \"The Normans (Norman: Nourmands; French: Normands; Latin: Normanni) were the people who in the 10th and 11th centuries gave their name to Normandy, a region in France. They were descended from Norse ('Norman' comes from 'Norseman') raiders and pirates from Denmark, Iceland and Norway who, under their leader Rollo, agreed to swear fealty to King Charles III of West Francia. Through generations of assimilation and mixing with the native Frankish and Roman-Gaulish populations, their descendants would gradually merge with the Carolingian-based cultures of West Francia. The distinct cultural and ethnic identity of the Normans emerged initially in the first half of the 10th century, and it continued to evolve over the succeeding centuries.\""
      ],
      "metadata": {
        "id": "6O6zjt6qly_-"
      },
      "execution_count": 25,
      "outputs": []
    },
    {
      "cell_type": "code",
      "source": [
        "question_prompt = \"From which countries did the Norse originate?\"\n",
        "prompt = context + question_prompt\n",
        "getModelCompletions(prompt, max_len=300)"
      ],
      "metadata": {
        "colab": {
          "base_uri": "https://localhost:8080/"
        },
        "id": "ffQ_cmqTl5CF",
        "outputId": "be4304d6-37af-47f5-9c2b-f5e7bc1addea"
      },
      "execution_count": 26,
      "outputs": [
        {
          "output_type": "stream",
          "name": "stdout",
          "text": [
            "output -  The Norse were originally from the Scandinavian countries of Norway, Sweden and Denmark. In the early 10 th century they were introduced to the English Isles, where they settled in England and Scotland. From there they spread to Ireland, Scotland and Wales.The Norse also settled on the shores of Africa, the Middle East and the Pacific Ocean. Their first settlement was in Africa in 1520, when they established their first colony in South Africa. By the end of this century the Vikings had settled the continent of South America, but they had not yet settled much of Europe.In the 15th to 16th Centuries, they began to settle in Europe,\n"
          ]
        }
      ]
    },
    {
      "cell_type": "code",
      "source": [
        "question_prompt = \"When were the Normans in Normandy?\"\n",
        "prompt = context + question_prompt\n",
        "getModelCompletions(prompt, max_len=300)"
      ],
      "metadata": {
        "colab": {
          "base_uri": "https://localhost:8080/"
        },
        "id": "PUIs4LLumypg",
        "outputId": "678708ad-d1e3-4f5f-a98d-824c65a81293"
      },
      "execution_count": 28,
      "outputs": [
        {
          "output_type": "stream",
          "name": "stdout",
          "text": [
            "output -  The Norman people lived in a small, isolated area of Normandy. In the early 10 th century the population was about 10,000, but by the end of that century it had grown to about 20,500. By the mid-10 th centuries, the number of Normannians had reached about 30,200.By the middle of this century there were about 40,600 Normandans living in England, Wales and Northern Ireland. These numbers were much higher than the numbers of other European populations.The Norman invasion of England in 1066 was the largest invasion in recorded history. It was a major blow to the Norman empire\n"
          ]
        }
      ]
    },
    {
      "cell_type": "code",
      "source": [
        "question_prompt = \"Who was the Norse leader?\"\n",
        "prompt = context + question_prompt\n",
        "getModelCompletions(prompt, max_len=300)"
      ],
      "metadata": {
        "colab": {
          "base_uri": "https://localhost:8080/"
        },
        "id": "sG5NV17LoeRd",
        "outputId": "f287ac3a-0799-48da-8785-321f8c5b2ae1"
      },
      "execution_count": 29,
      "outputs": [
        {
          "output_type": "stream",
          "name": "stdout",
          "text": [
            "output -  The Norman leader was a man named Rollos, who was born in Normandy in 1066. He was one of three men who were to become the Norman king. Rollot was also the son of a nobleman named Oskar, the father of King Arthur. Oslar was an important figure in Norman history, as he was responsible for the founding of Norman rule in England. In 1071, Osmond was crowned king of Normandy. His son, King Oth, was named king by the king's son Othin. King Rollott was not a Norman, but he had a strong connection to the culture of his people.\n"
          ]
        }
      ]
    },
    {
      "cell_type": "markdown",
      "source": [
        "**As mentioned in GPT2 paper, we can make the responses more concise by seeding a few question answer pairs to induce the model into infering this QA task and responding with short answers. Let's include QA pairs of questions which it answered correctly earlier.**"
      ],
      "metadata": {
        "id": "2ZasDgCWnuSl"
      }
    },
    {
      "cell_type": "code",
      "source": [
        "qa_pairs = \" Question : In what country is Normandy located? Answer : France | Question: What century did the Normans first gain their separate identity? Answer : 10th century | Question : \""
      ],
      "metadata": {
        "id": "Tc4IAvn5npmD"
      },
      "execution_count": 65,
      "outputs": []
    },
    {
      "cell_type": "code",
      "source": [
        "question_prompt = \"From which countries did the Norse originate? Answer : \"\n",
        "prompt = context + qa_pairs + question_prompt\n",
        "getModelCompletions(prompt, max_len=300)"
      ],
      "metadata": {
        "colab": {
          "base_uri": "https://localhost:8080/"
        },
        "id": "Ke-OR4hVnpWN",
        "outputId": "dafd736b-c509-426a-f1fe-346235672dc3"
      },
      "execution_count": 48,
      "outputs": [
        {
          "output_type": "stream",
          "name": "stdout",
          "text": [
            "output - Â France,  (Norsk) | �� France (Norway) ��� � ����������� | Answer: _____ ____ ________ ______________________ |\n",
            "The Norman Conquest of Normandy\n",
            "In the early 10 th century the Norman invasion of France was a major event in European history. It was the culmination of a long series of events that began in 1066, when the French invaded the Netherlands and the Dutch were\n"
          ]
        }
      ]
    },
    {
      "cell_type": "code",
      "source": [
        "question_prompt = \"When were the Normans in Normandy? Answer : \"\n",
        "prompt = context + qa_pairs + question_prompt\n",
        "getModelCompletions(prompt, max_len=300)"
      ],
      "metadata": {
        "colab": {
          "base_uri": "https://localhost:8080/"
        },
        "id": "bhnm96pxpeNN",
        "outputId": "f667e953-f791-4daf-d5e8-98fc853f4e7f"
      },
      "execution_count": 49,
      "outputs": [
        {
          "output_type": "stream",
          "name": "stdout",
          "text": [
            "output -  10th-11th Century | Answer: 10-12th Centuries |\n",
            "Question : What is the origin of Normandy's name? Question 1 : The Norman name is derived from the Latin word for 'Norm' (Norma) which means 'to be' or 'in' in French. This is a common name for the French people of France, which is also the name of a large number of other European countries. In the\n"
          ]
        }
      ]
    },
    {
      "cell_type": "code",
      "source": [
        "question_prompt = \"Who was the Norse leader? Answer : \"\n",
        "prompt = context + qa_pairs + question_prompt\n",
        "getModelCompletions(prompt, max_len=300)"
      ],
      "metadata": {
        "colab": {
          "base_uri": "https://localhost:8080/"
        },
        "id": "jBDQl789pjoo",
        "outputId": "a11dd119-55ff-4c22-dea4-e469bb81863f"
      },
      "execution_count": 50,
      "outputs": [
        {
          "output_type": "stream",
          "name": "stdout",
          "text": [
            "output - Â The Norman King of France, King Arthur, the King Henry VIII of England, Henry VI of Scotland, Edward IV of Ireland, William of Orange, Richard of Cornwall, John of Wales, Thomas of York, George of Saxony, Charles of Gloucester, James of Normandy and William the Conqueror. Answer: The Norman King, Norman of Norway, was a Norman king who ruled over a small island in Normandy. He was known as the 'King\n"
          ]
        }
      ]
    },
    {
      "cell_type": "code",
      "source": [
        "question_prompt = \"Who was the Norman leader? Answer : \"\n",
        "prompt = context + qa_pairs + question_prompt\n",
        "getModelCompletions(prompt, max_len=300)"
      ],
      "metadata": {
        "colab": {
          "base_uri": "https://localhost:8080/"
        },
        "id": "jDRwmIgcppLi",
        "outputId": "cfaefe81-0319-4931-a867-4acfd3f95fe8"
      },
      "execution_count": 51,
      "outputs": [
        {
          "output_type": "stream",
          "name": "stdout",
          "text": [
            "output - Â King Louis XVI of France\n",
            "\n",
            "The Norman King of England\n",
            ".\n",
            " (Photo: Wikimedia Commons)\n",
            ",\n",
            "-\n",
            "(Photo : Wikimedia Foundation)\n"
          ]
        }
      ]
    },
    {
      "cell_type": "code",
      "source": [
        "question_prompt = \"Which region is Normandy located in? Answer : \"\n",
        "prompt = context + qa_pairs + question_prompt\n",
        "getModelCompletions(prompt, max_len=300)"
      ],
      "metadata": {
        "colab": {
          "base_uri": "https://localhost:8080/"
        },
        "id": "gQ6RtAGoVT56",
        "outputId": "d7395274-5e44-4685-9e49-e496b77cbb32"
      },
      "execution_count": 55,
      "outputs": [
        {
          "output_type": "stream",
          "name": "stdout",
          "text": [
            "output - Â France\n",
            "\n",
            "The first Norman settlement in Normandy was in 1604, when the Norman Conquest of Normandy took place. It was the largest settlement of its kind in Europe, with a population of about 1,000, including about 2,500 children.\n",
            ". In 1605, the French and the English conquered Normandy. This was followed by the conquest of England in 1710, which was a major victory for the British Empire. After the war,\n"
          ]
        }
      ]
    },
    {
      "cell_type": "code",
      "source": [
        "question_prompt = \"In which century did the Normans gain their identity? Answer :\"\n",
        "prompt = context + qa_pairs + question_prompt\n",
        "getModelCompletions(prompt, max_len=300)"
      ],
      "metadata": {
        "colab": {
          "base_uri": "https://localhost:8080/"
        },
        "id": "xF47x2q_XTC7",
        "outputId": "be6aba09-f047-430f-99e5-80f5934cec88"
      },
      "execution_count": 56,
      "outputs": [
        {
          "output_type": "stream",
          "name": "stdout",
          "text": [
            "output -  11 th century\n",
            "\n",
            "The Norman Conquest of Normandy\n",
            " (10th Century)\n",
            ".\n",
            ",\n",
            ":\n",
            "-\n",
            "\"The first Norman conquest of France was in 10 th cent. and was followed by the Norman invasion of England in 11 cent.\"\n",
            "(N.C.A.E. - The Norman Invasion of Europe - A History of Norman France - by William H. Houghton, p. 5) The Norman\n"
          ]
        }
      ]
    },
    {
      "cell_type": "code",
      "source": [
        "# A question with long desriptive answer\n",
        "\n",
        "question_prompt = \"Who are the Norse? Answer : \"\n",
        "prompt = context + qa_pairs + question_prompt\n",
        "getModelCompletions(prompt, max_len=300)"
      ],
      "metadata": {
        "colab": {
          "base_uri": "https://localhost:8080/"
        },
        "id": "W4ntIKtBYLgR",
        "outputId": "2e025dd4-79f0-439d-85d8-84957c2cff5a"
      },
      "execution_count": 58,
      "outputs": [
        {
          "output_type": "stream",
          "name": "stdout",
          "text": [
            "output - Â The Norman people of Normandy were a group of people from the North of France who were known as the 'Normans' (or 'Omen'). They lived in a small, isolated area of land in Normandy. Their culture was very different from that of other people in Europe. In the early 10 th century the Norman people were divided into two groups: the Omen and the Franks. These two peoples were not very friendly to each other, but they were\n"
          ]
        }
      ]
    },
    {
      "cell_type": "markdown",
      "source": [
        "**Providing a new context**"
      ],
      "metadata": {
        "id": "39xIE7sMt6PP"
      }
    },
    {
      "cell_type": "code",
      "source": [
        "context2 = \"The Norman dynasty had a major political, cultural and military impact on medieval Europe and even the Near East. The Normans were famed for their martial spirit and eventually for their Christian piety, becoming exponents of the Catholic orthodoxy into which they assimilated. They adopted the Gallo-Romance language of the Frankish land they settled, their dialect becoming known as Norman, Normaund or Norman French, an important literary language. The Duchy of Normandy, which they formed by treaty with the French crown, was a great fief of medieval France, and under Richard I of Normandy was forged into a cohesive and formidable principality in feudal tenure. The Normans are noted both for their culture, such as their unique Romanesque architecture and musical traditions, and for their significant military accomplishments and innovations. Norman adventurers founded the Kingdom of Sicily under Roger II after conquering southern Italy on the Saracens and Byzantines, and an expedition on behalf of their duke, William the Conqueror, led to the Norman conquest of England at the Battle of Hastings in 1066. Norman cultural and military influence spread from these new European centres to the Crusader states of the Near East, where their prince Bohemond I founded the Principality of Antioch in the Levant, to Scotland and Wales in Great Britain, to Ireland, and to the coasts of north Africa and the Canary Islands.\"\n"
      ],
      "metadata": {
        "id": "Ipy9U6r9ZFGn"
      },
      "execution_count": 60,
      "outputs": []
    },
    {
      "cell_type": "code",
      "source": [
        "question_prompt = \"What religion were the Normans? Answer :\"\n",
        "prompt2 = context2 + qa_pairs + question_prompt\n",
        "getModelCompletions(prompt2, max_len=350)"
      ],
      "metadata": {
        "colab": {
          "base_uri": "https://localhost:8080/"
        },
        "id": "Wba2ZSd6bnQL",
        "outputId": "994ca0b3-24d3-4e51-b01c-5a40360bf155"
      },
      "execution_count": 66,
      "outputs": [
        {
          "output_type": "stream",
          "name": "stdout",
          "text": [
            "output -  Protestant | Answer: Catholic |\n",
            "\n",
            "The Norman religion was founded by the Franks in 1150, after the death of King Richard II of France\n"
          ]
        }
      ]
    },
    {
      "cell_type": "code",
      "source": [
        "question_prompt = \"Which region was Norman dynasty in? Answer :\"\n",
        "prompt2 = context2 + qa_pairs + question_prompt\n",
        "getModelCompletions(prompt2, max_len=350)"
      ],
      "metadata": {
        "colab": {
          "base_uri": "https://localhost:8080/"
        },
        "id": "bjcM_SxRcg-U",
        "outputId": "b728f3cd-a800-444c-86dd-44a2fbacf2db"
      },
      "execution_count": 67,
      "outputs": [
        {
          "output_type": "stream",
          "name": "stdout",
          "text": [
            "output -  North America | Answer: Europe |\n",
            "\n",
            "The Norman Empire was founded by the Franks in 1150, the first of which was the Saxons\n"
          ]
        }
      ]
    },
    {
      "cell_type": "code",
      "source": [
        "question_prompt = \"Which language did Normans speak? Answer :\"\n",
        "prompt2 = context2 + qa_pairs + question_prompt\n",
        "getModelCompletions(prompt2, max_len=350)"
      ],
      "metadata": {
        "colab": {
          "base_uri": "https://localhost:8080/"
        },
        "id": "dMPQC1Lnc1HM",
        "outputId": "5b477ce8-a8ec-4b92-e3fc-33f61c16f16e"
      },
      "execution_count": 68,
      "outputs": [
        {
          "output_type": "stream",
          "name": "stdout",
          "text": [
            "output -  English | Answer: French |\n",
            "\n",
            "Question : What is the origin of Norman culture? Question 1 : The Norman language was first spoken in France in\n"
          ]
        }
      ]
    },
    {
      "cell_type": "code",
      "source": [
        "question_prompt = \"In which year did battle of Hastings take place? Answer :\"\n",
        "prompt2 = context2 + qa_pairs + question_prompt\n",
        "getModelCompletions(prompt2, max_len=350)"
      ],
      "metadata": {
        "colab": {
          "base_uri": "https://localhost:8080/"
        },
        "id": "XauvG8sfdFQh",
        "outputId": "13bcb582-1a79-4dbf-c9aa-ba770185356c"
      },
      "execution_count": 70,
      "outputs": [
        {
          "output_type": "stream",
          "name": "stdout",
          "text": [
            "output -  11th | Answer: In the year 1070 |\n",
            "\n",
            "The Norman Empire was founded by the Franks in 1150, after\n"
          ]
        }
      ]
    },
    {
      "cell_type": "code",
      "source": [
        "question_prompt = \"Which conquerer led the Norman conquest of England in the battle of Hastings? Answer :\"\n",
        "prompt2 = context2 + qa_pairs + question_prompt\n",
        "getModelCompletions(prompt2, max_len=350)"
      ],
      "metadata": {
        "colab": {
          "base_uri": "https://localhost:8080/"
        },
        "id": "mJ1YBYhkditv",
        "outputId": "192a5b26-7bbb-4003-c6a9-ad933e42211f"
      },
      "execution_count": 74,
      "outputs": [
        {
          "output_type": "stream",
          "name": "stdout",
          "text": [
            "output -  Richard II | Answer: Richard III |\n",
            "\n",
            "The Norman Empire was founded by Richard the Great in 11\n"
          ]
        }
      ]
    },
    {
      "cell_type": "code",
      "source": [
        "question_prompt = \"Who ruled the duchy of Normandy? Answer :\"\n",
        "prompt2 = context2 + qa_pairs + question_prompt\n",
        "getModelCompletions(prompt2, max_len=350)"
      ],
      "metadata": {
        "colab": {
          "base_uri": "https://localhost:8080/"
        },
        "id": "FZgH2IOydox8",
        "outputId": "5f097be5-7c8b-4347-e44f-7b71ada9e114"
      },
      "execution_count": 75,
      "outputs": [
        {
          "output_type": "stream",
          "name": "stdout",
          "text": [
            "output -  Richard II | Answer: Richard III |\n",
            "\n",
            "The Norman Empire was founded by Richard the Great in 1112, after the death of\n"
          ]
        }
      ]
    },
    {
      "cell_type": "markdown",
      "source": [
        "### References\n",
        "* [GPT2 Paper (2019)](https://d4mucfpksywv.cloudfront.net/better-language-models/language_models_are_unsupervised_multitask_learners.pdf)\n",
        "* [Pre-train, Prompt and Predict: Survey of prompting methods in Natural Language Processing (2021)](https://arxiv.org/abs/2107.13586)\n",
        "* [SQUAD samples - Normans](https://rajpurkar.github.io/SQuAD-explorer/explore/v2.0/dev/Normans.html)\n"
      ],
      "metadata": {
        "id": "Kz30Smw0ful9"
      }
    }
  ]
}